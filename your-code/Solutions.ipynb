{
 "cells": [
  {
   "cell_type": "markdown",
   "metadata": {
    "toc": true
   },
   "source": [
    "<h1>Table of Contents<span class=\"tocSkip\"></span></h1>\n",
    "<div class=\"toc\"><ul class=\"toc-item\"><li><span><a href=\"#Challenge-1:-Tuples\" data-toc-modified-id=\"Challenge-1:-Tuples-1\"><span class=\"toc-item-num\">1&nbsp;&nbsp;</span>Challenge 1: Tuples</a></span><ul class=\"toc-item\"><li><ul class=\"toc-item\"><li><span><a href=\"#Do-you-know-you-can-create-tuples-with-only-one-element?\" data-toc-modified-id=\"Do-you-know-you-can-create-tuples-with-only-one-element?-1.0.1\"><span class=\"toc-item-num\">1.0.1&nbsp;&nbsp;</span>Do you know you can create tuples with only one element?</a></span></li><li><span><a href=\"#Print-the-type-of-tup.\" data-toc-modified-id=\"Print-the-type-of-tup.-1.0.2\"><span class=\"toc-item-num\">1.0.2&nbsp;&nbsp;</span>Print the type of <code>tup</code>.</a></span></li><li><span><a href=\"#Now-try-to-append-the-following-elements-to-tup.\" data-toc-modified-id=\"Now-try-to-append-the-following-elements-to-tup.-1.0.3\"><span class=\"toc-item-num\">1.0.3&nbsp;&nbsp;</span>Now try to append the following elements to <code>tup</code>.</a></span></li><li><span><a href=\"#How-about-re-assign-a-new-value-to-an-existing-tuple?\" data-toc-modified-id=\"How-about-re-assign-a-new-value-to-an-existing-tuple?-1.0.4\"><span class=\"toc-item-num\">1.0.4&nbsp;&nbsp;</span>How about re-assign a new value to an existing tuple?</a></span></li><li><span><a href=\"#Split-tup-into-tup1-and-tup2-with-4-elements-in-each.\" data-toc-modified-id=\"Split-tup-into-tup1-and-tup2-with-4-elements-in-each.-1.0.5\"><span class=\"toc-item-num\">1.0.5&nbsp;&nbsp;</span>Split <code>tup</code> into <code>tup1</code> and <code>tup2</code> with 4 elements in each.</a></span></li><li><span><a href=\"#Add-tup1-and-tup2-into-tup3-using-the-+-operator.\" data-toc-modified-id=\"Add-tup1-and-tup2-into-tup3-using-the-+-operator.-1.0.6\"><span class=\"toc-item-num\">1.0.6&nbsp;&nbsp;</span>Add <code>tup1</code> and <code>tup2</code> into <code>tup3</code> using the <code>+</code> operator.</a></span></li><li><span><a href=\"#Count-the-number-of-elements-in-tup1-and-tup2.-Then-add-the-two-counts-together-and-check-if-the-sum-is-the-same-as-the-number-of-elements-in-tup3.\" data-toc-modified-id=\"Count-the-number-of-elements-in-tup1-and-tup2.-Then-add-the-two-counts-together-and-check-if-the-sum-is-the-same-as-the-number-of-elements-in-tup3.-1.0.7\"><span class=\"toc-item-num\">1.0.7&nbsp;&nbsp;</span>Count the number of elements in <code>tup1</code> and <code>tup2</code>. Then add the two counts together and check if the sum is the same as the number of elements in <code>tup3</code>.</a></span></li><li><span><a href=\"#What-is-the-index-number-of-&quot;h&quot;-in-tup3?\" data-toc-modified-id=\"What-is-the-index-number-of-&quot;h&quot;-in-tup3?-1.0.8\"><span class=\"toc-item-num\">1.0.8&nbsp;&nbsp;</span>What is the index number of <code>\"h\"</code> in <code>tup3</code>?</a></span></li><li><span><a href=\"#Now,-use-a-FOR-loop-to-check-whether-each-letter-in-the-following-list-is-present-in-tup3:\" data-toc-modified-id=\"Now,-use-a-FOR-loop-to-check-whether-each-letter-in-the-following-list-is-present-in-tup3:-1.0.9\"><span class=\"toc-item-num\">1.0.9&nbsp;&nbsp;</span>Now, use a FOR loop to check whether each letter in the following list is present in <code>tup3</code>:</a></span></li><li><span><a href=\"#How-many-times-does-each-letter-in-letters-appear-in-tup3?\" data-toc-modified-id=\"How-many-times-does-each-letter-in-letters-appear-in-tup3?-1.0.10\"><span class=\"toc-item-num\">1.0.10&nbsp;&nbsp;</span>How many times does each letter in <code>letters</code> appear in <code>tup3</code>?</a></span></li></ul></li></ul></li><li><span><a href=\"#Challenge-2:-Sets\" data-toc-modified-id=\"Challenge-2:-Sets-2\"><span class=\"toc-item-num\">2&nbsp;&nbsp;</span>Challenge 2: Sets</a></span><ul class=\"toc-item\"><li><ul class=\"toc-item\"><li><span><a href=\"#First,-import-the-Python-random-library.\" data-toc-modified-id=\"First,-import-the-Python-random-library.-2.0.1\"><span class=\"toc-item-num\">2.0.1&nbsp;&nbsp;</span>First, import the Python <code>random</code> library.</a></span></li><li><span><a href=\"#In-the-cell-below,-create-a-list-named-sample_list_1-with-80-random-values.\" data-toc-modified-id=\"In-the-cell-below,-create-a-list-named-sample_list_1-with-80-random-values.-2.0.2\"><span class=\"toc-item-num\">2.0.2&nbsp;&nbsp;</span>In the cell below, create a list named <code>sample_list_1</code> with 80 random values.</a></span></li><li><span><a href=\"#Convert-sample_list_1-to-a-set-called-set1.-Print-the-length-of-the-set.-Is-its-length-still-80?\" data-toc-modified-id=\"Convert-sample_list_1-to-a-set-called-set1.-Print-the-length-of-the-set.-Is-its-length-still-80?-2.0.3\"><span class=\"toc-item-num\">2.0.3&nbsp;&nbsp;</span>Convert <code>sample_list_1</code> to a set called <code>set1</code>. Print the length of the set. Is its length still 80?</a></span></li><li><span><a href=\"#Create-another-list-named-sample_list_2-with-80-random-values.\" data-toc-modified-id=\"Create-another-list-named-sample_list_2-with-80-random-values.-2.0.4\"><span class=\"toc-item-num\">2.0.4&nbsp;&nbsp;</span>Create another list named <code>sample_list_2</code> with 80 random values.</a></span></li><li><span><a href=\"#Convert-sample_list_2-to-a-set-called-set2.-Print-the-length-of-the-set.-Is-its-length-still-80?\" data-toc-modified-id=\"Convert-sample_list_2-to-a-set-called-set2.-Print-the-length-of-the-set.-Is-its-length-still-80?-2.0.5\"><span class=\"toc-item-num\">2.0.5&nbsp;&nbsp;</span>Convert <code>sample_list_2</code> to a set called <code>set2</code>. Print the length of the set. Is its length still 80?</a></span></li><li><span><a href=\"#Identify-the-elements-present-in-set1-but-not-in-set2.-Assign-the-elements-to-a-new-set-named-set3.\" data-toc-modified-id=\"Identify-the-elements-present-in-set1-but-not-in-set2.-Assign-the-elements-to-a-new-set-named-set3.-2.0.6\"><span class=\"toc-item-num\">2.0.6&nbsp;&nbsp;</span>Identify the elements present in <code>set1</code> but not in <code>set2</code>. Assign the elements to a new set named <code>set3</code>.</a></span></li><li><span><a href=\"#Identify-the-elements-present-in-set2-but-not-in-set1.-Assign-the-elements-to-a-new-set-named-set4.\" data-toc-modified-id=\"Identify-the-elements-present-in-set2-but-not-in-set1.-Assign-the-elements-to-a-new-set-named-set4.-2.0.7\"><span class=\"toc-item-num\">2.0.7&nbsp;&nbsp;</span>Identify the elements present in <code>set2</code> but not in <code>set1</code>. Assign the elements to a new set named <code>set4</code>.</a></span></li><li><span><a href=\"#Now-Identify-the-elements-shared-between-set1-and-set2.-Assign-the-elements-to-a-new-set-named-set5.\" data-toc-modified-id=\"Now-Identify-the-elements-shared-between-set1-and-set2.-Assign-the-elements-to-a-new-set-named-set5.-2.0.8\"><span class=\"toc-item-num\">2.0.8&nbsp;&nbsp;</span>Now Identify the elements shared between <code>set1</code> and <code>set2</code>. Assign the elements to a new set named <code>set5</code>.</a></span></li><li><span><a href=\"#What-is-the-relationship-among-the-following-values:\" data-toc-modified-id=\"What-is-the-relationship-among-the-following-values:-2.0.9\"><span class=\"toc-item-num\">2.0.9&nbsp;&nbsp;</span>What is the relationship among the following values:</a></span></li><li><span><a href=\"#Create-an-empty-set-called-set6.\" data-toc-modified-id=\"Create-an-empty-set-called-set6.-2.0.10\"><span class=\"toc-item-num\">2.0.10&nbsp;&nbsp;</span>Create an empty set called <code>set6</code>.</a></span></li><li><span><a href=\"#Add-set3-and-set5-to-set6-using-the-Python-Set-update-method.\" data-toc-modified-id=\"Add-set3-and-set5-to-set6-using-the-Python-Set-update-method.-2.0.11\"><span class=\"toc-item-num\">2.0.11&nbsp;&nbsp;</span>Add <code>set3</code> and <code>set5</code> to <code>set6</code> using the Python Set <code>update</code> method.</a></span></li><li><span><a href=\"#Check-if-set1-and-set6-are-equal.\" data-toc-modified-id=\"Check-if-set1-and-set6-are-equal.-2.0.12\"><span class=\"toc-item-num\">2.0.12&nbsp;&nbsp;</span>Check if <code>set1</code> and <code>set6</code> are equal.</a></span></li><li><span><a href=\"#Check-if-set1-contains-set2-using-the-Python-Set-issubset-method.-Then-check-if-set1-contains-set3.*\" data-toc-modified-id=\"Check-if-set1-contains-set2-using-the-Python-Set-issubset-method.-Then-check-if-set1-contains-set3.*-2.0.13\"><span class=\"toc-item-num\">2.0.13&nbsp;&nbsp;</span>Check if <code>set1</code> contains <code>set2</code> using the Python Set <code>issubset</code> method. Then check if <code>set1</code> contains <code>set3</code>.*</a></span></li><li><span><a href=\"#Using-the-Python-Set-union-method,-aggregate-set3,-set4,-and-set5.-Then-aggregate-set1-and-set2.\" data-toc-modified-id=\"Using-the-Python-Set-union-method,-aggregate-set3,-set4,-and-set5.-Then-aggregate-set1-and-set2.-2.0.14\"><span class=\"toc-item-num\">2.0.14&nbsp;&nbsp;</span>Using the Python Set <code>union</code> method, aggregate <code>set3</code>, <code>set4</code>, and <code>set5</code>. Then aggregate <code>set1</code> and <code>set2</code>.</a></span></li><li><span><a href=\"#Check-if-the-aggregated-values-are-equal.\" data-toc-modified-id=\"Check-if-the-aggregated-values-are-equal.-2.0.15\"><span class=\"toc-item-num\">2.0.15&nbsp;&nbsp;</span>Check if the aggregated values are equal.</a></span></li><li><span><a href=\"#Using-the-pop-method,-remove-the-first-element-from-set1.\" data-toc-modified-id=\"Using-the-pop-method,-remove-the-first-element-from-set1.-2.0.16\"><span class=\"toc-item-num\">2.0.16&nbsp;&nbsp;</span>Using the <code>pop</code> method, remove the first element from <code>set1</code>.</a></span></li><li><span><a href=\"#Remove-every-element-in-the-following-list-from-set1-if-they-are-present-in-the-set.-Print-the-remaining-elements.\" data-toc-modified-id=\"Remove-every-element-in-the-following-list-from-set1-if-they-are-present-in-the-set.-Print-the-remaining-elements.-2.0.17\"><span class=\"toc-item-num\">2.0.17&nbsp;&nbsp;</span>Remove every element in the following list from <code>set1</code> if they are present in the set. Print the remaining elements.</a></span></li></ul></li></ul></li><li><span><a href=\"#Challenge-3:-Dictionaries\" data-toc-modified-id=\"Challenge-3:-Dictionaries-3\"><span class=\"toc-item-num\">3&nbsp;&nbsp;</span>Challenge 3: Dictionaries</a></span><ul class=\"toc-item\"><li><ul class=\"toc-item\"><li><span><a href=\"#Sort-the-keys-of-word_freq-ascendingly.\" data-toc-modified-id=\"Sort-the-keys-of-word_freq-ascendingly.-3.0.1\"><span class=\"toc-item-num\">3.0.1&nbsp;&nbsp;</span>Sort the keys of <code>word_freq</code> ascendingly.</a></span></li><li><span><a href=\"#Sort-the-values-of-word_freq-ascendingly.\" data-toc-modified-id=\"Sort-the-values-of-word_freq-ascendingly.-3.0.2\"><span class=\"toc-item-num\">3.0.2&nbsp;&nbsp;</span>Sort the values of <code>word_freq</code> ascendingly.</a></span></li></ul></li></ul></li></ul></div>"
   ]
  },
  {
   "cell_type": "markdown",
   "metadata": {},
   "source": [
    "## Challenge 1: Tuples\n",
    "\n",
    "#### Do you know you can create tuples with only one element?\n",
    "\n",
    "**In the cell below, define a variable `tup` with a single element `\"I\"`.**\n",
    "\n",
    "*Hint: you need to add a comma (`,`) after the single element.*"
   ]
  },
  {
   "cell_type": "code",
   "execution_count": 7,
   "metadata": {},
   "outputs": [],
   "source": [
    "tup=(\"I\",)\n"
   ]
  },
  {
   "cell_type": "markdown",
   "metadata": {},
   "source": [
    "#### Print the type of `tup`. \n",
    "\n",
    "Make sure its type is correct (i.e. *tuple* instead of *str*)."
   ]
  },
  {
   "cell_type": "code",
   "execution_count": 8,
   "metadata": {},
   "outputs": [
    {
     "data": {
      "text/plain": "tuple"
     },
     "execution_count": 8,
     "metadata": {},
     "output_type": "execute_result"
    }
   ],
   "source": [
    "type(tup)"
   ]
  },
  {
   "cell_type": "markdown",
   "metadata": {},
   "source": [
    "#### Now try to append the following elements to `tup`. \n",
    "\n",
    "Are you able to do it? Explain.\n",
    "\n",
    "```\n",
    "\"r\", \"o\", \"n\", \"h\", \"a\", \"c\", \"k',\n",
    "```"
   ]
  },
  {
   "cell_type": "code",
   "execution_count": 9,
   "metadata": {},
   "outputs": [
    {
     "ename": "AttributeError",
     "evalue": "'tuple' object has no attribute 'append'",
     "output_type": "error",
     "traceback": [
      "\u001B[1;31m---------------------------------------------------------------------------\u001B[0m",
      "\u001B[1;31mAttributeError\u001B[0m                            Traceback (most recent call last)",
      "\u001B[1;32mC:\\Users\\PLATER~1\\AppData\\Local\\Temp/ipykernel_12820/1076158881.py\u001B[0m in \u001B[0;36m<module>\u001B[1;34m\u001B[0m\n\u001B[1;32m----> 1\u001B[1;33m \u001B[0mtup\u001B[0m\u001B[1;33m.\u001B[0m\u001B[0mappend\u001B[0m\u001B[1;33m(\u001B[0m\u001B[1;34m\"r\"\u001B[0m\u001B[1;33m,\u001B[0m \u001B[1;34m\"o\"\u001B[0m\u001B[1;33m,\u001B[0m \u001B[1;34m\"n\"\u001B[0m\u001B[1;33m,\u001B[0m \u001B[1;34m\"h\"\u001B[0m\u001B[1;33m,\u001B[0m \u001B[1;34m\"a\"\u001B[0m\u001B[1;33m,\u001B[0m \u001B[1;34m\"c\"\u001B[0m\u001B[1;33m,\u001B[0m \u001B[1;34m\"k\"\u001B[0m\u001B[1;33m,\u001B[0m\u001B[1;33m)\u001B[0m\u001B[1;33m\u001B[0m\u001B[1;33m\u001B[0m\u001B[0m\n\u001B[0m\u001B[0;32m      2\u001B[0m \u001B[1;33m\u001B[0m\u001B[0m\n\u001B[0;32m      3\u001B[0m \u001B[1;34m\"No es posible ya que las tuplas son inmutables\"\u001B[0m\u001B[1;33m\u001B[0m\u001B[1;33m\u001B[0m\u001B[0m\n\u001B[0;32m      4\u001B[0m \u001B[1;33m\u001B[0m\u001B[0m\n",
      "\u001B[1;31mAttributeError\u001B[0m: 'tuple' object has no attribute 'append'"
     ]
    }
   ],
   "source": [
    "tup.append(\"r\", \"o\", \"n\", \"h\", \"a\", \"c\", \"k\",)\n",
    "\n",
    "\"No es posible ya que las tuplas son inmutables\"\n"
   ]
  },
  {
   "cell_type": "markdown",
   "metadata": {},
   "source": [
    "#### How about re-assign a new value to an existing tuple?\n",
    "\n",
    "Re-assign the following elements to `tup`. Are you able to do it? Explain.\n",
    "\n",
    "```\n",
    "\"I\", \"r\", \"o\", \"n\", \"h\", \"a\", \"c\", \"k\"\n",
    "```"
   ]
  },
  {
   "cell_type": "code",
   "execution_count": 10,
   "metadata": {},
   "outputs": [
    {
     "ename": "TypeError",
     "evalue": "'tuple' object does not support item assignment",
     "output_type": "error",
     "traceback": [
      "\u001B[1;31m---------------------------------------------------------------------------\u001B[0m",
      "\u001B[1;31mTypeError\u001B[0m                                 Traceback (most recent call last)",
      "\u001B[1;32mC:\\Users\\PLATER~1\\AppData\\Local\\Temp/ipykernel_12820/823123100.py\u001B[0m in \u001B[0;36m<module>\u001B[1;34m\u001B[0m\n\u001B[1;32m----> 1\u001B[1;33m \u001B[0mtup\u001B[0m\u001B[1;33m[\u001B[0m\u001B[1;36m0\u001B[0m\u001B[1;33m]\u001B[0m\u001B[1;33m=\u001B[0m\u001B[1;34m\"I\"\u001B[0m\u001B[1;33m\u001B[0m\u001B[1;33m\u001B[0m\u001B[0m\n\u001B[0m\u001B[0;32m      2\u001B[0m \u001B[0mtup\u001B[0m\u001B[1;33m[\u001B[0m\u001B[1;36m1\u001B[0m\u001B[1;33m]\u001B[0m\u001B[1;33m=\u001B[0m\u001B[1;34m\"r\"\u001B[0m\u001B[1;33m\u001B[0m\u001B[1;33m\u001B[0m\u001B[0m\n\u001B[0;32m      3\u001B[0m \u001B[0mtup\u001B[0m\u001B[1;33m[\u001B[0m\u001B[1;36m2\u001B[0m\u001B[1;33m]\u001B[0m\u001B[1;33m=\u001B[0m\u001B[1;34m\"o\"\u001B[0m\u001B[1;33m\u001B[0m\u001B[1;33m\u001B[0m\u001B[0m\n\u001B[0;32m      4\u001B[0m \u001B[0mtup\u001B[0m\u001B[1;33m[\u001B[0m\u001B[1;36m3\u001B[0m\u001B[1;33m]\u001B[0m\u001B[1;33m=\u001B[0m\u001B[1;34m\"n\"\u001B[0m\u001B[1;33m\u001B[0m\u001B[1;33m\u001B[0m\u001B[0m\n\u001B[0;32m      5\u001B[0m \u001B[0mtup\u001B[0m\u001B[1;33m[\u001B[0m\u001B[1;36m4\u001B[0m\u001B[1;33m]\u001B[0m\u001B[1;33m=\u001B[0m\u001B[1;34m\"h\"\u001B[0m\u001B[1;33m\u001B[0m\u001B[1;33m\u001B[0m\u001B[0m\n",
      "\u001B[1;31mTypeError\u001B[0m: 'tuple' object does not support item assignment"
     ]
    }
   ],
   "source": [
    "tup[0]=\"I\" \n",
    "tup[1]=\"r\"\n",
    "tup[2]=\"o\"\n",
    "tup[3]=\"n\"\n",
    "tup[4]=\"h\"\n",
    "tup[5]=\"a\"\n",
    "tup[6]=\"c\"\n",
    "tup[7]=\"k\"\n",
    "\n",
    "\"\"\"No es posible ya que las tuplas son inmutables, necesitariamos crear una nueva para poder hacerlo, \n",
    "sin embargo existe la posibilidad de hacerlo pasando la tupla a una lista y volviendolo a convertir en una tupla\"\"\"\n"
   ]
  },
  {
   "cell_type": "markdown",
   "metadata": {},
   "source": [
    "#### Split `tup` into `tup1` and `tup2` with 4 elements in each. \n",
    "\n",
    "`tup1` should be `(\"I\", \"r\", \"o\", \"n\")` and `tup2` should be `(\"h\", \"a\", \"c\", \"k\")`.\n",
    "\n",
    "*Hint: use positive index numbers for `tup1` assignment and use negative index numbers for `tup2` assignment. Positive index numbers count from the beginning whereas negative index numbers count from the end of the sequence.*\n",
    "\n",
    "Also print `tup1` and `tup2`."
   ]
  },
  {
   "cell_type": "code",
   "execution_count": 11,
   "metadata": {},
   "outputs": [
    {
     "name": "stdout",
     "output_type": "stream",
     "text": [
      "('I', 'r', 'o', 'n')\n",
      "('h', 'a', 'c', 'k')\n"
     ]
    }
   ],
   "source": [
    "tup = (\"I\", \"r\", \"o\", \"n\", \"h\", \"a\", \"c\", \"k\")\n",
    "\n",
    "tup1 = tup[:4]\n",
    "\n",
    "tup2 = tup[-4:]\n",
    "\n",
    "print(tup1)\n",
    "\n",
    "print(tup2)\n"
   ]
  },
  {
   "cell_type": "markdown",
   "metadata": {},
   "source": [
    "#### Add `tup1` and `tup2` into `tup3` using the `+` operator.\n",
    "\n",
    "Then print `tup3` and check if `tup3` equals to `tup`."
   ]
  },
  {
   "cell_type": "code",
   "execution_count": 12,
   "metadata": {},
   "outputs": [
    {
     "name": "stdout",
     "output_type": "stream",
     "text": [
      "('I', 'r', 'o', 'n', 'h', 'a', 'c', 'k')\n",
      "Efectiviwonder, es igual que tup\n"
     ]
    }
   ],
   "source": [
    "tup3 = tup1+tup2\n",
    "\n",
    "print(tup3)\n",
    "\n",
    "if tup3==tup:\n",
    "    \n",
    "    print(\"Efectiviwonder, es igual que tup\")"
   ]
  },
  {
   "cell_type": "markdown",
   "metadata": {},
   "source": [
    "#### Count the number of elements in `tup1` and `tup2`. Then add the two counts together and check if the sum is the same as the number of elements in `tup3`."
   ]
  },
  {
   "cell_type": "code",
   "execution_count": 13,
   "metadata": {},
   "outputs": [
    {
     "name": "stdout",
     "output_type": "stream",
     "text": [
      "tup1 4 tup2 4\n",
      "Elemental mi querida tupla\n"
     ]
    }
   ],
   "source": [
    "tup1count = len(tup1)\n",
    "\n",
    "tup2count = len(tup2)\n",
    "\n",
    "print(\"tup1\", tup1count, \"tup2\", tup2count)\n",
    "\n",
    "tup3count = len(tup3)\n",
    "\n",
    "if tup1count+tup2count==tup3count:\n",
    "    \n",
    "    print(\"Elemental mi querida tupla\")\n"
   ]
  },
  {
   "cell_type": "markdown",
   "metadata": {},
   "source": [
    "#### What is the index number of `\"h\"` in `tup3`?"
   ]
  },
  {
   "cell_type": "code",
   "execution_count": 15,
   "metadata": {},
   "outputs": [
    {
     "name": "stdout",
     "output_type": "stream",
     "text": [
      "4\n"
     ]
    }
   ],
   "source": [
    "print(tup3.index(\"h\"))"
   ]
  },
  {
   "cell_type": "markdown",
   "metadata": {},
   "source": [
    "#### Now, use a FOR loop to check whether each letter in the following list is present in `tup3`:\n",
    "\n",
    "```\n",
    "letters = [\"a\", \"b\", \"c\", \"d\", \"e\"]\n",
    "```\n",
    "\n",
    "For each letter you check, print `True` if it is present in `tup3` otherwise print `False`.\n",
    "\n",
    "*Hint: you only need to loop `letters`. You don't need to loop `tup3` because there is a Python operator `in` you can use. See [reference](https://stackoverflow.com/questions/17920147/how-to-check-if-a-tuple-contains-an-element-in-python).*"
   ]
  },
  {
   "cell_type": "code",
   "execution_count": 17,
   "metadata": {},
   "outputs": [
    {
     "name": "stdout",
     "output_type": "stream",
     "text": [
      "True\n",
      "False\n",
      "True\n",
      "False\n",
      "False\n"
     ]
    }
   ],
   "source": [
    "letters= [\"a\", \"b\", \"c\", \"d\", \"e\"]\n",
    "\n",
    "for letter in letters:\n",
    "\n",
    "    if letter in tup3:\n",
    "\n",
    "        print(True)\n",
    "\n",
    "    else:\n",
    "\n",
    "        print(False)\n"
   ]
  },
  {
   "cell_type": "markdown",
   "metadata": {},
   "source": [
    "#### How many times does each letter in `letters` appear in `tup3`?\n",
    "\n",
    "Print out the number of occurrence of each letter."
   ]
  },
  {
   "cell_type": "code",
   "execution_count": 18,
   "metadata": {},
   "outputs": [
    {
     "name": "stdout",
     "output_type": "stream",
     "text": [
      "a1\n",
      "b0\n",
      "c1\n",
      "d0\n",
      "e0\n"
     ]
    }
   ],
   "source": [
    "for letter in letters:\n",
    "    print(letter + str(tup3.count(letter)))\n"
   ]
  },
  {
   "cell_type": "markdown",
   "metadata": {},
   "source": [
    "## Challenge 2: Sets\n",
    "\n",
    "There are a lot to learn about Python Sets and the information presented in the lesson is limited due to its length. To learn Python Sets in depth you are strongly encouraged to review the W3Schools tutorial on [Python Sets Examples and Methods](https://www.w3schools.com/python/python_sets.asp) before you work on this lab. Some difficult questions in this lab have their solutions in the W3Schools tutorial.\n",
    "\n",
    "#### First, import the Python `random` library."
   ]
  },
  {
   "cell_type": "code",
   "execution_count": 19,
   "metadata": {},
   "outputs": [],
   "source": [
    "import random"
   ]
  },
  {
   "cell_type": "markdown",
   "metadata": {},
   "source": [
    "#### In the cell below, create a list named `sample_list_1` with 80 random values. \n",
    "\n",
    "Requirements:\n",
    "\n",
    "* Each value is an integer falling between 0 and 100.\n",
    "* Each value in the list is unique.\n",
    "\n",
    "Print `sample_list_1` to review its values\n",
    "\n",
    "*Hint: use `random.sample` ([reference](https://docs.python.org/3/library/random.html#random.sample)).*"
   ]
  },
  {
   "cell_type": "code",
   "execution_count": 30,
   "metadata": {},
   "outputs": [
    {
     "name": "stdout",
     "output_type": "stream",
     "text": [
      "[84, 44, 136, 73, 34, 40, 4, 5, 56, 93, 135, 33, 51, 141, 35, 127, 8, 86, 128, 81, 61, 131, 72, 88, 142, 74, 76, 64, 85, 112, 116, 90, 23, 12, 17, 58, 133, 148, 92, 21, 50, 103, 49, 38, 15, 117, 31, 95, 110, 60, 22, 69, 100, 115, 10, 55, 54, 125, 147, 18, 134, 42, 121, 137, 66, 89, 105, 27, 9, 63, 41, 13, 106, 3, 43, 122, 146, 25, 26, 80]\n"
     ]
    }
   ],
   "source": [
    "sample_list_1 = random.sample(range(150), k = 80)\n",
    "print(sample_list_1)"
   ]
  },
  {
   "cell_type": "markdown",
   "metadata": {},
   "source": [
    "#### Convert `sample_list_1` to a set called `set1`. Print the length of the set. Is its length still 80?"
   ]
  },
  {
   "cell_type": "code",
   "execution_count": 31,
   "metadata": {},
   "outputs": [
    {
     "name": "stdout",
     "output_type": "stream",
     "text": [
      "80\n"
     ]
    }
   ],
   "source": [
    "set1 = set(sample_list_1)\n",
    "print(len(sample_list_1))"
   ]
  },
  {
   "cell_type": "markdown",
   "metadata": {},
   "source": [
    "#### Create another list named `sample_list_2` with 80 random values.\n",
    "\n",
    "Requirements:\n",
    "\n",
    "* Each value is an integer falling between 0 and 100.\n",
    "* The values in the list don't have to be unique.\n",
    "\n",
    "*Hint: Use a FOR loop.*"
   ]
  },
  {
   "cell_type": "code",
   "execution_count": 41,
   "metadata": {},
   "outputs": [
    {
     "name": "stdout",
     "output_type": "stream",
     "text": [
      "[55, 1, 84, 147, 144, 38, 110, 126, 143, 48]\n",
      "10\n",
      "[55, 1, 84, 147, 144, 38, 110, 126, 143, 48, 127, 5, 111, 145, 32, 142, 138, 146, 60, 10]\n",
      "20\n",
      "[55, 1, 84, 147, 144, 38, 110, 126, 143, 48, 127, 5, 111, 145, 32, 142, 138, 146, 60, 10, 70, 8, 68, 98, 148, 130, 86, 72, 109, 66]\n",
      "30\n",
      "[55, 1, 84, 147, 144, 38, 110, 126, 143, 48, 127, 5, 111, 145, 32, 142, 138, 146, 60, 10, 70, 8, 68, 98, 148, 130, 86, 72, 109, 66, 73, 116, 54, 130, 95, 82, 36, 16, 122, 49]\n",
      "40\n",
      "[55, 1, 84, 147, 144, 38, 110, 126, 143, 48, 127, 5, 111, 145, 32, 142, 138, 146, 60, 10, 70, 8, 68, 98, 148, 130, 86, 72, 109, 66, 73, 116, 54, 130, 95, 82, 36, 16, 122, 49, 39, 16, 48, 117, 40, 49, 134, 72, 77, 66]\n",
      "50\n",
      "[55, 1, 84, 147, 144, 38, 110, 126, 143, 48, 127, 5, 111, 145, 32, 142, 138, 146, 60, 10, 70, 8, 68, 98, 148, 130, 86, 72, 109, 66, 73, 116, 54, 130, 95, 82, 36, 16, 122, 49, 39, 16, 48, 117, 40, 49, 134, 72, 77, 66, 14, 96, 18, 39, 144, 58, 61, 33, 123, 142]\n",
      "60\n",
      "[55, 1, 84, 147, 144, 38, 110, 126, 143, 48, 127, 5, 111, 145, 32, 142, 138, 146, 60, 10, 70, 8, 68, 98, 148, 130, 86, 72, 109, 66, 73, 116, 54, 130, 95, 82, 36, 16, 122, 49, 39, 16, 48, 117, 40, 49, 134, 72, 77, 66, 14, 96, 18, 39, 144, 58, 61, 33, 123, 142, 90, 148, 55, 141, 16, 82, 72, 113, 127, 26]\n",
      "70\n",
      "[55, 1, 84, 147, 144, 38, 110, 126, 143, 48, 127, 5, 111, 145, 32, 142, 138, 146, 60, 10, 70, 8, 68, 98, 148, 130, 86, 72, 109, 66, 73, 116, 54, 130, 95, 82, 36, 16, 122, 49, 39, 16, 48, 117, 40, 49, 134, 72, 77, 66, 14, 96, 18, 39, 144, 58, 61, 33, 123, 142, 90, 148, 55, 141, 16, 82, 72, 113, 127, 26, 143, 90, 40, 86, 97, 17, 31, 120, 117, 134]\n",
      "80\n",
      "[55, 1, 84, 147, 144, 38, 110, 126, 143, 48, 127, 5, 111, 145, 32, 142, 138, 146, 60, 10, 70, 8, 68, 98, 148, 130, 86, 72, 109, 66, 73, 116, 54, 130, 95, 82, 36, 16, 122, 49, 39, 16, 48, 117, 40, 49, 134, 72, 77, 66, 14, 96, 18, 39, 144, 58, 61, 33, 123, 142, 90, 148, 55, 141, 16, 82, 72, 113, 127, 26, 143, 90, 40, 86, 97, 17, 31, 120, 117, 134, 54, 125, 4, 102, 52, 27, 74, 142, 138, 46]\n",
      "90\n",
      "[55, 1, 84, 147, 144, 38, 110, 126, 143, 48, 127, 5, 111, 145, 32, 142, 138, 146, 60, 10, 70, 8, 68, 98, 148, 130, 86, 72, 109, 66, 73, 116, 54, 130, 95, 82, 36, 16, 122, 49, 39, 16, 48, 117, 40, 49, 134, 72, 77, 66, 14, 96, 18, 39, 144, 58, 61, 33, 123, 142, 90, 148, 55, 141, 16, 82, 72, 113, 127, 26, 143, 90, 40, 86, 97, 17, 31, 120, 117, 134, 54, 125, 4, 102, 52, 27, 74, 142, 138, 46, 8, 116, 13, 64, 95, 6, 103, 74, 89, 72]\n",
      "100\n",
      "[55, 1, 84, 147, 144, 38, 110, 126, 143, 48, 127, 5, 111, 145, 32, 142, 138, 146, 60, 10, 70, 8, 68, 98, 148, 130, 86, 72, 109, 66, 73, 116, 54, 130, 95, 82, 36, 16, 122, 49, 39, 16, 48, 117, 40, 49, 134, 72, 77, 66, 14, 96, 18, 39, 144, 58, 61, 33, 123, 142, 90, 148, 55, 141, 16, 82, 72, 113, 127, 26, 143, 90, 40, 86, 97, 17, 31, 120, 117, 134, 54, 125, 4, 102, 52, 27, 74, 142, 138, 46, 8, 116, 13, 64, 95, 6, 103, 74, 89, 72, 96, 100, 12, 31, 70, 97, 52, 106, 49, 95]\n",
      "110\n",
      "[55, 1, 84, 147, 144, 38, 110, 126, 143, 48, 127, 5, 111, 145, 32, 142, 138, 146, 60, 10, 70, 8, 68, 98, 148, 130, 86, 72, 109, 66, 73, 116, 54, 130, 95, 82, 36, 16, 122, 49, 39, 16, 48, 117, 40, 49, 134, 72, 77, 66, 14, 96, 18, 39, 144, 58, 61, 33, 123, 142, 90, 148, 55, 141, 16, 82, 72, 113, 127, 26, 143, 90, 40, 86, 97, 17, 31, 120, 117, 134, 54, 125, 4, 102, 52, 27, 74, 142, 138, 46, 8, 116, 13, 64, 95, 6, 103, 74, 89, 72, 96, 100, 12, 31, 70, 97, 52, 106, 49, 95, 43, 61, 23, 140, 26, 148, 74, 112, 70, 51]\n",
      "120\n",
      "[55, 1, 84, 147, 144, 38, 110, 126, 143, 48, 127, 5, 111, 145, 32, 142, 138, 146, 60, 10, 70, 8, 68, 98, 148, 130, 86, 72, 109, 66, 73, 116, 54, 130, 95, 82, 36, 16, 122, 49, 39, 16, 48, 117, 40, 49, 134, 72, 77, 66, 14, 96, 18, 39, 144, 58, 61, 33, 123, 142, 90, 148, 55, 141, 16, 82, 72, 113, 127, 26, 143, 90, 40, 86, 97, 17, 31, 120, 117, 134, 54, 125, 4, 102, 52, 27, 74, 142, 138, 46, 8, 116, 13, 64, 95, 6, 103, 74, 89, 72, 96, 100, 12, 31, 70, 97, 52, 106, 49, 95, 43, 61, 23, 140, 26, 148, 74, 112, 70, 51, 80, 10, 60, 118, 77, 53, 47, 69, 11, 78]\n",
      "130\n",
      "[55, 1, 84, 147, 144, 38, 110, 126, 143, 48, 127, 5, 111, 145, 32, 142, 138, 146, 60, 10, 70, 8, 68, 98, 148, 130, 86, 72, 109, 66, 73, 116, 54, 130, 95, 82, 36, 16, 122, 49, 39, 16, 48, 117, 40, 49, 134, 72, 77, 66, 14, 96, 18, 39, 144, 58, 61, 33, 123, 142, 90, 148, 55, 141, 16, 82, 72, 113, 127, 26, 143, 90, 40, 86, 97, 17, 31, 120, 117, 134, 54, 125, 4, 102, 52, 27, 74, 142, 138, 46, 8, 116, 13, 64, 95, 6, 103, 74, 89, 72, 96, 100, 12, 31, 70, 97, 52, 106, 49, 95, 43, 61, 23, 140, 26, 148, 74, 112, 70, 51, 80, 10, 60, 118, 77, 53, 47, 69, 11, 78, 137, 24, 66, 124, 36, 69, 90, 68, 62, 22]\n",
      "140\n",
      "[55, 1, 84, 147, 144, 38, 110, 126, 143, 48, 127, 5, 111, 145, 32, 142, 138, 146, 60, 10, 70, 8, 68, 98, 148, 130, 86, 72, 109, 66, 73, 116, 54, 130, 95, 82, 36, 16, 122, 49, 39, 16, 48, 117, 40, 49, 134, 72, 77, 66, 14, 96, 18, 39, 144, 58, 61, 33, 123, 142, 90, 148, 55, 141, 16, 82, 72, 113, 127, 26, 143, 90, 40, 86, 97, 17, 31, 120, 117, 134, 54, 125, 4, 102, 52, 27, 74, 142, 138, 46, 8, 116, 13, 64, 95, 6, 103, 74, 89, 72, 96, 100, 12, 31, 70, 97, 52, 106, 49, 95, 43, 61, 23, 140, 26, 148, 74, 112, 70, 51, 80, 10, 60, 118, 77, 53, 47, 69, 11, 78, 137, 24, 66, 124, 36, 69, 90, 68, 62, 22, 79, 134, 15, 128, 45, 5, 141, 139, 30, 72]\n",
      "150\n",
      "[55, 1, 84, 147, 144, 38, 110, 126, 143, 48, 127, 5, 111, 145, 32, 142, 138, 146, 60, 10, 70, 8, 68, 98, 148, 130, 86, 72, 109, 66, 73, 116, 54, 130, 95, 82, 36, 16, 122, 49, 39, 16, 48, 117, 40, 49, 134, 72, 77, 66, 14, 96, 18, 39, 144, 58, 61, 33, 123, 142, 90, 148, 55, 141, 16, 82, 72, 113, 127, 26, 143, 90, 40, 86, 97, 17, 31, 120, 117, 134, 54, 125, 4, 102, 52, 27, 74, 142, 138, 46, 8, 116, 13, 64, 95, 6, 103, 74, 89, 72, 96, 100, 12, 31, 70, 97, 52, 106, 49, 95, 43, 61, 23, 140, 26, 148, 74, 112, 70, 51, 80, 10, 60, 118, 77, 53, 47, 69, 11, 78, 137, 24, 66, 124, 36, 69, 90, 68, 62, 22, 79, 134, 15, 128, 45, 5, 141, 139, 30, 72, 38, 76, 30, 33, 115, 105, 96, 51, 37, 7]\n",
      "160\n",
      "[55, 1, 84, 147, 144, 38, 110, 126, 143, 48, 127, 5, 111, 145, 32, 142, 138, 146, 60, 10, 70, 8, 68, 98, 148, 130, 86, 72, 109, 66, 73, 116, 54, 130, 95, 82, 36, 16, 122, 49, 39, 16, 48, 117, 40, 49, 134, 72, 77, 66, 14, 96, 18, 39, 144, 58, 61, 33, 123, 142, 90, 148, 55, 141, 16, 82, 72, 113, 127, 26, 143, 90, 40, 86, 97, 17, 31, 120, 117, 134, 54, 125, 4, 102, 52, 27, 74, 142, 138, 46, 8, 116, 13, 64, 95, 6, 103, 74, 89, 72, 96, 100, 12, 31, 70, 97, 52, 106, 49, 95, 43, 61, 23, 140, 26, 148, 74, 112, 70, 51, 80, 10, 60, 118, 77, 53, 47, 69, 11, 78, 137, 24, 66, 124, 36, 69, 90, 68, 62, 22, 79, 134, 15, 128, 45, 5, 141, 139, 30, 72, 38, 76, 30, 33, 115, 105, 96, 51, 37, 7, 66, 0, 90, 147, 95, 19, 63, 48, 91, 138]\n",
      "170\n",
      "[55, 1, 84, 147, 144, 38, 110, 126, 143, 48, 127, 5, 111, 145, 32, 142, 138, 146, 60, 10, 70, 8, 68, 98, 148, 130, 86, 72, 109, 66, 73, 116, 54, 130, 95, 82, 36, 16, 122, 49, 39, 16, 48, 117, 40, 49, 134, 72, 77, 66, 14, 96, 18, 39, 144, 58, 61, 33, 123, 142, 90, 148, 55, 141, 16, 82, 72, 113, 127, 26, 143, 90, 40, 86, 97, 17, 31, 120, 117, 134, 54, 125, 4, 102, 52, 27, 74, 142, 138, 46, 8, 116, 13, 64, 95, 6, 103, 74, 89, 72, 96, 100, 12, 31, 70, 97, 52, 106, 49, 95, 43, 61, 23, 140, 26, 148, 74, 112, 70, 51, 80, 10, 60, 118, 77, 53, 47, 69, 11, 78, 137, 24, 66, 124, 36, 69, 90, 68, 62, 22, 79, 134, 15, 128, 45, 5, 141, 139, 30, 72, 38, 76, 30, 33, 115, 105, 96, 51, 37, 7, 66, 0, 90, 147, 95, 19, 63, 48, 91, 138, 38, 117, 126, 67, 7, 12, 138, 96, 6, 111]\n",
      "180\n",
      "[55, 1, 84, 147, 144, 38, 110, 126, 143, 48, 127, 5, 111, 145, 32, 142, 138, 146, 60, 10, 70, 8, 68, 98, 148, 130, 86, 72, 109, 66, 73, 116, 54, 130, 95, 82, 36, 16, 122, 49, 39, 16, 48, 117, 40, 49, 134, 72, 77, 66, 14, 96, 18, 39, 144, 58, 61, 33, 123, 142, 90, 148, 55, 141, 16, 82, 72, 113, 127, 26, 143, 90, 40, 86, 97, 17, 31, 120, 117, 134, 54, 125, 4, 102, 52, 27, 74, 142, 138, 46, 8, 116, 13, 64, 95, 6, 103, 74, 89, 72, 96, 100, 12, 31, 70, 97, 52, 106, 49, 95, 43, 61, 23, 140, 26, 148, 74, 112, 70, 51, 80, 10, 60, 118, 77, 53, 47, 69, 11, 78, 137, 24, 66, 124, 36, 69, 90, 68, 62, 22, 79, 134, 15, 128, 45, 5, 141, 139, 30, 72, 38, 76, 30, 33, 115, 105, 96, 51, 37, 7, 66, 0, 90, 147, 95, 19, 63, 48, 91, 138, 38, 117, 126, 67, 7, 12, 138, 96, 6, 111, 39, 30, 26, 94, 18, 101, 128, 141, 119, 61]\n",
      "190\n",
      "[55, 1, 84, 147, 144, 38, 110, 126, 143, 48, 127, 5, 111, 145, 32, 142, 138, 146, 60, 10, 70, 8, 68, 98, 148, 130, 86, 72, 109, 66, 73, 116, 54, 130, 95, 82, 36, 16, 122, 49, 39, 16, 48, 117, 40, 49, 134, 72, 77, 66, 14, 96, 18, 39, 144, 58, 61, 33, 123, 142, 90, 148, 55, 141, 16, 82, 72, 113, 127, 26, 143, 90, 40, 86, 97, 17, 31, 120, 117, 134, 54, 125, 4, 102, 52, 27, 74, 142, 138, 46, 8, 116, 13, 64, 95, 6, 103, 74, 89, 72, 96, 100, 12, 31, 70, 97, 52, 106, 49, 95, 43, 61, 23, 140, 26, 148, 74, 112, 70, 51, 80, 10, 60, 118, 77, 53, 47, 69, 11, 78, 137, 24, 66, 124, 36, 69, 90, 68, 62, 22, 79, 134, 15, 128, 45, 5, 141, 139, 30, 72, 38, 76, 30, 33, 115, 105, 96, 51, 37, 7, 66, 0, 90, 147, 95, 19, 63, 48, 91, 138, 38, 117, 126, 67, 7, 12, 138, 96, 6, 111, 39, 30, 26, 94, 18, 101, 128, 141, 119, 61, 35, 130, 95, 71, 26, 49, 21, 54, 48, 115]\n",
      "200\n",
      "[55, 1, 84, 147, 144, 38, 110, 126, 143, 48, 127, 5, 111, 145, 32, 142, 138, 146, 60, 10, 70, 8, 68, 98, 148, 130, 86, 72, 109, 66, 73, 116, 54, 130, 95, 82, 36, 16, 122, 49, 39, 16, 48, 117, 40, 49, 134, 72, 77, 66, 14, 96, 18, 39, 144, 58, 61, 33, 123, 142, 90, 148, 55, 141, 16, 82, 72, 113, 127, 26, 143, 90, 40, 86, 97, 17, 31, 120, 117, 134, 54, 125, 4, 102, 52, 27, 74, 142, 138, 46, 8, 116, 13, 64, 95, 6, 103, 74, 89, 72, 96, 100, 12, 31, 70, 97, 52, 106, 49, 95, 43, 61, 23, 140, 26, 148, 74, 112, 70, 51, 80, 10, 60, 118, 77, 53, 47, 69, 11, 78, 137, 24, 66, 124, 36, 69, 90, 68, 62, 22, 79, 134, 15, 128, 45, 5, 141, 139, 30, 72, 38, 76, 30, 33, 115, 105, 96, 51, 37, 7, 66, 0, 90, 147, 95, 19, 63, 48, 91, 138, 38, 117, 126, 67, 7, 12, 138, 96, 6, 111, 39, 30, 26, 94, 18, 101, 128, 141, 119, 61, 35, 130, 95, 71, 26, 49, 21, 54, 48, 115, 56, 68, 61, 11, 132, 7, 113, 5, 13, 33]\n",
      "210\n",
      "[55, 1, 84, 147, 144, 38, 110, 126, 143, 48, 127, 5, 111, 145, 32, 142, 138, 146, 60, 10, 70, 8, 68, 98, 148, 130, 86, 72, 109, 66, 73, 116, 54, 130, 95, 82, 36, 16, 122, 49, 39, 16, 48, 117, 40, 49, 134, 72, 77, 66, 14, 96, 18, 39, 144, 58, 61, 33, 123, 142, 90, 148, 55, 141, 16, 82, 72, 113, 127, 26, 143, 90, 40, 86, 97, 17, 31, 120, 117, 134, 54, 125, 4, 102, 52, 27, 74, 142, 138, 46, 8, 116, 13, 64, 95, 6, 103, 74, 89, 72, 96, 100, 12, 31, 70, 97, 52, 106, 49, 95, 43, 61, 23, 140, 26, 148, 74, 112, 70, 51, 80, 10, 60, 118, 77, 53, 47, 69, 11, 78, 137, 24, 66, 124, 36, 69, 90, 68, 62, 22, 79, 134, 15, 128, 45, 5, 141, 139, 30, 72, 38, 76, 30, 33, 115, 105, 96, 51, 37, 7, 66, 0, 90, 147, 95, 19, 63, 48, 91, 138, 38, 117, 126, 67, 7, 12, 138, 96, 6, 111, 39, 30, 26, 94, 18, 101, 128, 141, 119, 61, 35, 130, 95, 71, 26, 49, 21, 54, 48, 115, 56, 68, 61, 11, 132, 7, 113, 5, 13, 33, 82, 43, 41, 47, 6, 29, 112, 13, 63, 76]\n",
      "220\n",
      "[55, 1, 84, 147, 144, 38, 110, 126, 143, 48, 127, 5, 111, 145, 32, 142, 138, 146, 60, 10, 70, 8, 68, 98, 148, 130, 86, 72, 109, 66, 73, 116, 54, 130, 95, 82, 36, 16, 122, 49, 39, 16, 48, 117, 40, 49, 134, 72, 77, 66, 14, 96, 18, 39, 144, 58, 61, 33, 123, 142, 90, 148, 55, 141, 16, 82, 72, 113, 127, 26, 143, 90, 40, 86, 97, 17, 31, 120, 117, 134, 54, 125, 4, 102, 52, 27, 74, 142, 138, 46, 8, 116, 13, 64, 95, 6, 103, 74, 89, 72, 96, 100, 12, 31, 70, 97, 52, 106, 49, 95, 43, 61, 23, 140, 26, 148, 74, 112, 70, 51, 80, 10, 60, 118, 77, 53, 47, 69, 11, 78, 137, 24, 66, 124, 36, 69, 90, 68, 62, 22, 79, 134, 15, 128, 45, 5, 141, 139, 30, 72, 38, 76, 30, 33, 115, 105, 96, 51, 37, 7, 66, 0, 90, 147, 95, 19, 63, 48, 91, 138, 38, 117, 126, 67, 7, 12, 138, 96, 6, 111, 39, 30, 26, 94, 18, 101, 128, 141, 119, 61, 35, 130, 95, 71, 26, 49, 21, 54, 48, 115, 56, 68, 61, 11, 132, 7, 113, 5, 13, 33, 82, 43, 41, 47, 6, 29, 112, 13, 63, 76, 36, 143, 88, 141, 37, 43, 92, 124, 114, 74]\n",
      "230\n",
      "[55, 1, 84, 147, 144, 38, 110, 126, 143, 48, 127, 5, 111, 145, 32, 142, 138, 146, 60, 10, 70, 8, 68, 98, 148, 130, 86, 72, 109, 66, 73, 116, 54, 130, 95, 82, 36, 16, 122, 49, 39, 16, 48, 117, 40, 49, 134, 72, 77, 66, 14, 96, 18, 39, 144, 58, 61, 33, 123, 142, 90, 148, 55, 141, 16, 82, 72, 113, 127, 26, 143, 90, 40, 86, 97, 17, 31, 120, 117, 134, 54, 125, 4, 102, 52, 27, 74, 142, 138, 46, 8, 116, 13, 64, 95, 6, 103, 74, 89, 72, 96, 100, 12, 31, 70, 97, 52, 106, 49, 95, 43, 61, 23, 140, 26, 148, 74, 112, 70, 51, 80, 10, 60, 118, 77, 53, 47, 69, 11, 78, 137, 24, 66, 124, 36, 69, 90, 68, 62, 22, 79, 134, 15, 128, 45, 5, 141, 139, 30, 72, 38, 76, 30, 33, 115, 105, 96, 51, 37, 7, 66, 0, 90, 147, 95, 19, 63, 48, 91, 138, 38, 117, 126, 67, 7, 12, 138, 96, 6, 111, 39, 30, 26, 94, 18, 101, 128, 141, 119, 61, 35, 130, 95, 71, 26, 49, 21, 54, 48, 115, 56, 68, 61, 11, 132, 7, 113, 5, 13, 33, 82, 43, 41, 47, 6, 29, 112, 13, 63, 76, 36, 143, 88, 141, 37, 43, 92, 124, 114, 74, 81, 141, 142, 45, 32, 46, 62, 55, 70, 7]\n",
      "240\n",
      "[55, 1, 84, 147, 144, 38, 110, 126, 143, 48, 127, 5, 111, 145, 32, 142, 138, 146, 60, 10, 70, 8, 68, 98, 148, 130, 86, 72, 109, 66, 73, 116, 54, 130, 95, 82, 36, 16, 122, 49, 39, 16, 48, 117, 40, 49, 134, 72, 77, 66, 14, 96, 18, 39, 144, 58, 61, 33, 123, 142, 90, 148, 55, 141, 16, 82, 72, 113, 127, 26, 143, 90, 40, 86, 97, 17, 31, 120, 117, 134, 54, 125, 4, 102, 52, 27, 74, 142, 138, 46, 8, 116, 13, 64, 95, 6, 103, 74, 89, 72, 96, 100, 12, 31, 70, 97, 52, 106, 49, 95, 43, 61, 23, 140, 26, 148, 74, 112, 70, 51, 80, 10, 60, 118, 77, 53, 47, 69, 11, 78, 137, 24, 66, 124, 36, 69, 90, 68, 62, 22, 79, 134, 15, 128, 45, 5, 141, 139, 30, 72, 38, 76, 30, 33, 115, 105, 96, 51, 37, 7, 66, 0, 90, 147, 95, 19, 63, 48, 91, 138, 38, 117, 126, 67, 7, 12, 138, 96, 6, 111, 39, 30, 26, 94, 18, 101, 128, 141, 119, 61, 35, 130, 95, 71, 26, 49, 21, 54, 48, 115, 56, 68, 61, 11, 132, 7, 113, 5, 13, 33, 82, 43, 41, 47, 6, 29, 112, 13, 63, 76, 36, 143, 88, 141, 37, 43, 92, 124, 114, 74, 81, 141, 142, 45, 32, 46, 62, 55, 70, 7, 56, 47, 92, 51, 109, 34, 116, 123, 14, 119]\n",
      "250\n",
      "[55, 1, 84, 147, 144, 38, 110, 126, 143, 48, 127, 5, 111, 145, 32, 142, 138, 146, 60, 10, 70, 8, 68, 98, 148, 130, 86, 72, 109, 66, 73, 116, 54, 130, 95, 82, 36, 16, 122, 49, 39, 16, 48, 117, 40, 49, 134, 72, 77, 66, 14, 96, 18, 39, 144, 58, 61, 33, 123, 142, 90, 148, 55, 141, 16, 82, 72, 113, 127, 26, 143, 90, 40, 86, 97, 17, 31, 120, 117, 134, 54, 125, 4, 102, 52, 27, 74, 142, 138, 46, 8, 116, 13, 64, 95, 6, 103, 74, 89, 72, 96, 100, 12, 31, 70, 97, 52, 106, 49, 95, 43, 61, 23, 140, 26, 148, 74, 112, 70, 51, 80, 10, 60, 118, 77, 53, 47, 69, 11, 78, 137, 24, 66, 124, 36, 69, 90, 68, 62, 22, 79, 134, 15, 128, 45, 5, 141, 139, 30, 72, 38, 76, 30, 33, 115, 105, 96, 51, 37, 7, 66, 0, 90, 147, 95, 19, 63, 48, 91, 138, 38, 117, 126, 67, 7, 12, 138, 96, 6, 111, 39, 30, 26, 94, 18, 101, 128, 141, 119, 61, 35, 130, 95, 71, 26, 49, 21, 54, 48, 115, 56, 68, 61, 11, 132, 7, 113, 5, 13, 33, 82, 43, 41, 47, 6, 29, 112, 13, 63, 76, 36, 143, 88, 141, 37, 43, 92, 124, 114, 74, 81, 141, 142, 45, 32, 46, 62, 55, 70, 7, 56, 47, 92, 51, 109, 34, 116, 123, 14, 119, 22, 93, 37, 42, 59, 10, 112, 38, 78, 136]\n",
      "260\n",
      "[55, 1, 84, 147, 144, 38, 110, 126, 143, 48, 127, 5, 111, 145, 32, 142, 138, 146, 60, 10, 70, 8, 68, 98, 148, 130, 86, 72, 109, 66, 73, 116, 54, 130, 95, 82, 36, 16, 122, 49, 39, 16, 48, 117, 40, 49, 134, 72, 77, 66, 14, 96, 18, 39, 144, 58, 61, 33, 123, 142, 90, 148, 55, 141, 16, 82, 72, 113, 127, 26, 143, 90, 40, 86, 97, 17, 31, 120, 117, 134, 54, 125, 4, 102, 52, 27, 74, 142, 138, 46, 8, 116, 13, 64, 95, 6, 103, 74, 89, 72, 96, 100, 12, 31, 70, 97, 52, 106, 49, 95, 43, 61, 23, 140, 26, 148, 74, 112, 70, 51, 80, 10, 60, 118, 77, 53, 47, 69, 11, 78, 137, 24, 66, 124, 36, 69, 90, 68, 62, 22, 79, 134, 15, 128, 45, 5, 141, 139, 30, 72, 38, 76, 30, 33, 115, 105, 96, 51, 37, 7, 66, 0, 90, 147, 95, 19, 63, 48, 91, 138, 38, 117, 126, 67, 7, 12, 138, 96, 6, 111, 39, 30, 26, 94, 18, 101, 128, 141, 119, 61, 35, 130, 95, 71, 26, 49, 21, 54, 48, 115, 56, 68, 61, 11, 132, 7, 113, 5, 13, 33, 82, 43, 41, 47, 6, 29, 112, 13, 63, 76, 36, 143, 88, 141, 37, 43, 92, 124, 114, 74, 81, 141, 142, 45, 32, 46, 62, 55, 70, 7, 56, 47, 92, 51, 109, 34, 116, 123, 14, 119, 22, 93, 37, 42, 59, 10, 112, 38, 78, 136, 136, 137, 138, 80, 29, 28, 72, 43, 149, 50]\n",
      "270\n",
      "[55, 1, 84, 147, 144, 38, 110, 126, 143, 48, 127, 5, 111, 145, 32, 142, 138, 146, 60, 10, 70, 8, 68, 98, 148, 130, 86, 72, 109, 66, 73, 116, 54, 130, 95, 82, 36, 16, 122, 49, 39, 16, 48, 117, 40, 49, 134, 72, 77, 66, 14, 96, 18, 39, 144, 58, 61, 33, 123, 142, 90, 148, 55, 141, 16, 82, 72, 113, 127, 26, 143, 90, 40, 86, 97, 17, 31, 120, 117, 134, 54, 125, 4, 102, 52, 27, 74, 142, 138, 46, 8, 116, 13, 64, 95, 6, 103, 74, 89, 72, 96, 100, 12, 31, 70, 97, 52, 106, 49, 95, 43, 61, 23, 140, 26, 148, 74, 112, 70, 51, 80, 10, 60, 118, 77, 53, 47, 69, 11, 78, 137, 24, 66, 124, 36, 69, 90, 68, 62, 22, 79, 134, 15, 128, 45, 5, 141, 139, 30, 72, 38, 76, 30, 33, 115, 105, 96, 51, 37, 7, 66, 0, 90, 147, 95, 19, 63, 48, 91, 138, 38, 117, 126, 67, 7, 12, 138, 96, 6, 111, 39, 30, 26, 94, 18, 101, 128, 141, 119, 61, 35, 130, 95, 71, 26, 49, 21, 54, 48, 115, 56, 68, 61, 11, 132, 7, 113, 5, 13, 33, 82, 43, 41, 47, 6, 29, 112, 13, 63, 76, 36, 143, 88, 141, 37, 43, 92, 124, 114, 74, 81, 141, 142, 45, 32, 46, 62, 55, 70, 7, 56, 47, 92, 51, 109, 34, 116, 123, 14, 119, 22, 93, 37, 42, 59, 10, 112, 38, 78, 136, 136, 137, 138, 80, 29, 28, 72, 43, 149, 50, 63, 66, 114, 39, 112, 87, 147, 23, 136, 36]\n",
      "280\n",
      "[55, 1, 84, 147, 144, 38, 110, 126, 143, 48, 127, 5, 111, 145, 32, 142, 138, 146, 60, 10, 70, 8, 68, 98, 148, 130, 86, 72, 109, 66, 73, 116, 54, 130, 95, 82, 36, 16, 122, 49, 39, 16, 48, 117, 40, 49, 134, 72, 77, 66, 14, 96, 18, 39, 144, 58, 61, 33, 123, 142, 90, 148, 55, 141, 16, 82, 72, 113, 127, 26, 143, 90, 40, 86, 97, 17, 31, 120, 117, 134, 54, 125, 4, 102, 52, 27, 74, 142, 138, 46, 8, 116, 13, 64, 95, 6, 103, 74, 89, 72, 96, 100, 12, 31, 70, 97, 52, 106, 49, 95, 43, 61, 23, 140, 26, 148, 74, 112, 70, 51, 80, 10, 60, 118, 77, 53, 47, 69, 11, 78, 137, 24, 66, 124, 36, 69, 90, 68, 62, 22, 79, 134, 15, 128, 45, 5, 141, 139, 30, 72, 38, 76, 30, 33, 115, 105, 96, 51, 37, 7, 66, 0, 90, 147, 95, 19, 63, 48, 91, 138, 38, 117, 126, 67, 7, 12, 138, 96, 6, 111, 39, 30, 26, 94, 18, 101, 128, 141, 119, 61, 35, 130, 95, 71, 26, 49, 21, 54, 48, 115, 56, 68, 61, 11, 132, 7, 113, 5, 13, 33, 82, 43, 41, 47, 6, 29, 112, 13, 63, 76, 36, 143, 88, 141, 37, 43, 92, 124, 114, 74, 81, 141, 142, 45, 32, 46, 62, 55, 70, 7, 56, 47, 92, 51, 109, 34, 116, 123, 14, 119, 22, 93, 37, 42, 59, 10, 112, 38, 78, 136, 136, 137, 138, 80, 29, 28, 72, 43, 149, 50, 63, 66, 114, 39, 112, 87, 147, 23, 136, 36, 88, 80, 71, 115, 93, 125, 142, 113, 39, 90]\n",
      "290\n",
      "[55, 1, 84, 147, 144, 38, 110, 126, 143, 48, 127, 5, 111, 145, 32, 142, 138, 146, 60, 10, 70, 8, 68, 98, 148, 130, 86, 72, 109, 66, 73, 116, 54, 130, 95, 82, 36, 16, 122, 49, 39, 16, 48, 117, 40, 49, 134, 72, 77, 66, 14, 96, 18, 39, 144, 58, 61, 33, 123, 142, 90, 148, 55, 141, 16, 82, 72, 113, 127, 26, 143, 90, 40, 86, 97, 17, 31, 120, 117, 134, 54, 125, 4, 102, 52, 27, 74, 142, 138, 46, 8, 116, 13, 64, 95, 6, 103, 74, 89, 72, 96, 100, 12, 31, 70, 97, 52, 106, 49, 95, 43, 61, 23, 140, 26, 148, 74, 112, 70, 51, 80, 10, 60, 118, 77, 53, 47, 69, 11, 78, 137, 24, 66, 124, 36, 69, 90, 68, 62, 22, 79, 134, 15, 128, 45, 5, 141, 139, 30, 72, 38, 76, 30, 33, 115, 105, 96, 51, 37, 7, 66, 0, 90, 147, 95, 19, 63, 48, 91, 138, 38, 117, 126, 67, 7, 12, 138, 96, 6, 111, 39, 30, 26, 94, 18, 101, 128, 141, 119, 61, 35, 130, 95, 71, 26, 49, 21, 54, 48, 115, 56, 68, 61, 11, 132, 7, 113, 5, 13, 33, 82, 43, 41, 47, 6, 29, 112, 13, 63, 76, 36, 143, 88, 141, 37, 43, 92, 124, 114, 74, 81, 141, 142, 45, 32, 46, 62, 55, 70, 7, 56, 47, 92, 51, 109, 34, 116, 123, 14, 119, 22, 93, 37, 42, 59, 10, 112, 38, 78, 136, 136, 137, 138, 80, 29, 28, 72, 43, 149, 50, 63, 66, 114, 39, 112, 87, 147, 23, 136, 36, 88, 80, 71, 115, 93, 125, 142, 113, 39, 90, 63, 146, 142, 119, 31, 85, 132, 126, 114, 80]\n",
      "300\n",
      "[55, 1, 84, 147, 144, 38, 110, 126, 143, 48, 127, 5, 111, 145, 32, 142, 138, 146, 60, 10, 70, 8, 68, 98, 148, 130, 86, 72, 109, 66, 73, 116, 54, 130, 95, 82, 36, 16, 122, 49, 39, 16, 48, 117, 40, 49, 134, 72, 77, 66, 14, 96, 18, 39, 144, 58, 61, 33, 123, 142, 90, 148, 55, 141, 16, 82, 72, 113, 127, 26, 143, 90, 40, 86, 97, 17, 31, 120, 117, 134, 54, 125, 4, 102, 52, 27, 74, 142, 138, 46, 8, 116, 13, 64, 95, 6, 103, 74, 89, 72, 96, 100, 12, 31, 70, 97, 52, 106, 49, 95, 43, 61, 23, 140, 26, 148, 74, 112, 70, 51, 80, 10, 60, 118, 77, 53, 47, 69, 11, 78, 137, 24, 66, 124, 36, 69, 90, 68, 62, 22, 79, 134, 15, 128, 45, 5, 141, 139, 30, 72, 38, 76, 30, 33, 115, 105, 96, 51, 37, 7, 66, 0, 90, 147, 95, 19, 63, 48, 91, 138, 38, 117, 126, 67, 7, 12, 138, 96, 6, 111, 39, 30, 26, 94, 18, 101, 128, 141, 119, 61, 35, 130, 95, 71, 26, 49, 21, 54, 48, 115, 56, 68, 61, 11, 132, 7, 113, 5, 13, 33, 82, 43, 41, 47, 6, 29, 112, 13, 63, 76, 36, 143, 88, 141, 37, 43, 92, 124, 114, 74, 81, 141, 142, 45, 32, 46, 62, 55, 70, 7, 56, 47, 92, 51, 109, 34, 116, 123, 14, 119, 22, 93, 37, 42, 59, 10, 112, 38, 78, 136, 136, 137, 138, 80, 29, 28, 72, 43, 149, 50, 63, 66, 114, 39, 112, 87, 147, 23, 136, 36, 88, 80, 71, 115, 93, 125, 142, 113, 39, 90, 63, 146, 142, 119, 31, 85, 132, 126, 114, 80, 86, 127, 71, 63, 141, 132, 114, 1, 14, 106]\n",
      "310\n",
      "[55, 1, 84, 147, 144, 38, 110, 126, 143, 48, 127, 5, 111, 145, 32, 142, 138, 146, 60, 10, 70, 8, 68, 98, 148, 130, 86, 72, 109, 66, 73, 116, 54, 130, 95, 82, 36, 16, 122, 49, 39, 16, 48, 117, 40, 49, 134, 72, 77, 66, 14, 96, 18, 39, 144, 58, 61, 33, 123, 142, 90, 148, 55, 141, 16, 82, 72, 113, 127, 26, 143, 90, 40, 86, 97, 17, 31, 120, 117, 134, 54, 125, 4, 102, 52, 27, 74, 142, 138, 46, 8, 116, 13, 64, 95, 6, 103, 74, 89, 72, 96, 100, 12, 31, 70, 97, 52, 106, 49, 95, 43, 61, 23, 140, 26, 148, 74, 112, 70, 51, 80, 10, 60, 118, 77, 53, 47, 69, 11, 78, 137, 24, 66, 124, 36, 69, 90, 68, 62, 22, 79, 134, 15, 128, 45, 5, 141, 139, 30, 72, 38, 76, 30, 33, 115, 105, 96, 51, 37, 7, 66, 0, 90, 147, 95, 19, 63, 48, 91, 138, 38, 117, 126, 67, 7, 12, 138, 96, 6, 111, 39, 30, 26, 94, 18, 101, 128, 141, 119, 61, 35, 130, 95, 71, 26, 49, 21, 54, 48, 115, 56, 68, 61, 11, 132, 7, 113, 5, 13, 33, 82, 43, 41, 47, 6, 29, 112, 13, 63, 76, 36, 143, 88, 141, 37, 43, 92, 124, 114, 74, 81, 141, 142, 45, 32, 46, 62, 55, 70, 7, 56, 47, 92, 51, 109, 34, 116, 123, 14, 119, 22, 93, 37, 42, 59, 10, 112, 38, 78, 136, 136, 137, 138, 80, 29, 28, 72, 43, 149, 50, 63, 66, 114, 39, 112, 87, 147, 23, 136, 36, 88, 80, 71, 115, 93, 125, 142, 113, 39, 90, 63, 146, 142, 119, 31, 85, 132, 126, 114, 80, 86, 127, 71, 63, 141, 132, 114, 1, 14, 106, 101, 62, 122, 129, 4, 42, 86, 91, 16, 29]\n",
      "320\n",
      "[55, 1, 84, 147, 144, 38, 110, 126, 143, 48, 127, 5, 111, 145, 32, 142, 138, 146, 60, 10, 70, 8, 68, 98, 148, 130, 86, 72, 109, 66, 73, 116, 54, 130, 95, 82, 36, 16, 122, 49, 39, 16, 48, 117, 40, 49, 134, 72, 77, 66, 14, 96, 18, 39, 144, 58, 61, 33, 123, 142, 90, 148, 55, 141, 16, 82, 72, 113, 127, 26, 143, 90, 40, 86, 97, 17, 31, 120, 117, 134, 54, 125, 4, 102, 52, 27, 74, 142, 138, 46, 8, 116, 13, 64, 95, 6, 103, 74, 89, 72, 96, 100, 12, 31, 70, 97, 52, 106, 49, 95, 43, 61, 23, 140, 26, 148, 74, 112, 70, 51, 80, 10, 60, 118, 77, 53, 47, 69, 11, 78, 137, 24, 66, 124, 36, 69, 90, 68, 62, 22, 79, 134, 15, 128, 45, 5, 141, 139, 30, 72, 38, 76, 30, 33, 115, 105, 96, 51, 37, 7, 66, 0, 90, 147, 95, 19, 63, 48, 91, 138, 38, 117, 126, 67, 7, 12, 138, 96, 6, 111, 39, 30, 26, 94, 18, 101, 128, 141, 119, 61, 35, 130, 95, 71, 26, 49, 21, 54, 48, 115, 56, 68, 61, 11, 132, 7, 113, 5, 13, 33, 82, 43, 41, 47, 6, 29, 112, 13, 63, 76, 36, 143, 88, 141, 37, 43, 92, 124, 114, 74, 81, 141, 142, 45, 32, 46, 62, 55, 70, 7, 56, 47, 92, 51, 109, 34, 116, 123, 14, 119, 22, 93, 37, 42, 59, 10, 112, 38, 78, 136, 136, 137, 138, 80, 29, 28, 72, 43, 149, 50, 63, 66, 114, 39, 112, 87, 147, 23, 136, 36, 88, 80, 71, 115, 93, 125, 142, 113, 39, 90, 63, 146, 142, 119, 31, 85, 132, 126, 114, 80, 86, 127, 71, 63, 141, 132, 114, 1, 14, 106, 101, 62, 122, 129, 4, 42, 86, 91, 16, 29, 84, 104, 8, 136, 50, 128, 147, 97, 142, 82]\n",
      "330\n",
      "[55, 1, 84, 147, 144, 38, 110, 126, 143, 48, 127, 5, 111, 145, 32, 142, 138, 146, 60, 10, 70, 8, 68, 98, 148, 130, 86, 72, 109, 66, 73, 116, 54, 130, 95, 82, 36, 16, 122, 49, 39, 16, 48, 117, 40, 49, 134, 72, 77, 66, 14, 96, 18, 39, 144, 58, 61, 33, 123, 142, 90, 148, 55, 141, 16, 82, 72, 113, 127, 26, 143, 90, 40, 86, 97, 17, 31, 120, 117, 134, 54, 125, 4, 102, 52, 27, 74, 142, 138, 46, 8, 116, 13, 64, 95, 6, 103, 74, 89, 72, 96, 100, 12, 31, 70, 97, 52, 106, 49, 95, 43, 61, 23, 140, 26, 148, 74, 112, 70, 51, 80, 10, 60, 118, 77, 53, 47, 69, 11, 78, 137, 24, 66, 124, 36, 69, 90, 68, 62, 22, 79, 134, 15, 128, 45, 5, 141, 139, 30, 72, 38, 76, 30, 33, 115, 105, 96, 51, 37, 7, 66, 0, 90, 147, 95, 19, 63, 48, 91, 138, 38, 117, 126, 67, 7, 12, 138, 96, 6, 111, 39, 30, 26, 94, 18, 101, 128, 141, 119, 61, 35, 130, 95, 71, 26, 49, 21, 54, 48, 115, 56, 68, 61, 11, 132, 7, 113, 5, 13, 33, 82, 43, 41, 47, 6, 29, 112, 13, 63, 76, 36, 143, 88, 141, 37, 43, 92, 124, 114, 74, 81, 141, 142, 45, 32, 46, 62, 55, 70, 7, 56, 47, 92, 51, 109, 34, 116, 123, 14, 119, 22, 93, 37, 42, 59, 10, 112, 38, 78, 136, 136, 137, 138, 80, 29, 28, 72, 43, 149, 50, 63, 66, 114, 39, 112, 87, 147, 23, 136, 36, 88, 80, 71, 115, 93, 125, 142, 113, 39, 90, 63, 146, 142, 119, 31, 85, 132, 126, 114, 80, 86, 127, 71, 63, 141, 132, 114, 1, 14, 106, 101, 62, 122, 129, 4, 42, 86, 91, 16, 29, 84, 104, 8, 136, 50, 128, 147, 97, 142, 82, 78, 38, 1, 125, 34, 50, 113, 120, 75, 72]\n",
      "340\n",
      "[55, 1, 84, 147, 144, 38, 110, 126, 143, 48, 127, 5, 111, 145, 32, 142, 138, 146, 60, 10, 70, 8, 68, 98, 148, 130, 86, 72, 109, 66, 73, 116, 54, 130, 95, 82, 36, 16, 122, 49, 39, 16, 48, 117, 40, 49, 134, 72, 77, 66, 14, 96, 18, 39, 144, 58, 61, 33, 123, 142, 90, 148, 55, 141, 16, 82, 72, 113, 127, 26, 143, 90, 40, 86, 97, 17, 31, 120, 117, 134, 54, 125, 4, 102, 52, 27, 74, 142, 138, 46, 8, 116, 13, 64, 95, 6, 103, 74, 89, 72, 96, 100, 12, 31, 70, 97, 52, 106, 49, 95, 43, 61, 23, 140, 26, 148, 74, 112, 70, 51, 80, 10, 60, 118, 77, 53, 47, 69, 11, 78, 137, 24, 66, 124, 36, 69, 90, 68, 62, 22, 79, 134, 15, 128, 45, 5, 141, 139, 30, 72, 38, 76, 30, 33, 115, 105, 96, 51, 37, 7, 66, 0, 90, 147, 95, 19, 63, 48, 91, 138, 38, 117, 126, 67, 7, 12, 138, 96, 6, 111, 39, 30, 26, 94, 18, 101, 128, 141, 119, 61, 35, 130, 95, 71, 26, 49, 21, 54, 48, 115, 56, 68, 61, 11, 132, 7, 113, 5, 13, 33, 82, 43, 41, 47, 6, 29, 112, 13, 63, 76, 36, 143, 88, 141, 37, 43, 92, 124, 114, 74, 81, 141, 142, 45, 32, 46, 62, 55, 70, 7, 56, 47, 92, 51, 109, 34, 116, 123, 14, 119, 22, 93, 37, 42, 59, 10, 112, 38, 78, 136, 136, 137, 138, 80, 29, 28, 72, 43, 149, 50, 63, 66, 114, 39, 112, 87, 147, 23, 136, 36, 88, 80, 71, 115, 93, 125, 142, 113, 39, 90, 63, 146, 142, 119, 31, 85, 132, 126, 114, 80, 86, 127, 71, 63, 141, 132, 114, 1, 14, 106, 101, 62, 122, 129, 4, 42, 86, 91, 16, 29, 84, 104, 8, 136, 50, 128, 147, 97, 142, 82, 78, 38, 1, 125, 34, 50, 113, 120, 75, 72, 82, 105, 104, 100, 121, 39, 145, 33, 79, 123]\n",
      "350\n",
      "[55, 1, 84, 147, 144, 38, 110, 126, 143, 48, 127, 5, 111, 145, 32, 142, 138, 146, 60, 10, 70, 8, 68, 98, 148, 130, 86, 72, 109, 66, 73, 116, 54, 130, 95, 82, 36, 16, 122, 49, 39, 16, 48, 117, 40, 49, 134, 72, 77, 66, 14, 96, 18, 39, 144, 58, 61, 33, 123, 142, 90, 148, 55, 141, 16, 82, 72, 113, 127, 26, 143, 90, 40, 86, 97, 17, 31, 120, 117, 134, 54, 125, 4, 102, 52, 27, 74, 142, 138, 46, 8, 116, 13, 64, 95, 6, 103, 74, 89, 72, 96, 100, 12, 31, 70, 97, 52, 106, 49, 95, 43, 61, 23, 140, 26, 148, 74, 112, 70, 51, 80, 10, 60, 118, 77, 53, 47, 69, 11, 78, 137, 24, 66, 124, 36, 69, 90, 68, 62, 22, 79, 134, 15, 128, 45, 5, 141, 139, 30, 72, 38, 76, 30, 33, 115, 105, 96, 51, 37, 7, 66, 0, 90, 147, 95, 19, 63, 48, 91, 138, 38, 117, 126, 67, 7, 12, 138, 96, 6, 111, 39, 30, 26, 94, 18, 101, 128, 141, 119, 61, 35, 130, 95, 71, 26, 49, 21, 54, 48, 115, 56, 68, 61, 11, 132, 7, 113, 5, 13, 33, 82, 43, 41, 47, 6, 29, 112, 13, 63, 76, 36, 143, 88, 141, 37, 43, 92, 124, 114, 74, 81, 141, 142, 45, 32, 46, 62, 55, 70, 7, 56, 47, 92, 51, 109, 34, 116, 123, 14, 119, 22, 93, 37, 42, 59, 10, 112, 38, 78, 136, 136, 137, 138, 80, 29, 28, 72, 43, 149, 50, 63, 66, 114, 39, 112, 87, 147, 23, 136, 36, 88, 80, 71, 115, 93, 125, 142, 113, 39, 90, 63, 146, 142, 119, 31, 85, 132, 126, 114, 80, 86, 127, 71, 63, 141, 132, 114, 1, 14, 106, 101, 62, 122, 129, 4, 42, 86, 91, 16, 29, 84, 104, 8, 136, 50, 128, 147, 97, 142, 82, 78, 38, 1, 125, 34, 50, 113, 120, 75, 72, 82, 105, 104, 100, 121, 39, 145, 33, 79, 123, 72, 6, 143, 88, 84, 142, 141, 73, 9, 97]\n",
      "360\n",
      "[55, 1, 84, 147, 144, 38, 110, 126, 143, 48, 127, 5, 111, 145, 32, 142, 138, 146, 60, 10, 70, 8, 68, 98, 148, 130, 86, 72, 109, 66, 73, 116, 54, 130, 95, 82, 36, 16, 122, 49, 39, 16, 48, 117, 40, 49, 134, 72, 77, 66, 14, 96, 18, 39, 144, 58, 61, 33, 123, 142, 90, 148, 55, 141, 16, 82, 72, 113, 127, 26, 143, 90, 40, 86, 97, 17, 31, 120, 117, 134, 54, 125, 4, 102, 52, 27, 74, 142, 138, 46, 8, 116, 13, 64, 95, 6, 103, 74, 89, 72, 96, 100, 12, 31, 70, 97, 52, 106, 49, 95, 43, 61, 23, 140, 26, 148, 74, 112, 70, 51, 80, 10, 60, 118, 77, 53, 47, 69, 11, 78, 137, 24, 66, 124, 36, 69, 90, 68, 62, 22, 79, 134, 15, 128, 45, 5, 141, 139, 30, 72, 38, 76, 30, 33, 115, 105, 96, 51, 37, 7, 66, 0, 90, 147, 95, 19, 63, 48, 91, 138, 38, 117, 126, 67, 7, 12, 138, 96, 6, 111, 39, 30, 26, 94, 18, 101, 128, 141, 119, 61, 35, 130, 95, 71, 26, 49, 21, 54, 48, 115, 56, 68, 61, 11, 132, 7, 113, 5, 13, 33, 82, 43, 41, 47, 6, 29, 112, 13, 63, 76, 36, 143, 88, 141, 37, 43, 92, 124, 114, 74, 81, 141, 142, 45, 32, 46, 62, 55, 70, 7, 56, 47, 92, 51, 109, 34, 116, 123, 14, 119, 22, 93, 37, 42, 59, 10, 112, 38, 78, 136, 136, 137, 138, 80, 29, 28, 72, 43, 149, 50, 63, 66, 114, 39, 112, 87, 147, 23, 136, 36, 88, 80, 71, 115, 93, 125, 142, 113, 39, 90, 63, 146, 142, 119, 31, 85, 132, 126, 114, 80, 86, 127, 71, 63, 141, 132, 114, 1, 14, 106, 101, 62, 122, 129, 4, 42, 86, 91, 16, 29, 84, 104, 8, 136, 50, 128, 147, 97, 142, 82, 78, 38, 1, 125, 34, 50, 113, 120, 75, 72, 82, 105, 104, 100, 121, 39, 145, 33, 79, 123, 72, 6, 143, 88, 84, 142, 141, 73, 9, 97, 23, 92, 42, 75, 80, 110, 88, 144, 94, 36]\n",
      "370\n",
      "[55, 1, 84, 147, 144, 38, 110, 126, 143, 48, 127, 5, 111, 145, 32, 142, 138, 146, 60, 10, 70, 8, 68, 98, 148, 130, 86, 72, 109, 66, 73, 116, 54, 130, 95, 82, 36, 16, 122, 49, 39, 16, 48, 117, 40, 49, 134, 72, 77, 66, 14, 96, 18, 39, 144, 58, 61, 33, 123, 142, 90, 148, 55, 141, 16, 82, 72, 113, 127, 26, 143, 90, 40, 86, 97, 17, 31, 120, 117, 134, 54, 125, 4, 102, 52, 27, 74, 142, 138, 46, 8, 116, 13, 64, 95, 6, 103, 74, 89, 72, 96, 100, 12, 31, 70, 97, 52, 106, 49, 95, 43, 61, 23, 140, 26, 148, 74, 112, 70, 51, 80, 10, 60, 118, 77, 53, 47, 69, 11, 78, 137, 24, 66, 124, 36, 69, 90, 68, 62, 22, 79, 134, 15, 128, 45, 5, 141, 139, 30, 72, 38, 76, 30, 33, 115, 105, 96, 51, 37, 7, 66, 0, 90, 147, 95, 19, 63, 48, 91, 138, 38, 117, 126, 67, 7, 12, 138, 96, 6, 111, 39, 30, 26, 94, 18, 101, 128, 141, 119, 61, 35, 130, 95, 71, 26, 49, 21, 54, 48, 115, 56, 68, 61, 11, 132, 7, 113, 5, 13, 33, 82, 43, 41, 47, 6, 29, 112, 13, 63, 76, 36, 143, 88, 141, 37, 43, 92, 124, 114, 74, 81, 141, 142, 45, 32, 46, 62, 55, 70, 7, 56, 47, 92, 51, 109, 34, 116, 123, 14, 119, 22, 93, 37, 42, 59, 10, 112, 38, 78, 136, 136, 137, 138, 80, 29, 28, 72, 43, 149, 50, 63, 66, 114, 39, 112, 87, 147, 23, 136, 36, 88, 80, 71, 115, 93, 125, 142, 113, 39, 90, 63, 146, 142, 119, 31, 85, 132, 126, 114, 80, 86, 127, 71, 63, 141, 132, 114, 1, 14, 106, 101, 62, 122, 129, 4, 42, 86, 91, 16, 29, 84, 104, 8, 136, 50, 128, 147, 97, 142, 82, 78, 38, 1, 125, 34, 50, 113, 120, 75, 72, 82, 105, 104, 100, 121, 39, 145, 33, 79, 123, 72, 6, 143, 88, 84, 142, 141, 73, 9, 97, 23, 92, 42, 75, 80, 110, 88, 144, 94, 36, 122, 47, 140, 91, 106, 2, 126, 23, 22, 79]\n",
      "380\n",
      "[55, 1, 84, 147, 144, 38, 110, 126, 143, 48, 127, 5, 111, 145, 32, 142, 138, 146, 60, 10, 70, 8, 68, 98, 148, 130, 86, 72, 109, 66, 73, 116, 54, 130, 95, 82, 36, 16, 122, 49, 39, 16, 48, 117, 40, 49, 134, 72, 77, 66, 14, 96, 18, 39, 144, 58, 61, 33, 123, 142, 90, 148, 55, 141, 16, 82, 72, 113, 127, 26, 143, 90, 40, 86, 97, 17, 31, 120, 117, 134, 54, 125, 4, 102, 52, 27, 74, 142, 138, 46, 8, 116, 13, 64, 95, 6, 103, 74, 89, 72, 96, 100, 12, 31, 70, 97, 52, 106, 49, 95, 43, 61, 23, 140, 26, 148, 74, 112, 70, 51, 80, 10, 60, 118, 77, 53, 47, 69, 11, 78, 137, 24, 66, 124, 36, 69, 90, 68, 62, 22, 79, 134, 15, 128, 45, 5, 141, 139, 30, 72, 38, 76, 30, 33, 115, 105, 96, 51, 37, 7, 66, 0, 90, 147, 95, 19, 63, 48, 91, 138, 38, 117, 126, 67, 7, 12, 138, 96, 6, 111, 39, 30, 26, 94, 18, 101, 128, 141, 119, 61, 35, 130, 95, 71, 26, 49, 21, 54, 48, 115, 56, 68, 61, 11, 132, 7, 113, 5, 13, 33, 82, 43, 41, 47, 6, 29, 112, 13, 63, 76, 36, 143, 88, 141, 37, 43, 92, 124, 114, 74, 81, 141, 142, 45, 32, 46, 62, 55, 70, 7, 56, 47, 92, 51, 109, 34, 116, 123, 14, 119, 22, 93, 37, 42, 59, 10, 112, 38, 78, 136, 136, 137, 138, 80, 29, 28, 72, 43, 149, 50, 63, 66, 114, 39, 112, 87, 147, 23, 136, 36, 88, 80, 71, 115, 93, 125, 142, 113, 39, 90, 63, 146, 142, 119, 31, 85, 132, 126, 114, 80, 86, 127, 71, 63, 141, 132, 114, 1, 14, 106, 101, 62, 122, 129, 4, 42, 86, 91, 16, 29, 84, 104, 8, 136, 50, 128, 147, 97, 142, 82, 78, 38, 1, 125, 34, 50, 113, 120, 75, 72, 82, 105, 104, 100, 121, 39, 145, 33, 79, 123, 72, 6, 143, 88, 84, 142, 141, 73, 9, 97, 23, 92, 42, 75, 80, 110, 88, 144, 94, 36, 122, 47, 140, 91, 106, 2, 126, 23, 22, 79, 141, 64, 42, 122, 123, 47, 105, 65, 82, 80]\n",
      "390\n",
      "[55, 1, 84, 147, 144, 38, 110, 126, 143, 48, 127, 5, 111, 145, 32, 142, 138, 146, 60, 10, 70, 8, 68, 98, 148, 130, 86, 72, 109, 66, 73, 116, 54, 130, 95, 82, 36, 16, 122, 49, 39, 16, 48, 117, 40, 49, 134, 72, 77, 66, 14, 96, 18, 39, 144, 58, 61, 33, 123, 142, 90, 148, 55, 141, 16, 82, 72, 113, 127, 26, 143, 90, 40, 86, 97, 17, 31, 120, 117, 134, 54, 125, 4, 102, 52, 27, 74, 142, 138, 46, 8, 116, 13, 64, 95, 6, 103, 74, 89, 72, 96, 100, 12, 31, 70, 97, 52, 106, 49, 95, 43, 61, 23, 140, 26, 148, 74, 112, 70, 51, 80, 10, 60, 118, 77, 53, 47, 69, 11, 78, 137, 24, 66, 124, 36, 69, 90, 68, 62, 22, 79, 134, 15, 128, 45, 5, 141, 139, 30, 72, 38, 76, 30, 33, 115, 105, 96, 51, 37, 7, 66, 0, 90, 147, 95, 19, 63, 48, 91, 138, 38, 117, 126, 67, 7, 12, 138, 96, 6, 111, 39, 30, 26, 94, 18, 101, 128, 141, 119, 61, 35, 130, 95, 71, 26, 49, 21, 54, 48, 115, 56, 68, 61, 11, 132, 7, 113, 5, 13, 33, 82, 43, 41, 47, 6, 29, 112, 13, 63, 76, 36, 143, 88, 141, 37, 43, 92, 124, 114, 74, 81, 141, 142, 45, 32, 46, 62, 55, 70, 7, 56, 47, 92, 51, 109, 34, 116, 123, 14, 119, 22, 93, 37, 42, 59, 10, 112, 38, 78, 136, 136, 137, 138, 80, 29, 28, 72, 43, 149, 50, 63, 66, 114, 39, 112, 87, 147, 23, 136, 36, 88, 80, 71, 115, 93, 125, 142, 113, 39, 90, 63, 146, 142, 119, 31, 85, 132, 126, 114, 80, 86, 127, 71, 63, 141, 132, 114, 1, 14, 106, 101, 62, 122, 129, 4, 42, 86, 91, 16, 29, 84, 104, 8, 136, 50, 128, 147, 97, 142, 82, 78, 38, 1, 125, 34, 50, 113, 120, 75, 72, 82, 105, 104, 100, 121, 39, 145, 33, 79, 123, 72, 6, 143, 88, 84, 142, 141, 73, 9, 97, 23, 92, 42, 75, 80, 110, 88, 144, 94, 36, 122, 47, 140, 91, 106, 2, 126, 23, 22, 79, 141, 64, 42, 122, 123, 47, 105, 65, 82, 80, 101, 67, 50, 82, 39, 66, 81, 63, 131, 123]\n",
      "400\n",
      "[55, 1, 84, 147, 144, 38, 110, 126, 143, 48, 127, 5, 111, 145, 32, 142, 138, 146, 60, 10, 70, 8, 68, 98, 148, 130, 86, 72, 109, 66, 73, 116, 54, 130, 95, 82, 36, 16, 122, 49, 39, 16, 48, 117, 40, 49, 134, 72, 77, 66, 14, 96, 18, 39, 144, 58, 61, 33, 123, 142, 90, 148, 55, 141, 16, 82, 72, 113, 127, 26, 143, 90, 40, 86, 97, 17, 31, 120, 117, 134, 54, 125, 4, 102, 52, 27, 74, 142, 138, 46, 8, 116, 13, 64, 95, 6, 103, 74, 89, 72, 96, 100, 12, 31, 70, 97, 52, 106, 49, 95, 43, 61, 23, 140, 26, 148, 74, 112, 70, 51, 80, 10, 60, 118, 77, 53, 47, 69, 11, 78, 137, 24, 66, 124, 36, 69, 90, 68, 62, 22, 79, 134, 15, 128, 45, 5, 141, 139, 30, 72, 38, 76, 30, 33, 115, 105, 96, 51, 37, 7, 66, 0, 90, 147, 95, 19, 63, 48, 91, 138, 38, 117, 126, 67, 7, 12, 138, 96, 6, 111, 39, 30, 26, 94, 18, 101, 128, 141, 119, 61, 35, 130, 95, 71, 26, 49, 21, 54, 48, 115, 56, 68, 61, 11, 132, 7, 113, 5, 13, 33, 82, 43, 41, 47, 6, 29, 112, 13, 63, 76, 36, 143, 88, 141, 37, 43, 92, 124, 114, 74, 81, 141, 142, 45, 32, 46, 62, 55, 70, 7, 56, 47, 92, 51, 109, 34, 116, 123, 14, 119, 22, 93, 37, 42, 59, 10, 112, 38, 78, 136, 136, 137, 138, 80, 29, 28, 72, 43, 149, 50, 63, 66, 114, 39, 112, 87, 147, 23, 136, 36, 88, 80, 71, 115, 93, 125, 142, 113, 39, 90, 63, 146, 142, 119, 31, 85, 132, 126, 114, 80, 86, 127, 71, 63, 141, 132, 114, 1, 14, 106, 101, 62, 122, 129, 4, 42, 86, 91, 16, 29, 84, 104, 8, 136, 50, 128, 147, 97, 142, 82, 78, 38, 1, 125, 34, 50, 113, 120, 75, 72, 82, 105, 104, 100, 121, 39, 145, 33, 79, 123, 72, 6, 143, 88, 84, 142, 141, 73, 9, 97, 23, 92, 42, 75, 80, 110, 88, 144, 94, 36, 122, 47, 140, 91, 106, 2, 126, 23, 22, 79, 141, 64, 42, 122, 123, 47, 105, 65, 82, 80, 101, 67, 50, 82, 39, 66, 81, 63, 131, 123, 16, 85, 24, 42, 4, 26, 109, 94, 8, 33]\n",
      "410\n",
      "[55, 1, 84, 147, 144, 38, 110, 126, 143, 48, 127, 5, 111, 145, 32, 142, 138, 146, 60, 10, 70, 8, 68, 98, 148, 130, 86, 72, 109, 66, 73, 116, 54, 130, 95, 82, 36, 16, 122, 49, 39, 16, 48, 117, 40, 49, 134, 72, 77, 66, 14, 96, 18, 39, 144, 58, 61, 33, 123, 142, 90, 148, 55, 141, 16, 82, 72, 113, 127, 26, 143, 90, 40, 86, 97, 17, 31, 120, 117, 134, 54, 125, 4, 102, 52, 27, 74, 142, 138, 46, 8, 116, 13, 64, 95, 6, 103, 74, 89, 72, 96, 100, 12, 31, 70, 97, 52, 106, 49, 95, 43, 61, 23, 140, 26, 148, 74, 112, 70, 51, 80, 10, 60, 118, 77, 53, 47, 69, 11, 78, 137, 24, 66, 124, 36, 69, 90, 68, 62, 22, 79, 134, 15, 128, 45, 5, 141, 139, 30, 72, 38, 76, 30, 33, 115, 105, 96, 51, 37, 7, 66, 0, 90, 147, 95, 19, 63, 48, 91, 138, 38, 117, 126, 67, 7, 12, 138, 96, 6, 111, 39, 30, 26, 94, 18, 101, 128, 141, 119, 61, 35, 130, 95, 71, 26, 49, 21, 54, 48, 115, 56, 68, 61, 11, 132, 7, 113, 5, 13, 33, 82, 43, 41, 47, 6, 29, 112, 13, 63, 76, 36, 143, 88, 141, 37, 43, 92, 124, 114, 74, 81, 141, 142, 45, 32, 46, 62, 55, 70, 7, 56, 47, 92, 51, 109, 34, 116, 123, 14, 119, 22, 93, 37, 42, 59, 10, 112, 38, 78, 136, 136, 137, 138, 80, 29, 28, 72, 43, 149, 50, 63, 66, 114, 39, 112, 87, 147, 23, 136, 36, 88, 80, 71, 115, 93, 125, 142, 113, 39, 90, 63, 146, 142, 119, 31, 85, 132, 126, 114, 80, 86, 127, 71, 63, 141, 132, 114, 1, 14, 106, 101, 62, 122, 129, 4, 42, 86, 91, 16, 29, 84, 104, 8, 136, 50, 128, 147, 97, 142, 82, 78, 38, 1, 125, 34, 50, 113, 120, 75, 72, 82, 105, 104, 100, 121, 39, 145, 33, 79, 123, 72, 6, 143, 88, 84, 142, 141, 73, 9, 97, 23, 92, 42, 75, 80, 110, 88, 144, 94, 36, 122, 47, 140, 91, 106, 2, 126, 23, 22, 79, 141, 64, 42, 122, 123, 47, 105, 65, 82, 80, 101, 67, 50, 82, 39, 66, 81, 63, 131, 123, 16, 85, 24, 42, 4, 26, 109, 94, 8, 33, 109, 42, 21, 121, 128, 10, 3, 119, 124, 38]\n",
      "420\n",
      "[55, 1, 84, 147, 144, 38, 110, 126, 143, 48, 127, 5, 111, 145, 32, 142, 138, 146, 60, 10, 70, 8, 68, 98, 148, 130, 86, 72, 109, 66, 73, 116, 54, 130, 95, 82, 36, 16, 122, 49, 39, 16, 48, 117, 40, 49, 134, 72, 77, 66, 14, 96, 18, 39, 144, 58, 61, 33, 123, 142, 90, 148, 55, 141, 16, 82, 72, 113, 127, 26, 143, 90, 40, 86, 97, 17, 31, 120, 117, 134, 54, 125, 4, 102, 52, 27, 74, 142, 138, 46, 8, 116, 13, 64, 95, 6, 103, 74, 89, 72, 96, 100, 12, 31, 70, 97, 52, 106, 49, 95, 43, 61, 23, 140, 26, 148, 74, 112, 70, 51, 80, 10, 60, 118, 77, 53, 47, 69, 11, 78, 137, 24, 66, 124, 36, 69, 90, 68, 62, 22, 79, 134, 15, 128, 45, 5, 141, 139, 30, 72, 38, 76, 30, 33, 115, 105, 96, 51, 37, 7, 66, 0, 90, 147, 95, 19, 63, 48, 91, 138, 38, 117, 126, 67, 7, 12, 138, 96, 6, 111, 39, 30, 26, 94, 18, 101, 128, 141, 119, 61, 35, 130, 95, 71, 26, 49, 21, 54, 48, 115, 56, 68, 61, 11, 132, 7, 113, 5, 13, 33, 82, 43, 41, 47, 6, 29, 112, 13, 63, 76, 36, 143, 88, 141, 37, 43, 92, 124, 114, 74, 81, 141, 142, 45, 32, 46, 62, 55, 70, 7, 56, 47, 92, 51, 109, 34, 116, 123, 14, 119, 22, 93, 37, 42, 59, 10, 112, 38, 78, 136, 136, 137, 138, 80, 29, 28, 72, 43, 149, 50, 63, 66, 114, 39, 112, 87, 147, 23, 136, 36, 88, 80, 71, 115, 93, 125, 142, 113, 39, 90, 63, 146, 142, 119, 31, 85, 132, 126, 114, 80, 86, 127, 71, 63, 141, 132, 114, 1, 14, 106, 101, 62, 122, 129, 4, 42, 86, 91, 16, 29, 84, 104, 8, 136, 50, 128, 147, 97, 142, 82, 78, 38, 1, 125, 34, 50, 113, 120, 75, 72, 82, 105, 104, 100, 121, 39, 145, 33, 79, 123, 72, 6, 143, 88, 84, 142, 141, 73, 9, 97, 23, 92, 42, 75, 80, 110, 88, 144, 94, 36, 122, 47, 140, 91, 106, 2, 126, 23, 22, 79, 141, 64, 42, 122, 123, 47, 105, 65, 82, 80, 101, 67, 50, 82, 39, 66, 81, 63, 131, 123, 16, 85, 24, 42, 4, 26, 109, 94, 8, 33, 109, 42, 21, 121, 128, 10, 3, 119, 124, 38, 24, 3, 17, 68, 48, 82, 56, 107, 55, 22]\n",
      "430\n",
      "[55, 1, 84, 147, 144, 38, 110, 126, 143, 48, 127, 5, 111, 145, 32, 142, 138, 146, 60, 10, 70, 8, 68, 98, 148, 130, 86, 72, 109, 66, 73, 116, 54, 130, 95, 82, 36, 16, 122, 49, 39, 16, 48, 117, 40, 49, 134, 72, 77, 66, 14, 96, 18, 39, 144, 58, 61, 33, 123, 142, 90, 148, 55, 141, 16, 82, 72, 113, 127, 26, 143, 90, 40, 86, 97, 17, 31, 120, 117, 134, 54, 125, 4, 102, 52, 27, 74, 142, 138, 46, 8, 116, 13, 64, 95, 6, 103, 74, 89, 72, 96, 100, 12, 31, 70, 97, 52, 106, 49, 95, 43, 61, 23, 140, 26, 148, 74, 112, 70, 51, 80, 10, 60, 118, 77, 53, 47, 69, 11, 78, 137, 24, 66, 124, 36, 69, 90, 68, 62, 22, 79, 134, 15, 128, 45, 5, 141, 139, 30, 72, 38, 76, 30, 33, 115, 105, 96, 51, 37, 7, 66, 0, 90, 147, 95, 19, 63, 48, 91, 138, 38, 117, 126, 67, 7, 12, 138, 96, 6, 111, 39, 30, 26, 94, 18, 101, 128, 141, 119, 61, 35, 130, 95, 71, 26, 49, 21, 54, 48, 115, 56, 68, 61, 11, 132, 7, 113, 5, 13, 33, 82, 43, 41, 47, 6, 29, 112, 13, 63, 76, 36, 143, 88, 141, 37, 43, 92, 124, 114, 74, 81, 141, 142, 45, 32, 46, 62, 55, 70, 7, 56, 47, 92, 51, 109, 34, 116, 123, 14, 119, 22, 93, 37, 42, 59, 10, 112, 38, 78, 136, 136, 137, 138, 80, 29, 28, 72, 43, 149, 50, 63, 66, 114, 39, 112, 87, 147, 23, 136, 36, 88, 80, 71, 115, 93, 125, 142, 113, 39, 90, 63, 146, 142, 119, 31, 85, 132, 126, 114, 80, 86, 127, 71, 63, 141, 132, 114, 1, 14, 106, 101, 62, 122, 129, 4, 42, 86, 91, 16, 29, 84, 104, 8, 136, 50, 128, 147, 97, 142, 82, 78, 38, 1, 125, 34, 50, 113, 120, 75, 72, 82, 105, 104, 100, 121, 39, 145, 33, 79, 123, 72, 6, 143, 88, 84, 142, 141, 73, 9, 97, 23, 92, 42, 75, 80, 110, 88, 144, 94, 36, 122, 47, 140, 91, 106, 2, 126, 23, 22, 79, 141, 64, 42, 122, 123, 47, 105, 65, 82, 80, 101, 67, 50, 82, 39, 66, 81, 63, 131, 123, 16, 85, 24, 42, 4, 26, 109, 94, 8, 33, 109, 42, 21, 121, 128, 10, 3, 119, 124, 38, 24, 3, 17, 68, 48, 82, 56, 107, 55, 22, 91, 43, 53, 119, 85, 82, 55, 102, 29, 87]\n",
      "440\n",
      "[55, 1, 84, 147, 144, 38, 110, 126, 143, 48, 127, 5, 111, 145, 32, 142, 138, 146, 60, 10, 70, 8, 68, 98, 148, 130, 86, 72, 109, 66, 73, 116, 54, 130, 95, 82, 36, 16, 122, 49, 39, 16, 48, 117, 40, 49, 134, 72, 77, 66, 14, 96, 18, 39, 144, 58, 61, 33, 123, 142, 90, 148, 55, 141, 16, 82, 72, 113, 127, 26, 143, 90, 40, 86, 97, 17, 31, 120, 117, 134, 54, 125, 4, 102, 52, 27, 74, 142, 138, 46, 8, 116, 13, 64, 95, 6, 103, 74, 89, 72, 96, 100, 12, 31, 70, 97, 52, 106, 49, 95, 43, 61, 23, 140, 26, 148, 74, 112, 70, 51, 80, 10, 60, 118, 77, 53, 47, 69, 11, 78, 137, 24, 66, 124, 36, 69, 90, 68, 62, 22, 79, 134, 15, 128, 45, 5, 141, 139, 30, 72, 38, 76, 30, 33, 115, 105, 96, 51, 37, 7, 66, 0, 90, 147, 95, 19, 63, 48, 91, 138, 38, 117, 126, 67, 7, 12, 138, 96, 6, 111, 39, 30, 26, 94, 18, 101, 128, 141, 119, 61, 35, 130, 95, 71, 26, 49, 21, 54, 48, 115, 56, 68, 61, 11, 132, 7, 113, 5, 13, 33, 82, 43, 41, 47, 6, 29, 112, 13, 63, 76, 36, 143, 88, 141, 37, 43, 92, 124, 114, 74, 81, 141, 142, 45, 32, 46, 62, 55, 70, 7, 56, 47, 92, 51, 109, 34, 116, 123, 14, 119, 22, 93, 37, 42, 59, 10, 112, 38, 78, 136, 136, 137, 138, 80, 29, 28, 72, 43, 149, 50, 63, 66, 114, 39, 112, 87, 147, 23, 136, 36, 88, 80, 71, 115, 93, 125, 142, 113, 39, 90, 63, 146, 142, 119, 31, 85, 132, 126, 114, 80, 86, 127, 71, 63, 141, 132, 114, 1, 14, 106, 101, 62, 122, 129, 4, 42, 86, 91, 16, 29, 84, 104, 8, 136, 50, 128, 147, 97, 142, 82, 78, 38, 1, 125, 34, 50, 113, 120, 75, 72, 82, 105, 104, 100, 121, 39, 145, 33, 79, 123, 72, 6, 143, 88, 84, 142, 141, 73, 9, 97, 23, 92, 42, 75, 80, 110, 88, 144, 94, 36, 122, 47, 140, 91, 106, 2, 126, 23, 22, 79, 141, 64, 42, 122, 123, 47, 105, 65, 82, 80, 101, 67, 50, 82, 39, 66, 81, 63, 131, 123, 16, 85, 24, 42, 4, 26, 109, 94, 8, 33, 109, 42, 21, 121, 128, 10, 3, 119, 124, 38, 24, 3, 17, 68, 48, 82, 56, 107, 55, 22, 91, 43, 53, 119, 85, 82, 55, 102, 29, 87, 116, 64, 61, 107, 21, 58, 47, 87, 149, 88]\n",
      "450\n",
      "[55, 1, 84, 147, 144, 38, 110, 126, 143, 48, 127, 5, 111, 145, 32, 142, 138, 146, 60, 10, 70, 8, 68, 98, 148, 130, 86, 72, 109, 66, 73, 116, 54, 130, 95, 82, 36, 16, 122, 49, 39, 16, 48, 117, 40, 49, 134, 72, 77, 66, 14, 96, 18, 39, 144, 58, 61, 33, 123, 142, 90, 148, 55, 141, 16, 82, 72, 113, 127, 26, 143, 90, 40, 86, 97, 17, 31, 120, 117, 134, 54, 125, 4, 102, 52, 27, 74, 142, 138, 46, 8, 116, 13, 64, 95, 6, 103, 74, 89, 72, 96, 100, 12, 31, 70, 97, 52, 106, 49, 95, 43, 61, 23, 140, 26, 148, 74, 112, 70, 51, 80, 10, 60, 118, 77, 53, 47, 69, 11, 78, 137, 24, 66, 124, 36, 69, 90, 68, 62, 22, 79, 134, 15, 128, 45, 5, 141, 139, 30, 72, 38, 76, 30, 33, 115, 105, 96, 51, 37, 7, 66, 0, 90, 147, 95, 19, 63, 48, 91, 138, 38, 117, 126, 67, 7, 12, 138, 96, 6, 111, 39, 30, 26, 94, 18, 101, 128, 141, 119, 61, 35, 130, 95, 71, 26, 49, 21, 54, 48, 115, 56, 68, 61, 11, 132, 7, 113, 5, 13, 33, 82, 43, 41, 47, 6, 29, 112, 13, 63, 76, 36, 143, 88, 141, 37, 43, 92, 124, 114, 74, 81, 141, 142, 45, 32, 46, 62, 55, 70, 7, 56, 47, 92, 51, 109, 34, 116, 123, 14, 119, 22, 93, 37, 42, 59, 10, 112, 38, 78, 136, 136, 137, 138, 80, 29, 28, 72, 43, 149, 50, 63, 66, 114, 39, 112, 87, 147, 23, 136, 36, 88, 80, 71, 115, 93, 125, 142, 113, 39, 90, 63, 146, 142, 119, 31, 85, 132, 126, 114, 80, 86, 127, 71, 63, 141, 132, 114, 1, 14, 106, 101, 62, 122, 129, 4, 42, 86, 91, 16, 29, 84, 104, 8, 136, 50, 128, 147, 97, 142, 82, 78, 38, 1, 125, 34, 50, 113, 120, 75, 72, 82, 105, 104, 100, 121, 39, 145, 33, 79, 123, 72, 6, 143, 88, 84, 142, 141, 73, 9, 97, 23, 92, 42, 75, 80, 110, 88, 144, 94, 36, 122, 47, 140, 91, 106, 2, 126, 23, 22, 79, 141, 64, 42, 122, 123, 47, 105, 65, 82, 80, 101, 67, 50, 82, 39, 66, 81, 63, 131, 123, 16, 85, 24, 42, 4, 26, 109, 94, 8, 33, 109, 42, 21, 121, 128, 10, 3, 119, 124, 38, 24, 3, 17, 68, 48, 82, 56, 107, 55, 22, 91, 43, 53, 119, 85, 82, 55, 102, 29, 87, 116, 64, 61, 107, 21, 58, 47, 87, 149, 88, 103, 37, 61, 90, 56, 83, 114, 6, 81, 86]\n",
      "460\n",
      "[55, 1, 84, 147, 144, 38, 110, 126, 143, 48, 127, 5, 111, 145, 32, 142, 138, 146, 60, 10, 70, 8, 68, 98, 148, 130, 86, 72, 109, 66, 73, 116, 54, 130, 95, 82, 36, 16, 122, 49, 39, 16, 48, 117, 40, 49, 134, 72, 77, 66, 14, 96, 18, 39, 144, 58, 61, 33, 123, 142, 90, 148, 55, 141, 16, 82, 72, 113, 127, 26, 143, 90, 40, 86, 97, 17, 31, 120, 117, 134, 54, 125, 4, 102, 52, 27, 74, 142, 138, 46, 8, 116, 13, 64, 95, 6, 103, 74, 89, 72, 96, 100, 12, 31, 70, 97, 52, 106, 49, 95, 43, 61, 23, 140, 26, 148, 74, 112, 70, 51, 80, 10, 60, 118, 77, 53, 47, 69, 11, 78, 137, 24, 66, 124, 36, 69, 90, 68, 62, 22, 79, 134, 15, 128, 45, 5, 141, 139, 30, 72, 38, 76, 30, 33, 115, 105, 96, 51, 37, 7, 66, 0, 90, 147, 95, 19, 63, 48, 91, 138, 38, 117, 126, 67, 7, 12, 138, 96, 6, 111, 39, 30, 26, 94, 18, 101, 128, 141, 119, 61, 35, 130, 95, 71, 26, 49, 21, 54, 48, 115, 56, 68, 61, 11, 132, 7, 113, 5, 13, 33, 82, 43, 41, 47, 6, 29, 112, 13, 63, 76, 36, 143, 88, 141, 37, 43, 92, 124, 114, 74, 81, 141, 142, 45, 32, 46, 62, 55, 70, 7, 56, 47, 92, 51, 109, 34, 116, 123, 14, 119, 22, 93, 37, 42, 59, 10, 112, 38, 78, 136, 136, 137, 138, 80, 29, 28, 72, 43, 149, 50, 63, 66, 114, 39, 112, 87, 147, 23, 136, 36, 88, 80, 71, 115, 93, 125, 142, 113, 39, 90, 63, 146, 142, 119, 31, 85, 132, 126, 114, 80, 86, 127, 71, 63, 141, 132, 114, 1, 14, 106, 101, 62, 122, 129, 4, 42, 86, 91, 16, 29, 84, 104, 8, 136, 50, 128, 147, 97, 142, 82, 78, 38, 1, 125, 34, 50, 113, 120, 75, 72, 82, 105, 104, 100, 121, 39, 145, 33, 79, 123, 72, 6, 143, 88, 84, 142, 141, 73, 9, 97, 23, 92, 42, 75, 80, 110, 88, 144, 94, 36, 122, 47, 140, 91, 106, 2, 126, 23, 22, 79, 141, 64, 42, 122, 123, 47, 105, 65, 82, 80, 101, 67, 50, 82, 39, 66, 81, 63, 131, 123, 16, 85, 24, 42, 4, 26, 109, 94, 8, 33, 109, 42, 21, 121, 128, 10, 3, 119, 124, 38, 24, 3, 17, 68, 48, 82, 56, 107, 55, 22, 91, 43, 53, 119, 85, 82, 55, 102, 29, 87, 116, 64, 61, 107, 21, 58, 47, 87, 149, 88, 103, 37, 61, 90, 56, 83, 114, 6, 81, 86, 2, 73, 15, 104, 8, 9, 92, 85, 126, 18]\n",
      "470\n",
      "[55, 1, 84, 147, 144, 38, 110, 126, 143, 48, 127, 5, 111, 145, 32, 142, 138, 146, 60, 10, 70, 8, 68, 98, 148, 130, 86, 72, 109, 66, 73, 116, 54, 130, 95, 82, 36, 16, 122, 49, 39, 16, 48, 117, 40, 49, 134, 72, 77, 66, 14, 96, 18, 39, 144, 58, 61, 33, 123, 142, 90, 148, 55, 141, 16, 82, 72, 113, 127, 26, 143, 90, 40, 86, 97, 17, 31, 120, 117, 134, 54, 125, 4, 102, 52, 27, 74, 142, 138, 46, 8, 116, 13, 64, 95, 6, 103, 74, 89, 72, 96, 100, 12, 31, 70, 97, 52, 106, 49, 95, 43, 61, 23, 140, 26, 148, 74, 112, 70, 51, 80, 10, 60, 118, 77, 53, 47, 69, 11, 78, 137, 24, 66, 124, 36, 69, 90, 68, 62, 22, 79, 134, 15, 128, 45, 5, 141, 139, 30, 72, 38, 76, 30, 33, 115, 105, 96, 51, 37, 7, 66, 0, 90, 147, 95, 19, 63, 48, 91, 138, 38, 117, 126, 67, 7, 12, 138, 96, 6, 111, 39, 30, 26, 94, 18, 101, 128, 141, 119, 61, 35, 130, 95, 71, 26, 49, 21, 54, 48, 115, 56, 68, 61, 11, 132, 7, 113, 5, 13, 33, 82, 43, 41, 47, 6, 29, 112, 13, 63, 76, 36, 143, 88, 141, 37, 43, 92, 124, 114, 74, 81, 141, 142, 45, 32, 46, 62, 55, 70, 7, 56, 47, 92, 51, 109, 34, 116, 123, 14, 119, 22, 93, 37, 42, 59, 10, 112, 38, 78, 136, 136, 137, 138, 80, 29, 28, 72, 43, 149, 50, 63, 66, 114, 39, 112, 87, 147, 23, 136, 36, 88, 80, 71, 115, 93, 125, 142, 113, 39, 90, 63, 146, 142, 119, 31, 85, 132, 126, 114, 80, 86, 127, 71, 63, 141, 132, 114, 1, 14, 106, 101, 62, 122, 129, 4, 42, 86, 91, 16, 29, 84, 104, 8, 136, 50, 128, 147, 97, 142, 82, 78, 38, 1, 125, 34, 50, 113, 120, 75, 72, 82, 105, 104, 100, 121, 39, 145, 33, 79, 123, 72, 6, 143, 88, 84, 142, 141, 73, 9, 97, 23, 92, 42, 75, 80, 110, 88, 144, 94, 36, 122, 47, 140, 91, 106, 2, 126, 23, 22, 79, 141, 64, 42, 122, 123, 47, 105, 65, 82, 80, 101, 67, 50, 82, 39, 66, 81, 63, 131, 123, 16, 85, 24, 42, 4, 26, 109, 94, 8, 33, 109, 42, 21, 121, 128, 10, 3, 119, 124, 38, 24, 3, 17, 68, 48, 82, 56, 107, 55, 22, 91, 43, 53, 119, 85, 82, 55, 102, 29, 87, 116, 64, 61, 107, 21, 58, 47, 87, 149, 88, 103, 37, 61, 90, 56, 83, 114, 6, 81, 86, 2, 73, 15, 104, 8, 9, 92, 85, 126, 18, 43, 116, 143, 46, 47, 131, 138, 59, 89, 69]\n",
      "480\n",
      "[55, 1, 84, 147, 144, 38, 110, 126, 143, 48, 127, 5, 111, 145, 32, 142, 138, 146, 60, 10, 70, 8, 68, 98, 148, 130, 86, 72, 109, 66, 73, 116, 54, 130, 95, 82, 36, 16, 122, 49, 39, 16, 48, 117, 40, 49, 134, 72, 77, 66, 14, 96, 18, 39, 144, 58, 61, 33, 123, 142, 90, 148, 55, 141, 16, 82, 72, 113, 127, 26, 143, 90, 40, 86, 97, 17, 31, 120, 117, 134, 54, 125, 4, 102, 52, 27, 74, 142, 138, 46, 8, 116, 13, 64, 95, 6, 103, 74, 89, 72, 96, 100, 12, 31, 70, 97, 52, 106, 49, 95, 43, 61, 23, 140, 26, 148, 74, 112, 70, 51, 80, 10, 60, 118, 77, 53, 47, 69, 11, 78, 137, 24, 66, 124, 36, 69, 90, 68, 62, 22, 79, 134, 15, 128, 45, 5, 141, 139, 30, 72, 38, 76, 30, 33, 115, 105, 96, 51, 37, 7, 66, 0, 90, 147, 95, 19, 63, 48, 91, 138, 38, 117, 126, 67, 7, 12, 138, 96, 6, 111, 39, 30, 26, 94, 18, 101, 128, 141, 119, 61, 35, 130, 95, 71, 26, 49, 21, 54, 48, 115, 56, 68, 61, 11, 132, 7, 113, 5, 13, 33, 82, 43, 41, 47, 6, 29, 112, 13, 63, 76, 36, 143, 88, 141, 37, 43, 92, 124, 114, 74, 81, 141, 142, 45, 32, 46, 62, 55, 70, 7, 56, 47, 92, 51, 109, 34, 116, 123, 14, 119, 22, 93, 37, 42, 59, 10, 112, 38, 78, 136, 136, 137, 138, 80, 29, 28, 72, 43, 149, 50, 63, 66, 114, 39, 112, 87, 147, 23, 136, 36, 88, 80, 71, 115, 93, 125, 142, 113, 39, 90, 63, 146, 142, 119, 31, 85, 132, 126, 114, 80, 86, 127, 71, 63, 141, 132, 114, 1, 14, 106, 101, 62, 122, 129, 4, 42, 86, 91, 16, 29, 84, 104, 8, 136, 50, 128, 147, 97, 142, 82, 78, 38, 1, 125, 34, 50, 113, 120, 75, 72, 82, 105, 104, 100, 121, 39, 145, 33, 79, 123, 72, 6, 143, 88, 84, 142, 141, 73, 9, 97, 23, 92, 42, 75, 80, 110, 88, 144, 94, 36, 122, 47, 140, 91, 106, 2, 126, 23, 22, 79, 141, 64, 42, 122, 123, 47, 105, 65, 82, 80, 101, 67, 50, 82, 39, 66, 81, 63, 131, 123, 16, 85, 24, 42, 4, 26, 109, 94, 8, 33, 109, 42, 21, 121, 128, 10, 3, 119, 124, 38, 24, 3, 17, 68, 48, 82, 56, 107, 55, 22, 91, 43, 53, 119, 85, 82, 55, 102, 29, 87, 116, 64, 61, 107, 21, 58, 47, 87, 149, 88, 103, 37, 61, 90, 56, 83, 114, 6, 81, 86, 2, 73, 15, 104, 8, 9, 92, 85, 126, 18, 43, 116, 143, 46, 47, 131, 138, 59, 89, 69, 94, 67, 9, 26, 145, 52, 90, 134, 30, 120]\n",
      "490\n",
      "[55, 1, 84, 147, 144, 38, 110, 126, 143, 48, 127, 5, 111, 145, 32, 142, 138, 146, 60, 10, 70, 8, 68, 98, 148, 130, 86, 72, 109, 66, 73, 116, 54, 130, 95, 82, 36, 16, 122, 49, 39, 16, 48, 117, 40, 49, 134, 72, 77, 66, 14, 96, 18, 39, 144, 58, 61, 33, 123, 142, 90, 148, 55, 141, 16, 82, 72, 113, 127, 26, 143, 90, 40, 86, 97, 17, 31, 120, 117, 134, 54, 125, 4, 102, 52, 27, 74, 142, 138, 46, 8, 116, 13, 64, 95, 6, 103, 74, 89, 72, 96, 100, 12, 31, 70, 97, 52, 106, 49, 95, 43, 61, 23, 140, 26, 148, 74, 112, 70, 51, 80, 10, 60, 118, 77, 53, 47, 69, 11, 78, 137, 24, 66, 124, 36, 69, 90, 68, 62, 22, 79, 134, 15, 128, 45, 5, 141, 139, 30, 72, 38, 76, 30, 33, 115, 105, 96, 51, 37, 7, 66, 0, 90, 147, 95, 19, 63, 48, 91, 138, 38, 117, 126, 67, 7, 12, 138, 96, 6, 111, 39, 30, 26, 94, 18, 101, 128, 141, 119, 61, 35, 130, 95, 71, 26, 49, 21, 54, 48, 115, 56, 68, 61, 11, 132, 7, 113, 5, 13, 33, 82, 43, 41, 47, 6, 29, 112, 13, 63, 76, 36, 143, 88, 141, 37, 43, 92, 124, 114, 74, 81, 141, 142, 45, 32, 46, 62, 55, 70, 7, 56, 47, 92, 51, 109, 34, 116, 123, 14, 119, 22, 93, 37, 42, 59, 10, 112, 38, 78, 136, 136, 137, 138, 80, 29, 28, 72, 43, 149, 50, 63, 66, 114, 39, 112, 87, 147, 23, 136, 36, 88, 80, 71, 115, 93, 125, 142, 113, 39, 90, 63, 146, 142, 119, 31, 85, 132, 126, 114, 80, 86, 127, 71, 63, 141, 132, 114, 1, 14, 106, 101, 62, 122, 129, 4, 42, 86, 91, 16, 29, 84, 104, 8, 136, 50, 128, 147, 97, 142, 82, 78, 38, 1, 125, 34, 50, 113, 120, 75, 72, 82, 105, 104, 100, 121, 39, 145, 33, 79, 123, 72, 6, 143, 88, 84, 142, 141, 73, 9, 97, 23, 92, 42, 75, 80, 110, 88, 144, 94, 36, 122, 47, 140, 91, 106, 2, 126, 23, 22, 79, 141, 64, 42, 122, 123, 47, 105, 65, 82, 80, 101, 67, 50, 82, 39, 66, 81, 63, 131, 123, 16, 85, 24, 42, 4, 26, 109, 94, 8, 33, 109, 42, 21, 121, 128, 10, 3, 119, 124, 38, 24, 3, 17, 68, 48, 82, 56, 107, 55, 22, 91, 43, 53, 119, 85, 82, 55, 102, 29, 87, 116, 64, 61, 107, 21, 58, 47, 87, 149, 88, 103, 37, 61, 90, 56, 83, 114, 6, 81, 86, 2, 73, 15, 104, 8, 9, 92, 85, 126, 18, 43, 116, 143, 46, 47, 131, 138, 59, 89, 69, 94, 67, 9, 26, 145, 52, 90, 134, 30, 120, 67, 80, 83, 149, 7, 57, 35, 121, 146, 31]\n",
      "500\n",
      "[55, 1, 84, 147, 144, 38, 110, 126, 143, 48, 127, 5, 111, 145, 32, 142, 138, 146, 60, 10, 70, 8, 68, 98, 148, 130, 86, 72, 109, 66, 73, 116, 54, 130, 95, 82, 36, 16, 122, 49, 39, 16, 48, 117, 40, 49, 134, 72, 77, 66, 14, 96, 18, 39, 144, 58, 61, 33, 123, 142, 90, 148, 55, 141, 16, 82, 72, 113, 127, 26, 143, 90, 40, 86, 97, 17, 31, 120, 117, 134, 54, 125, 4, 102, 52, 27, 74, 142, 138, 46, 8, 116, 13, 64, 95, 6, 103, 74, 89, 72, 96, 100, 12, 31, 70, 97, 52, 106, 49, 95, 43, 61, 23, 140, 26, 148, 74, 112, 70, 51, 80, 10, 60, 118, 77, 53, 47, 69, 11, 78, 137, 24, 66, 124, 36, 69, 90, 68, 62, 22, 79, 134, 15, 128, 45, 5, 141, 139, 30, 72, 38, 76, 30, 33, 115, 105, 96, 51, 37, 7, 66, 0, 90, 147, 95, 19, 63, 48, 91, 138, 38, 117, 126, 67, 7, 12, 138, 96, 6, 111, 39, 30, 26, 94, 18, 101, 128, 141, 119, 61, 35, 130, 95, 71, 26, 49, 21, 54, 48, 115, 56, 68, 61, 11, 132, 7, 113, 5, 13, 33, 82, 43, 41, 47, 6, 29, 112, 13, 63, 76, 36, 143, 88, 141, 37, 43, 92, 124, 114, 74, 81, 141, 142, 45, 32, 46, 62, 55, 70, 7, 56, 47, 92, 51, 109, 34, 116, 123, 14, 119, 22, 93, 37, 42, 59, 10, 112, 38, 78, 136, 136, 137, 138, 80, 29, 28, 72, 43, 149, 50, 63, 66, 114, 39, 112, 87, 147, 23, 136, 36, 88, 80, 71, 115, 93, 125, 142, 113, 39, 90, 63, 146, 142, 119, 31, 85, 132, 126, 114, 80, 86, 127, 71, 63, 141, 132, 114, 1, 14, 106, 101, 62, 122, 129, 4, 42, 86, 91, 16, 29, 84, 104, 8, 136, 50, 128, 147, 97, 142, 82, 78, 38, 1, 125, 34, 50, 113, 120, 75, 72, 82, 105, 104, 100, 121, 39, 145, 33, 79, 123, 72, 6, 143, 88, 84, 142, 141, 73, 9, 97, 23, 92, 42, 75, 80, 110, 88, 144, 94, 36, 122, 47, 140, 91, 106, 2, 126, 23, 22, 79, 141, 64, 42, 122, 123, 47, 105, 65, 82, 80, 101, 67, 50, 82, 39, 66, 81, 63, 131, 123, 16, 85, 24, 42, 4, 26, 109, 94, 8, 33, 109, 42, 21, 121, 128, 10, 3, 119, 124, 38, 24, 3, 17, 68, 48, 82, 56, 107, 55, 22, 91, 43, 53, 119, 85, 82, 55, 102, 29, 87, 116, 64, 61, 107, 21, 58, 47, 87, 149, 88, 103, 37, 61, 90, 56, 83, 114, 6, 81, 86, 2, 73, 15, 104, 8, 9, 92, 85, 126, 18, 43, 116, 143, 46, 47, 131, 138, 59, 89, 69, 94, 67, 9, 26, 145, 52, 90, 134, 30, 120, 67, 80, 83, 149, 7, 57, 35, 121, 146, 31, 4, 55, 5, 129, 124, 127, 143, 69, 70, 19]\n",
      "510\n",
      "[55, 1, 84, 147, 144, 38, 110, 126, 143, 48, 127, 5, 111, 145, 32, 142, 138, 146, 60, 10, 70, 8, 68, 98, 148, 130, 86, 72, 109, 66, 73, 116, 54, 130, 95, 82, 36, 16, 122, 49, 39, 16, 48, 117, 40, 49, 134, 72, 77, 66, 14, 96, 18, 39, 144, 58, 61, 33, 123, 142, 90, 148, 55, 141, 16, 82, 72, 113, 127, 26, 143, 90, 40, 86, 97, 17, 31, 120, 117, 134, 54, 125, 4, 102, 52, 27, 74, 142, 138, 46, 8, 116, 13, 64, 95, 6, 103, 74, 89, 72, 96, 100, 12, 31, 70, 97, 52, 106, 49, 95, 43, 61, 23, 140, 26, 148, 74, 112, 70, 51, 80, 10, 60, 118, 77, 53, 47, 69, 11, 78, 137, 24, 66, 124, 36, 69, 90, 68, 62, 22, 79, 134, 15, 128, 45, 5, 141, 139, 30, 72, 38, 76, 30, 33, 115, 105, 96, 51, 37, 7, 66, 0, 90, 147, 95, 19, 63, 48, 91, 138, 38, 117, 126, 67, 7, 12, 138, 96, 6, 111, 39, 30, 26, 94, 18, 101, 128, 141, 119, 61, 35, 130, 95, 71, 26, 49, 21, 54, 48, 115, 56, 68, 61, 11, 132, 7, 113, 5, 13, 33, 82, 43, 41, 47, 6, 29, 112, 13, 63, 76, 36, 143, 88, 141, 37, 43, 92, 124, 114, 74, 81, 141, 142, 45, 32, 46, 62, 55, 70, 7, 56, 47, 92, 51, 109, 34, 116, 123, 14, 119, 22, 93, 37, 42, 59, 10, 112, 38, 78, 136, 136, 137, 138, 80, 29, 28, 72, 43, 149, 50, 63, 66, 114, 39, 112, 87, 147, 23, 136, 36, 88, 80, 71, 115, 93, 125, 142, 113, 39, 90, 63, 146, 142, 119, 31, 85, 132, 126, 114, 80, 86, 127, 71, 63, 141, 132, 114, 1, 14, 106, 101, 62, 122, 129, 4, 42, 86, 91, 16, 29, 84, 104, 8, 136, 50, 128, 147, 97, 142, 82, 78, 38, 1, 125, 34, 50, 113, 120, 75, 72, 82, 105, 104, 100, 121, 39, 145, 33, 79, 123, 72, 6, 143, 88, 84, 142, 141, 73, 9, 97, 23, 92, 42, 75, 80, 110, 88, 144, 94, 36, 122, 47, 140, 91, 106, 2, 126, 23, 22, 79, 141, 64, 42, 122, 123, 47, 105, 65, 82, 80, 101, 67, 50, 82, 39, 66, 81, 63, 131, 123, 16, 85, 24, 42, 4, 26, 109, 94, 8, 33, 109, 42, 21, 121, 128, 10, 3, 119, 124, 38, 24, 3, 17, 68, 48, 82, 56, 107, 55, 22, 91, 43, 53, 119, 85, 82, 55, 102, 29, 87, 116, 64, 61, 107, 21, 58, 47, 87, 149, 88, 103, 37, 61, 90, 56, 83, 114, 6, 81, 86, 2, 73, 15, 104, 8, 9, 92, 85, 126, 18, 43, 116, 143, 46, 47, 131, 138, 59, 89, 69, 94, 67, 9, 26, 145, 52, 90, 134, 30, 120, 67, 80, 83, 149, 7, 57, 35, 121, 146, 31, 4, 55, 5, 129, 124, 127, 143, 69, 70, 19, 102, 94, 101, 97, 95, 16, 73, 72, 88, 87]\n",
      "520\n",
      "[55, 1, 84, 147, 144, 38, 110, 126, 143, 48, 127, 5, 111, 145, 32, 142, 138, 146, 60, 10, 70, 8, 68, 98, 148, 130, 86, 72, 109, 66, 73, 116, 54, 130, 95, 82, 36, 16, 122, 49, 39, 16, 48, 117, 40, 49, 134, 72, 77, 66, 14, 96, 18, 39, 144, 58, 61, 33, 123, 142, 90, 148, 55, 141, 16, 82, 72, 113, 127, 26, 143, 90, 40, 86, 97, 17, 31, 120, 117, 134, 54, 125, 4, 102, 52, 27, 74, 142, 138, 46, 8, 116, 13, 64, 95, 6, 103, 74, 89, 72, 96, 100, 12, 31, 70, 97, 52, 106, 49, 95, 43, 61, 23, 140, 26, 148, 74, 112, 70, 51, 80, 10, 60, 118, 77, 53, 47, 69, 11, 78, 137, 24, 66, 124, 36, 69, 90, 68, 62, 22, 79, 134, 15, 128, 45, 5, 141, 139, 30, 72, 38, 76, 30, 33, 115, 105, 96, 51, 37, 7, 66, 0, 90, 147, 95, 19, 63, 48, 91, 138, 38, 117, 126, 67, 7, 12, 138, 96, 6, 111, 39, 30, 26, 94, 18, 101, 128, 141, 119, 61, 35, 130, 95, 71, 26, 49, 21, 54, 48, 115, 56, 68, 61, 11, 132, 7, 113, 5, 13, 33, 82, 43, 41, 47, 6, 29, 112, 13, 63, 76, 36, 143, 88, 141, 37, 43, 92, 124, 114, 74, 81, 141, 142, 45, 32, 46, 62, 55, 70, 7, 56, 47, 92, 51, 109, 34, 116, 123, 14, 119, 22, 93, 37, 42, 59, 10, 112, 38, 78, 136, 136, 137, 138, 80, 29, 28, 72, 43, 149, 50, 63, 66, 114, 39, 112, 87, 147, 23, 136, 36, 88, 80, 71, 115, 93, 125, 142, 113, 39, 90, 63, 146, 142, 119, 31, 85, 132, 126, 114, 80, 86, 127, 71, 63, 141, 132, 114, 1, 14, 106, 101, 62, 122, 129, 4, 42, 86, 91, 16, 29, 84, 104, 8, 136, 50, 128, 147, 97, 142, 82, 78, 38, 1, 125, 34, 50, 113, 120, 75, 72, 82, 105, 104, 100, 121, 39, 145, 33, 79, 123, 72, 6, 143, 88, 84, 142, 141, 73, 9, 97, 23, 92, 42, 75, 80, 110, 88, 144, 94, 36, 122, 47, 140, 91, 106, 2, 126, 23, 22, 79, 141, 64, 42, 122, 123, 47, 105, 65, 82, 80, 101, 67, 50, 82, 39, 66, 81, 63, 131, 123, 16, 85, 24, 42, 4, 26, 109, 94, 8, 33, 109, 42, 21, 121, 128, 10, 3, 119, 124, 38, 24, 3, 17, 68, 48, 82, 56, 107, 55, 22, 91, 43, 53, 119, 85, 82, 55, 102, 29, 87, 116, 64, 61, 107, 21, 58, 47, 87, 149, 88, 103, 37, 61, 90, 56, 83, 114, 6, 81, 86, 2, 73, 15, 104, 8, 9, 92, 85, 126, 18, 43, 116, 143, 46, 47, 131, 138, 59, 89, 69, 94, 67, 9, 26, 145, 52, 90, 134, 30, 120, 67, 80, 83, 149, 7, 57, 35, 121, 146, 31, 4, 55, 5, 129, 124, 127, 143, 69, 70, 19, 102, 94, 101, 97, 95, 16, 73, 72, 88, 87, 5, 24, 133, 0, 60, 127, 34, 86, 146, 109]\n",
      "530\n",
      "[55, 1, 84, 147, 144, 38, 110, 126, 143, 48, 127, 5, 111, 145, 32, 142, 138, 146, 60, 10, 70, 8, 68, 98, 148, 130, 86, 72, 109, 66, 73, 116, 54, 130, 95, 82, 36, 16, 122, 49, 39, 16, 48, 117, 40, 49, 134, 72, 77, 66, 14, 96, 18, 39, 144, 58, 61, 33, 123, 142, 90, 148, 55, 141, 16, 82, 72, 113, 127, 26, 143, 90, 40, 86, 97, 17, 31, 120, 117, 134, 54, 125, 4, 102, 52, 27, 74, 142, 138, 46, 8, 116, 13, 64, 95, 6, 103, 74, 89, 72, 96, 100, 12, 31, 70, 97, 52, 106, 49, 95, 43, 61, 23, 140, 26, 148, 74, 112, 70, 51, 80, 10, 60, 118, 77, 53, 47, 69, 11, 78, 137, 24, 66, 124, 36, 69, 90, 68, 62, 22, 79, 134, 15, 128, 45, 5, 141, 139, 30, 72, 38, 76, 30, 33, 115, 105, 96, 51, 37, 7, 66, 0, 90, 147, 95, 19, 63, 48, 91, 138, 38, 117, 126, 67, 7, 12, 138, 96, 6, 111, 39, 30, 26, 94, 18, 101, 128, 141, 119, 61, 35, 130, 95, 71, 26, 49, 21, 54, 48, 115, 56, 68, 61, 11, 132, 7, 113, 5, 13, 33, 82, 43, 41, 47, 6, 29, 112, 13, 63, 76, 36, 143, 88, 141, 37, 43, 92, 124, 114, 74, 81, 141, 142, 45, 32, 46, 62, 55, 70, 7, 56, 47, 92, 51, 109, 34, 116, 123, 14, 119, 22, 93, 37, 42, 59, 10, 112, 38, 78, 136, 136, 137, 138, 80, 29, 28, 72, 43, 149, 50, 63, 66, 114, 39, 112, 87, 147, 23, 136, 36, 88, 80, 71, 115, 93, 125, 142, 113, 39, 90, 63, 146, 142, 119, 31, 85, 132, 126, 114, 80, 86, 127, 71, 63, 141, 132, 114, 1, 14, 106, 101, 62, 122, 129, 4, 42, 86, 91, 16, 29, 84, 104, 8, 136, 50, 128, 147, 97, 142, 82, 78, 38, 1, 125, 34, 50, 113, 120, 75, 72, 82, 105, 104, 100, 121, 39, 145, 33, 79, 123, 72, 6, 143, 88, 84, 142, 141, 73, 9, 97, 23, 92, 42, 75, 80, 110, 88, 144, 94, 36, 122, 47, 140, 91, 106, 2, 126, 23, 22, 79, 141, 64, 42, 122, 123, 47, 105, 65, 82, 80, 101, 67, 50, 82, 39, 66, 81, 63, 131, 123, 16, 85, 24, 42, 4, 26, 109, 94, 8, 33, 109, 42, 21, 121, 128, 10, 3, 119, 124, 38, 24, 3, 17, 68, 48, 82, 56, 107, 55, 22, 91, 43, 53, 119, 85, 82, 55, 102, 29, 87, 116, 64, 61, 107, 21, 58, 47, 87, 149, 88, 103, 37, 61, 90, 56, 83, 114, 6, 81, 86, 2, 73, 15, 104, 8, 9, 92, 85, 126, 18, 43, 116, 143, 46, 47, 131, 138, 59, 89, 69, 94, 67, 9, 26, 145, 52, 90, 134, 30, 120, 67, 80, 83, 149, 7, 57, 35, 121, 146, 31, 4, 55, 5, 129, 124, 127, 143, 69, 70, 19, 102, 94, 101, 97, 95, 16, 73, 72, 88, 87, 5, 24, 133, 0, 60, 127, 34, 86, 146, 109, 9, 113, 71, 124, 89, 102, 82, 122, 144, 99]\n",
      "540\n",
      "[55, 1, 84, 147, 144, 38, 110, 126, 143, 48, 127, 5, 111, 145, 32, 142, 138, 146, 60, 10, 70, 8, 68, 98, 148, 130, 86, 72, 109, 66, 73, 116, 54, 130, 95, 82, 36, 16, 122, 49, 39, 16, 48, 117, 40, 49, 134, 72, 77, 66, 14, 96, 18, 39, 144, 58, 61, 33, 123, 142, 90, 148, 55, 141, 16, 82, 72, 113, 127, 26, 143, 90, 40, 86, 97, 17, 31, 120, 117, 134, 54, 125, 4, 102, 52, 27, 74, 142, 138, 46, 8, 116, 13, 64, 95, 6, 103, 74, 89, 72, 96, 100, 12, 31, 70, 97, 52, 106, 49, 95, 43, 61, 23, 140, 26, 148, 74, 112, 70, 51, 80, 10, 60, 118, 77, 53, 47, 69, 11, 78, 137, 24, 66, 124, 36, 69, 90, 68, 62, 22, 79, 134, 15, 128, 45, 5, 141, 139, 30, 72, 38, 76, 30, 33, 115, 105, 96, 51, 37, 7, 66, 0, 90, 147, 95, 19, 63, 48, 91, 138, 38, 117, 126, 67, 7, 12, 138, 96, 6, 111, 39, 30, 26, 94, 18, 101, 128, 141, 119, 61, 35, 130, 95, 71, 26, 49, 21, 54, 48, 115, 56, 68, 61, 11, 132, 7, 113, 5, 13, 33, 82, 43, 41, 47, 6, 29, 112, 13, 63, 76, 36, 143, 88, 141, 37, 43, 92, 124, 114, 74, 81, 141, 142, 45, 32, 46, 62, 55, 70, 7, 56, 47, 92, 51, 109, 34, 116, 123, 14, 119, 22, 93, 37, 42, 59, 10, 112, 38, 78, 136, 136, 137, 138, 80, 29, 28, 72, 43, 149, 50, 63, 66, 114, 39, 112, 87, 147, 23, 136, 36, 88, 80, 71, 115, 93, 125, 142, 113, 39, 90, 63, 146, 142, 119, 31, 85, 132, 126, 114, 80, 86, 127, 71, 63, 141, 132, 114, 1, 14, 106, 101, 62, 122, 129, 4, 42, 86, 91, 16, 29, 84, 104, 8, 136, 50, 128, 147, 97, 142, 82, 78, 38, 1, 125, 34, 50, 113, 120, 75, 72, 82, 105, 104, 100, 121, 39, 145, 33, 79, 123, 72, 6, 143, 88, 84, 142, 141, 73, 9, 97, 23, 92, 42, 75, 80, 110, 88, 144, 94, 36, 122, 47, 140, 91, 106, 2, 126, 23, 22, 79, 141, 64, 42, 122, 123, 47, 105, 65, 82, 80, 101, 67, 50, 82, 39, 66, 81, 63, 131, 123, 16, 85, 24, 42, 4, 26, 109, 94, 8, 33, 109, 42, 21, 121, 128, 10, 3, 119, 124, 38, 24, 3, 17, 68, 48, 82, 56, 107, 55, 22, 91, 43, 53, 119, 85, 82, 55, 102, 29, 87, 116, 64, 61, 107, 21, 58, 47, 87, 149, 88, 103, 37, 61, 90, 56, 83, 114, 6, 81, 86, 2, 73, 15, 104, 8, 9, 92, 85, 126, 18, 43, 116, 143, 46, 47, 131, 138, 59, 89, 69, 94, 67, 9, 26, 145, 52, 90, 134, 30, 120, 67, 80, 83, 149, 7, 57, 35, 121, 146, 31, 4, 55, 5, 129, 124, 127, 143, 69, 70, 19, 102, 94, 101, 97, 95, 16, 73, 72, 88, 87, 5, 24, 133, 0, 60, 127, 34, 86, 146, 109, 9, 113, 71, 124, 89, 102, 82, 122, 144, 99, 113, 126, 133, 87, 140, 8, 92, 134, 129, 40]\n",
      "550\n",
      "[55, 1, 84, 147, 144, 38, 110, 126, 143, 48, 127, 5, 111, 145, 32, 142, 138, 146, 60, 10, 70, 8, 68, 98, 148, 130, 86, 72, 109, 66, 73, 116, 54, 130, 95, 82, 36, 16, 122, 49, 39, 16, 48, 117, 40, 49, 134, 72, 77, 66, 14, 96, 18, 39, 144, 58, 61, 33, 123, 142, 90, 148, 55, 141, 16, 82, 72, 113, 127, 26, 143, 90, 40, 86, 97, 17, 31, 120, 117, 134, 54, 125, 4, 102, 52, 27, 74, 142, 138, 46, 8, 116, 13, 64, 95, 6, 103, 74, 89, 72, 96, 100, 12, 31, 70, 97, 52, 106, 49, 95, 43, 61, 23, 140, 26, 148, 74, 112, 70, 51, 80, 10, 60, 118, 77, 53, 47, 69, 11, 78, 137, 24, 66, 124, 36, 69, 90, 68, 62, 22, 79, 134, 15, 128, 45, 5, 141, 139, 30, 72, 38, 76, 30, 33, 115, 105, 96, 51, 37, 7, 66, 0, 90, 147, 95, 19, 63, 48, 91, 138, 38, 117, 126, 67, 7, 12, 138, 96, 6, 111, 39, 30, 26, 94, 18, 101, 128, 141, 119, 61, 35, 130, 95, 71, 26, 49, 21, 54, 48, 115, 56, 68, 61, 11, 132, 7, 113, 5, 13, 33, 82, 43, 41, 47, 6, 29, 112, 13, 63, 76, 36, 143, 88, 141, 37, 43, 92, 124, 114, 74, 81, 141, 142, 45, 32, 46, 62, 55, 70, 7, 56, 47, 92, 51, 109, 34, 116, 123, 14, 119, 22, 93, 37, 42, 59, 10, 112, 38, 78, 136, 136, 137, 138, 80, 29, 28, 72, 43, 149, 50, 63, 66, 114, 39, 112, 87, 147, 23, 136, 36, 88, 80, 71, 115, 93, 125, 142, 113, 39, 90, 63, 146, 142, 119, 31, 85, 132, 126, 114, 80, 86, 127, 71, 63, 141, 132, 114, 1, 14, 106, 101, 62, 122, 129, 4, 42, 86, 91, 16, 29, 84, 104, 8, 136, 50, 128, 147, 97, 142, 82, 78, 38, 1, 125, 34, 50, 113, 120, 75, 72, 82, 105, 104, 100, 121, 39, 145, 33, 79, 123, 72, 6, 143, 88, 84, 142, 141, 73, 9, 97, 23, 92, 42, 75, 80, 110, 88, 144, 94, 36, 122, 47, 140, 91, 106, 2, 126, 23, 22, 79, 141, 64, 42, 122, 123, 47, 105, 65, 82, 80, 101, 67, 50, 82, 39, 66, 81, 63, 131, 123, 16, 85, 24, 42, 4, 26, 109, 94, 8, 33, 109, 42, 21, 121, 128, 10, 3, 119, 124, 38, 24, 3, 17, 68, 48, 82, 56, 107, 55, 22, 91, 43, 53, 119, 85, 82, 55, 102, 29, 87, 116, 64, 61, 107, 21, 58, 47, 87, 149, 88, 103, 37, 61, 90, 56, 83, 114, 6, 81, 86, 2, 73, 15, 104, 8, 9, 92, 85, 126, 18, 43, 116, 143, 46, 47, 131, 138, 59, 89, 69, 94, 67, 9, 26, 145, 52, 90, 134, 30, 120, 67, 80, 83, 149, 7, 57, 35, 121, 146, 31, 4, 55, 5, 129, 124, 127, 143, 69, 70, 19, 102, 94, 101, 97, 95, 16, 73, 72, 88, 87, 5, 24, 133, 0, 60, 127, 34, 86, 146, 109, 9, 113, 71, 124, 89, 102, 82, 122, 144, 99, 113, 126, 133, 87, 140, 8, 92, 134, 129, 40, 71, 126, 117, 130, 56, 64, 24, 5, 76, 13]\n",
      "560\n",
      "[55, 1, 84, 147, 144, 38, 110, 126, 143, 48, 127, 5, 111, 145, 32, 142, 138, 146, 60, 10, 70, 8, 68, 98, 148, 130, 86, 72, 109, 66, 73, 116, 54, 130, 95, 82, 36, 16, 122, 49, 39, 16, 48, 117, 40, 49, 134, 72, 77, 66, 14, 96, 18, 39, 144, 58, 61, 33, 123, 142, 90, 148, 55, 141, 16, 82, 72, 113, 127, 26, 143, 90, 40, 86, 97, 17, 31, 120, 117, 134, 54, 125, 4, 102, 52, 27, 74, 142, 138, 46, 8, 116, 13, 64, 95, 6, 103, 74, 89, 72, 96, 100, 12, 31, 70, 97, 52, 106, 49, 95, 43, 61, 23, 140, 26, 148, 74, 112, 70, 51, 80, 10, 60, 118, 77, 53, 47, 69, 11, 78, 137, 24, 66, 124, 36, 69, 90, 68, 62, 22, 79, 134, 15, 128, 45, 5, 141, 139, 30, 72, 38, 76, 30, 33, 115, 105, 96, 51, 37, 7, 66, 0, 90, 147, 95, 19, 63, 48, 91, 138, 38, 117, 126, 67, 7, 12, 138, 96, 6, 111, 39, 30, 26, 94, 18, 101, 128, 141, 119, 61, 35, 130, 95, 71, 26, 49, 21, 54, 48, 115, 56, 68, 61, 11, 132, 7, 113, 5, 13, 33, 82, 43, 41, 47, 6, 29, 112, 13, 63, 76, 36, 143, 88, 141, 37, 43, 92, 124, 114, 74, 81, 141, 142, 45, 32, 46, 62, 55, 70, 7, 56, 47, 92, 51, 109, 34, 116, 123, 14, 119, 22, 93, 37, 42, 59, 10, 112, 38, 78, 136, 136, 137, 138, 80, 29, 28, 72, 43, 149, 50, 63, 66, 114, 39, 112, 87, 147, 23, 136, 36, 88, 80, 71, 115, 93, 125, 142, 113, 39, 90, 63, 146, 142, 119, 31, 85, 132, 126, 114, 80, 86, 127, 71, 63, 141, 132, 114, 1, 14, 106, 101, 62, 122, 129, 4, 42, 86, 91, 16, 29, 84, 104, 8, 136, 50, 128, 147, 97, 142, 82, 78, 38, 1, 125, 34, 50, 113, 120, 75, 72, 82, 105, 104, 100, 121, 39, 145, 33, 79, 123, 72, 6, 143, 88, 84, 142, 141, 73, 9, 97, 23, 92, 42, 75, 80, 110, 88, 144, 94, 36, 122, 47, 140, 91, 106, 2, 126, 23, 22, 79, 141, 64, 42, 122, 123, 47, 105, 65, 82, 80, 101, 67, 50, 82, 39, 66, 81, 63, 131, 123, 16, 85, 24, 42, 4, 26, 109, 94, 8, 33, 109, 42, 21, 121, 128, 10, 3, 119, 124, 38, 24, 3, 17, 68, 48, 82, 56, 107, 55, 22, 91, 43, 53, 119, 85, 82, 55, 102, 29, 87, 116, 64, 61, 107, 21, 58, 47, 87, 149, 88, 103, 37, 61, 90, 56, 83, 114, 6, 81, 86, 2, 73, 15, 104, 8, 9, 92, 85, 126, 18, 43, 116, 143, 46, 47, 131, 138, 59, 89, 69, 94, 67, 9, 26, 145, 52, 90, 134, 30, 120, 67, 80, 83, 149, 7, 57, 35, 121, 146, 31, 4, 55, 5, 129, 124, 127, 143, 69, 70, 19, 102, 94, 101, 97, 95, 16, 73, 72, 88, 87, 5, 24, 133, 0, 60, 127, 34, 86, 146, 109, 9, 113, 71, 124, 89, 102, 82, 122, 144, 99, 113, 126, 133, 87, 140, 8, 92, 134, 129, 40, 71, 126, 117, 130, 56, 64, 24, 5, 76, 13, 139, 146, 81, 95, 98, 23, 100, 78, 126, 105]\n",
      "570\n",
      "[55, 1, 84, 147, 144, 38, 110, 126, 143, 48, 127, 5, 111, 145, 32, 142, 138, 146, 60, 10, 70, 8, 68, 98, 148, 130, 86, 72, 109, 66, 73, 116, 54, 130, 95, 82, 36, 16, 122, 49, 39, 16, 48, 117, 40, 49, 134, 72, 77, 66, 14, 96, 18, 39, 144, 58, 61, 33, 123, 142, 90, 148, 55, 141, 16, 82, 72, 113, 127, 26, 143, 90, 40, 86, 97, 17, 31, 120, 117, 134, 54, 125, 4, 102, 52, 27, 74, 142, 138, 46, 8, 116, 13, 64, 95, 6, 103, 74, 89, 72, 96, 100, 12, 31, 70, 97, 52, 106, 49, 95, 43, 61, 23, 140, 26, 148, 74, 112, 70, 51, 80, 10, 60, 118, 77, 53, 47, 69, 11, 78, 137, 24, 66, 124, 36, 69, 90, 68, 62, 22, 79, 134, 15, 128, 45, 5, 141, 139, 30, 72, 38, 76, 30, 33, 115, 105, 96, 51, 37, 7, 66, 0, 90, 147, 95, 19, 63, 48, 91, 138, 38, 117, 126, 67, 7, 12, 138, 96, 6, 111, 39, 30, 26, 94, 18, 101, 128, 141, 119, 61, 35, 130, 95, 71, 26, 49, 21, 54, 48, 115, 56, 68, 61, 11, 132, 7, 113, 5, 13, 33, 82, 43, 41, 47, 6, 29, 112, 13, 63, 76, 36, 143, 88, 141, 37, 43, 92, 124, 114, 74, 81, 141, 142, 45, 32, 46, 62, 55, 70, 7, 56, 47, 92, 51, 109, 34, 116, 123, 14, 119, 22, 93, 37, 42, 59, 10, 112, 38, 78, 136, 136, 137, 138, 80, 29, 28, 72, 43, 149, 50, 63, 66, 114, 39, 112, 87, 147, 23, 136, 36, 88, 80, 71, 115, 93, 125, 142, 113, 39, 90, 63, 146, 142, 119, 31, 85, 132, 126, 114, 80, 86, 127, 71, 63, 141, 132, 114, 1, 14, 106, 101, 62, 122, 129, 4, 42, 86, 91, 16, 29, 84, 104, 8, 136, 50, 128, 147, 97, 142, 82, 78, 38, 1, 125, 34, 50, 113, 120, 75, 72, 82, 105, 104, 100, 121, 39, 145, 33, 79, 123, 72, 6, 143, 88, 84, 142, 141, 73, 9, 97, 23, 92, 42, 75, 80, 110, 88, 144, 94, 36, 122, 47, 140, 91, 106, 2, 126, 23, 22, 79, 141, 64, 42, 122, 123, 47, 105, 65, 82, 80, 101, 67, 50, 82, 39, 66, 81, 63, 131, 123, 16, 85, 24, 42, 4, 26, 109, 94, 8, 33, 109, 42, 21, 121, 128, 10, 3, 119, 124, 38, 24, 3, 17, 68, 48, 82, 56, 107, 55, 22, 91, 43, 53, 119, 85, 82, 55, 102, 29, 87, 116, 64, 61, 107, 21, 58, 47, 87, 149, 88, 103, 37, 61, 90, 56, 83, 114, 6, 81, 86, 2, 73, 15, 104, 8, 9, 92, 85, 126, 18, 43, 116, 143, 46, 47, 131, 138, 59, 89, 69, 94, 67, 9, 26, 145, 52, 90, 134, 30, 120, 67, 80, 83, 149, 7, 57, 35, 121, 146, 31, 4, 55, 5, 129, 124, 127, 143, 69, 70, 19, 102, 94, 101, 97, 95, 16, 73, 72, 88, 87, 5, 24, 133, 0, 60, 127, 34, 86, 146, 109, 9, 113, 71, 124, 89, 102, 82, 122, 144, 99, 113, 126, 133, 87, 140, 8, 92, 134, 129, 40, 71, 126, 117, 130, 56, 64, 24, 5, 76, 13, 139, 146, 81, 95, 98, 23, 100, 78, 126, 105, 102, 104, 17, 1, 37, 13, 119, 2, 91, 107]\n",
      "580\n",
      "[55, 1, 84, 147, 144, 38, 110, 126, 143, 48, 127, 5, 111, 145, 32, 142, 138, 146, 60, 10, 70, 8, 68, 98, 148, 130, 86, 72, 109, 66, 73, 116, 54, 130, 95, 82, 36, 16, 122, 49, 39, 16, 48, 117, 40, 49, 134, 72, 77, 66, 14, 96, 18, 39, 144, 58, 61, 33, 123, 142, 90, 148, 55, 141, 16, 82, 72, 113, 127, 26, 143, 90, 40, 86, 97, 17, 31, 120, 117, 134, 54, 125, 4, 102, 52, 27, 74, 142, 138, 46, 8, 116, 13, 64, 95, 6, 103, 74, 89, 72, 96, 100, 12, 31, 70, 97, 52, 106, 49, 95, 43, 61, 23, 140, 26, 148, 74, 112, 70, 51, 80, 10, 60, 118, 77, 53, 47, 69, 11, 78, 137, 24, 66, 124, 36, 69, 90, 68, 62, 22, 79, 134, 15, 128, 45, 5, 141, 139, 30, 72, 38, 76, 30, 33, 115, 105, 96, 51, 37, 7, 66, 0, 90, 147, 95, 19, 63, 48, 91, 138, 38, 117, 126, 67, 7, 12, 138, 96, 6, 111, 39, 30, 26, 94, 18, 101, 128, 141, 119, 61, 35, 130, 95, 71, 26, 49, 21, 54, 48, 115, 56, 68, 61, 11, 132, 7, 113, 5, 13, 33, 82, 43, 41, 47, 6, 29, 112, 13, 63, 76, 36, 143, 88, 141, 37, 43, 92, 124, 114, 74, 81, 141, 142, 45, 32, 46, 62, 55, 70, 7, 56, 47, 92, 51, 109, 34, 116, 123, 14, 119, 22, 93, 37, 42, 59, 10, 112, 38, 78, 136, 136, 137, 138, 80, 29, 28, 72, 43, 149, 50, 63, 66, 114, 39, 112, 87, 147, 23, 136, 36, 88, 80, 71, 115, 93, 125, 142, 113, 39, 90, 63, 146, 142, 119, 31, 85, 132, 126, 114, 80, 86, 127, 71, 63, 141, 132, 114, 1, 14, 106, 101, 62, 122, 129, 4, 42, 86, 91, 16, 29, 84, 104, 8, 136, 50, 128, 147, 97, 142, 82, 78, 38, 1, 125, 34, 50, 113, 120, 75, 72, 82, 105, 104, 100, 121, 39, 145, 33, 79, 123, 72, 6, 143, 88, 84, 142, 141, 73, 9, 97, 23, 92, 42, 75, 80, 110, 88, 144, 94, 36, 122, 47, 140, 91, 106, 2, 126, 23, 22, 79, 141, 64, 42, 122, 123, 47, 105, 65, 82, 80, 101, 67, 50, 82, 39, 66, 81, 63, 131, 123, 16, 85, 24, 42, 4, 26, 109, 94, 8, 33, 109, 42, 21, 121, 128, 10, 3, 119, 124, 38, 24, 3, 17, 68, 48, 82, 56, 107, 55, 22, 91, 43, 53, 119, 85, 82, 55, 102, 29, 87, 116, 64, 61, 107, 21, 58, 47, 87, 149, 88, 103, 37, 61, 90, 56, 83, 114, 6, 81, 86, 2, 73, 15, 104, 8, 9, 92, 85, 126, 18, 43, 116, 143, 46, 47, 131, 138, 59, 89, 69, 94, 67, 9, 26, 145, 52, 90, 134, 30, 120, 67, 80, 83, 149, 7, 57, 35, 121, 146, 31, 4, 55, 5, 129, 124, 127, 143, 69, 70, 19, 102, 94, 101, 97, 95, 16, 73, 72, 88, 87, 5, 24, 133, 0, 60, 127, 34, 86, 146, 109, 9, 113, 71, 124, 89, 102, 82, 122, 144, 99, 113, 126, 133, 87, 140, 8, 92, 134, 129, 40, 71, 126, 117, 130, 56, 64, 24, 5, 76, 13, 139, 146, 81, 95, 98, 23, 100, 78, 126, 105, 102, 104, 17, 1, 37, 13, 119, 2, 91, 107, 74, 147, 104, 53, 131, 90, 15, 121, 108, 82]\n",
      "590\n",
      "[55, 1, 84, 147, 144, 38, 110, 126, 143, 48, 127, 5, 111, 145, 32, 142, 138, 146, 60, 10, 70, 8, 68, 98, 148, 130, 86, 72, 109, 66, 73, 116, 54, 130, 95, 82, 36, 16, 122, 49, 39, 16, 48, 117, 40, 49, 134, 72, 77, 66, 14, 96, 18, 39, 144, 58, 61, 33, 123, 142, 90, 148, 55, 141, 16, 82, 72, 113, 127, 26, 143, 90, 40, 86, 97, 17, 31, 120, 117, 134, 54, 125, 4, 102, 52, 27, 74, 142, 138, 46, 8, 116, 13, 64, 95, 6, 103, 74, 89, 72, 96, 100, 12, 31, 70, 97, 52, 106, 49, 95, 43, 61, 23, 140, 26, 148, 74, 112, 70, 51, 80, 10, 60, 118, 77, 53, 47, 69, 11, 78, 137, 24, 66, 124, 36, 69, 90, 68, 62, 22, 79, 134, 15, 128, 45, 5, 141, 139, 30, 72, 38, 76, 30, 33, 115, 105, 96, 51, 37, 7, 66, 0, 90, 147, 95, 19, 63, 48, 91, 138, 38, 117, 126, 67, 7, 12, 138, 96, 6, 111, 39, 30, 26, 94, 18, 101, 128, 141, 119, 61, 35, 130, 95, 71, 26, 49, 21, 54, 48, 115, 56, 68, 61, 11, 132, 7, 113, 5, 13, 33, 82, 43, 41, 47, 6, 29, 112, 13, 63, 76, 36, 143, 88, 141, 37, 43, 92, 124, 114, 74, 81, 141, 142, 45, 32, 46, 62, 55, 70, 7, 56, 47, 92, 51, 109, 34, 116, 123, 14, 119, 22, 93, 37, 42, 59, 10, 112, 38, 78, 136, 136, 137, 138, 80, 29, 28, 72, 43, 149, 50, 63, 66, 114, 39, 112, 87, 147, 23, 136, 36, 88, 80, 71, 115, 93, 125, 142, 113, 39, 90, 63, 146, 142, 119, 31, 85, 132, 126, 114, 80, 86, 127, 71, 63, 141, 132, 114, 1, 14, 106, 101, 62, 122, 129, 4, 42, 86, 91, 16, 29, 84, 104, 8, 136, 50, 128, 147, 97, 142, 82, 78, 38, 1, 125, 34, 50, 113, 120, 75, 72, 82, 105, 104, 100, 121, 39, 145, 33, 79, 123, 72, 6, 143, 88, 84, 142, 141, 73, 9, 97, 23, 92, 42, 75, 80, 110, 88, 144, 94, 36, 122, 47, 140, 91, 106, 2, 126, 23, 22, 79, 141, 64, 42, 122, 123, 47, 105, 65, 82, 80, 101, 67, 50, 82, 39, 66, 81, 63, 131, 123, 16, 85, 24, 42, 4, 26, 109, 94, 8, 33, 109, 42, 21, 121, 128, 10, 3, 119, 124, 38, 24, 3, 17, 68, 48, 82, 56, 107, 55, 22, 91, 43, 53, 119, 85, 82, 55, 102, 29, 87, 116, 64, 61, 107, 21, 58, 47, 87, 149, 88, 103, 37, 61, 90, 56, 83, 114, 6, 81, 86, 2, 73, 15, 104, 8, 9, 92, 85, 126, 18, 43, 116, 143, 46, 47, 131, 138, 59, 89, 69, 94, 67, 9, 26, 145, 52, 90, 134, 30, 120, 67, 80, 83, 149, 7, 57, 35, 121, 146, 31, 4, 55, 5, 129, 124, 127, 143, 69, 70, 19, 102, 94, 101, 97, 95, 16, 73, 72, 88, 87, 5, 24, 133, 0, 60, 127, 34, 86, 146, 109, 9, 113, 71, 124, 89, 102, 82, 122, 144, 99, 113, 126, 133, 87, 140, 8, 92, 134, 129, 40, 71, 126, 117, 130, 56, 64, 24, 5, 76, 13, 139, 146, 81, 95, 98, 23, 100, 78, 126, 105, 102, 104, 17, 1, 37, 13, 119, 2, 91, 107, 74, 147, 104, 53, 131, 90, 15, 121, 108, 82, 67, 56, 115, 143, 71, 96, 73, 112, 58, 2]\n",
      "600\n",
      "[55, 1, 84, 147, 144, 38, 110, 126, 143, 48, 127, 5, 111, 145, 32, 142, 138, 146, 60, 10, 70, 8, 68, 98, 148, 130, 86, 72, 109, 66, 73, 116, 54, 130, 95, 82, 36, 16, 122, 49, 39, 16, 48, 117, 40, 49, 134, 72, 77, 66, 14, 96, 18, 39, 144, 58, 61, 33, 123, 142, 90, 148, 55, 141, 16, 82, 72, 113, 127, 26, 143, 90, 40, 86, 97, 17, 31, 120, 117, 134, 54, 125, 4, 102, 52, 27, 74, 142, 138, 46, 8, 116, 13, 64, 95, 6, 103, 74, 89, 72, 96, 100, 12, 31, 70, 97, 52, 106, 49, 95, 43, 61, 23, 140, 26, 148, 74, 112, 70, 51, 80, 10, 60, 118, 77, 53, 47, 69, 11, 78, 137, 24, 66, 124, 36, 69, 90, 68, 62, 22, 79, 134, 15, 128, 45, 5, 141, 139, 30, 72, 38, 76, 30, 33, 115, 105, 96, 51, 37, 7, 66, 0, 90, 147, 95, 19, 63, 48, 91, 138, 38, 117, 126, 67, 7, 12, 138, 96, 6, 111, 39, 30, 26, 94, 18, 101, 128, 141, 119, 61, 35, 130, 95, 71, 26, 49, 21, 54, 48, 115, 56, 68, 61, 11, 132, 7, 113, 5, 13, 33, 82, 43, 41, 47, 6, 29, 112, 13, 63, 76, 36, 143, 88, 141, 37, 43, 92, 124, 114, 74, 81, 141, 142, 45, 32, 46, 62, 55, 70, 7, 56, 47, 92, 51, 109, 34, 116, 123, 14, 119, 22, 93, 37, 42, 59, 10, 112, 38, 78, 136, 136, 137, 138, 80, 29, 28, 72, 43, 149, 50, 63, 66, 114, 39, 112, 87, 147, 23, 136, 36, 88, 80, 71, 115, 93, 125, 142, 113, 39, 90, 63, 146, 142, 119, 31, 85, 132, 126, 114, 80, 86, 127, 71, 63, 141, 132, 114, 1, 14, 106, 101, 62, 122, 129, 4, 42, 86, 91, 16, 29, 84, 104, 8, 136, 50, 128, 147, 97, 142, 82, 78, 38, 1, 125, 34, 50, 113, 120, 75, 72, 82, 105, 104, 100, 121, 39, 145, 33, 79, 123, 72, 6, 143, 88, 84, 142, 141, 73, 9, 97, 23, 92, 42, 75, 80, 110, 88, 144, 94, 36, 122, 47, 140, 91, 106, 2, 126, 23, 22, 79, 141, 64, 42, 122, 123, 47, 105, 65, 82, 80, 101, 67, 50, 82, 39, 66, 81, 63, 131, 123, 16, 85, 24, 42, 4, 26, 109, 94, 8, 33, 109, 42, 21, 121, 128, 10, 3, 119, 124, 38, 24, 3, 17, 68, 48, 82, 56, 107, 55, 22, 91, 43, 53, 119, 85, 82, 55, 102, 29, 87, 116, 64, 61, 107, 21, 58, 47, 87, 149, 88, 103, 37, 61, 90, 56, 83, 114, 6, 81, 86, 2, 73, 15, 104, 8, 9, 92, 85, 126, 18, 43, 116, 143, 46, 47, 131, 138, 59, 89, 69, 94, 67, 9, 26, 145, 52, 90, 134, 30, 120, 67, 80, 83, 149, 7, 57, 35, 121, 146, 31, 4, 55, 5, 129, 124, 127, 143, 69, 70, 19, 102, 94, 101, 97, 95, 16, 73, 72, 88, 87, 5, 24, 133, 0, 60, 127, 34, 86, 146, 109, 9, 113, 71, 124, 89, 102, 82, 122, 144, 99, 113, 126, 133, 87, 140, 8, 92, 134, 129, 40, 71, 126, 117, 130, 56, 64, 24, 5, 76, 13, 139, 146, 81, 95, 98, 23, 100, 78, 126, 105, 102, 104, 17, 1, 37, 13, 119, 2, 91, 107, 74, 147, 104, 53, 131, 90, 15, 121, 108, 82, 67, 56, 115, 143, 71, 96, 73, 112, 58, 2, 112, 31, 1, 46, 117, 24, 28, 70, 86, 67]\n",
      "610\n",
      "[55, 1, 84, 147, 144, 38, 110, 126, 143, 48, 127, 5, 111, 145, 32, 142, 138, 146, 60, 10, 70, 8, 68, 98, 148, 130, 86, 72, 109, 66, 73, 116, 54, 130, 95, 82, 36, 16, 122, 49, 39, 16, 48, 117, 40, 49, 134, 72, 77, 66, 14, 96, 18, 39, 144, 58, 61, 33, 123, 142, 90, 148, 55, 141, 16, 82, 72, 113, 127, 26, 143, 90, 40, 86, 97, 17, 31, 120, 117, 134, 54, 125, 4, 102, 52, 27, 74, 142, 138, 46, 8, 116, 13, 64, 95, 6, 103, 74, 89, 72, 96, 100, 12, 31, 70, 97, 52, 106, 49, 95, 43, 61, 23, 140, 26, 148, 74, 112, 70, 51, 80, 10, 60, 118, 77, 53, 47, 69, 11, 78, 137, 24, 66, 124, 36, 69, 90, 68, 62, 22, 79, 134, 15, 128, 45, 5, 141, 139, 30, 72, 38, 76, 30, 33, 115, 105, 96, 51, 37, 7, 66, 0, 90, 147, 95, 19, 63, 48, 91, 138, 38, 117, 126, 67, 7, 12, 138, 96, 6, 111, 39, 30, 26, 94, 18, 101, 128, 141, 119, 61, 35, 130, 95, 71, 26, 49, 21, 54, 48, 115, 56, 68, 61, 11, 132, 7, 113, 5, 13, 33, 82, 43, 41, 47, 6, 29, 112, 13, 63, 76, 36, 143, 88, 141, 37, 43, 92, 124, 114, 74, 81, 141, 142, 45, 32, 46, 62, 55, 70, 7, 56, 47, 92, 51, 109, 34, 116, 123, 14, 119, 22, 93, 37, 42, 59, 10, 112, 38, 78, 136, 136, 137, 138, 80, 29, 28, 72, 43, 149, 50, 63, 66, 114, 39, 112, 87, 147, 23, 136, 36, 88, 80, 71, 115, 93, 125, 142, 113, 39, 90, 63, 146, 142, 119, 31, 85, 132, 126, 114, 80, 86, 127, 71, 63, 141, 132, 114, 1, 14, 106, 101, 62, 122, 129, 4, 42, 86, 91, 16, 29, 84, 104, 8, 136, 50, 128, 147, 97, 142, 82, 78, 38, 1, 125, 34, 50, 113, 120, 75, 72, 82, 105, 104, 100, 121, 39, 145, 33, 79, 123, 72, 6, 143, 88, 84, 142, 141, 73, 9, 97, 23, 92, 42, 75, 80, 110, 88, 144, 94, 36, 122, 47, 140, 91, 106, 2, 126, 23, 22, 79, 141, 64, 42, 122, 123, 47, 105, 65, 82, 80, 101, 67, 50, 82, 39, 66, 81, 63, 131, 123, 16, 85, 24, 42, 4, 26, 109, 94, 8, 33, 109, 42, 21, 121, 128, 10, 3, 119, 124, 38, 24, 3, 17, 68, 48, 82, 56, 107, 55, 22, 91, 43, 53, 119, 85, 82, 55, 102, 29, 87, 116, 64, 61, 107, 21, 58, 47, 87, 149, 88, 103, 37, 61, 90, 56, 83, 114, 6, 81, 86, 2, 73, 15, 104, 8, 9, 92, 85, 126, 18, 43, 116, 143, 46, 47, 131, 138, 59, 89, 69, 94, 67, 9, 26, 145, 52, 90, 134, 30, 120, 67, 80, 83, 149, 7, 57, 35, 121, 146, 31, 4, 55, 5, 129, 124, 127, 143, 69, 70, 19, 102, 94, 101, 97, 95, 16, 73, 72, 88, 87, 5, 24, 133, 0, 60, 127, 34, 86, 146, 109, 9, 113, 71, 124, 89, 102, 82, 122, 144, 99, 113, 126, 133, 87, 140, 8, 92, 134, 129, 40, 71, 126, 117, 130, 56, 64, 24, 5, 76, 13, 139, 146, 81, 95, 98, 23, 100, 78, 126, 105, 102, 104, 17, 1, 37, 13, 119, 2, 91, 107, 74, 147, 104, 53, 131, 90, 15, 121, 108, 82, 67, 56, 115, 143, 71, 96, 73, 112, 58, 2, 112, 31, 1, 46, 117, 24, 28, 70, 86, 67, 47, 0, 29, 16, 52, 103, 91, 77, 108, 56]\n",
      "620\n",
      "[55, 1, 84, 147, 144, 38, 110, 126, 143, 48, 127, 5, 111, 145, 32, 142, 138, 146, 60, 10, 70, 8, 68, 98, 148, 130, 86, 72, 109, 66, 73, 116, 54, 130, 95, 82, 36, 16, 122, 49, 39, 16, 48, 117, 40, 49, 134, 72, 77, 66, 14, 96, 18, 39, 144, 58, 61, 33, 123, 142, 90, 148, 55, 141, 16, 82, 72, 113, 127, 26, 143, 90, 40, 86, 97, 17, 31, 120, 117, 134, 54, 125, 4, 102, 52, 27, 74, 142, 138, 46, 8, 116, 13, 64, 95, 6, 103, 74, 89, 72, 96, 100, 12, 31, 70, 97, 52, 106, 49, 95, 43, 61, 23, 140, 26, 148, 74, 112, 70, 51, 80, 10, 60, 118, 77, 53, 47, 69, 11, 78, 137, 24, 66, 124, 36, 69, 90, 68, 62, 22, 79, 134, 15, 128, 45, 5, 141, 139, 30, 72, 38, 76, 30, 33, 115, 105, 96, 51, 37, 7, 66, 0, 90, 147, 95, 19, 63, 48, 91, 138, 38, 117, 126, 67, 7, 12, 138, 96, 6, 111, 39, 30, 26, 94, 18, 101, 128, 141, 119, 61, 35, 130, 95, 71, 26, 49, 21, 54, 48, 115, 56, 68, 61, 11, 132, 7, 113, 5, 13, 33, 82, 43, 41, 47, 6, 29, 112, 13, 63, 76, 36, 143, 88, 141, 37, 43, 92, 124, 114, 74, 81, 141, 142, 45, 32, 46, 62, 55, 70, 7, 56, 47, 92, 51, 109, 34, 116, 123, 14, 119, 22, 93, 37, 42, 59, 10, 112, 38, 78, 136, 136, 137, 138, 80, 29, 28, 72, 43, 149, 50, 63, 66, 114, 39, 112, 87, 147, 23, 136, 36, 88, 80, 71, 115, 93, 125, 142, 113, 39, 90, 63, 146, 142, 119, 31, 85, 132, 126, 114, 80, 86, 127, 71, 63, 141, 132, 114, 1, 14, 106, 101, 62, 122, 129, 4, 42, 86, 91, 16, 29, 84, 104, 8, 136, 50, 128, 147, 97, 142, 82, 78, 38, 1, 125, 34, 50, 113, 120, 75, 72, 82, 105, 104, 100, 121, 39, 145, 33, 79, 123, 72, 6, 143, 88, 84, 142, 141, 73, 9, 97, 23, 92, 42, 75, 80, 110, 88, 144, 94, 36, 122, 47, 140, 91, 106, 2, 126, 23, 22, 79, 141, 64, 42, 122, 123, 47, 105, 65, 82, 80, 101, 67, 50, 82, 39, 66, 81, 63, 131, 123, 16, 85, 24, 42, 4, 26, 109, 94, 8, 33, 109, 42, 21, 121, 128, 10, 3, 119, 124, 38, 24, 3, 17, 68, 48, 82, 56, 107, 55, 22, 91, 43, 53, 119, 85, 82, 55, 102, 29, 87, 116, 64, 61, 107, 21, 58, 47, 87, 149, 88, 103, 37, 61, 90, 56, 83, 114, 6, 81, 86, 2, 73, 15, 104, 8, 9, 92, 85, 126, 18, 43, 116, 143, 46, 47, 131, 138, 59, 89, 69, 94, 67, 9, 26, 145, 52, 90, 134, 30, 120, 67, 80, 83, 149, 7, 57, 35, 121, 146, 31, 4, 55, 5, 129, 124, 127, 143, 69, 70, 19, 102, 94, 101, 97, 95, 16, 73, 72, 88, 87, 5, 24, 133, 0, 60, 127, 34, 86, 146, 109, 9, 113, 71, 124, 89, 102, 82, 122, 144, 99, 113, 126, 133, 87, 140, 8, 92, 134, 129, 40, 71, 126, 117, 130, 56, 64, 24, 5, 76, 13, 139, 146, 81, 95, 98, 23, 100, 78, 126, 105, 102, 104, 17, 1, 37, 13, 119, 2, 91, 107, 74, 147, 104, 53, 131, 90, 15, 121, 108, 82, 67, 56, 115, 143, 71, 96, 73, 112, 58, 2, 112, 31, 1, 46, 117, 24, 28, 70, 86, 67, 47, 0, 29, 16, 52, 103, 91, 77, 108, 56, 0, 70, 92, 75, 9, 116, 38, 103, 71, 54]\n",
      "630\n",
      "[55, 1, 84, 147, 144, 38, 110, 126, 143, 48, 127, 5, 111, 145, 32, 142, 138, 146, 60, 10, 70, 8, 68, 98, 148, 130, 86, 72, 109, 66, 73, 116, 54, 130, 95, 82, 36, 16, 122, 49, 39, 16, 48, 117, 40, 49, 134, 72, 77, 66, 14, 96, 18, 39, 144, 58, 61, 33, 123, 142, 90, 148, 55, 141, 16, 82, 72, 113, 127, 26, 143, 90, 40, 86, 97, 17, 31, 120, 117, 134, 54, 125, 4, 102, 52, 27, 74, 142, 138, 46, 8, 116, 13, 64, 95, 6, 103, 74, 89, 72, 96, 100, 12, 31, 70, 97, 52, 106, 49, 95, 43, 61, 23, 140, 26, 148, 74, 112, 70, 51, 80, 10, 60, 118, 77, 53, 47, 69, 11, 78, 137, 24, 66, 124, 36, 69, 90, 68, 62, 22, 79, 134, 15, 128, 45, 5, 141, 139, 30, 72, 38, 76, 30, 33, 115, 105, 96, 51, 37, 7, 66, 0, 90, 147, 95, 19, 63, 48, 91, 138, 38, 117, 126, 67, 7, 12, 138, 96, 6, 111, 39, 30, 26, 94, 18, 101, 128, 141, 119, 61, 35, 130, 95, 71, 26, 49, 21, 54, 48, 115, 56, 68, 61, 11, 132, 7, 113, 5, 13, 33, 82, 43, 41, 47, 6, 29, 112, 13, 63, 76, 36, 143, 88, 141, 37, 43, 92, 124, 114, 74, 81, 141, 142, 45, 32, 46, 62, 55, 70, 7, 56, 47, 92, 51, 109, 34, 116, 123, 14, 119, 22, 93, 37, 42, 59, 10, 112, 38, 78, 136, 136, 137, 138, 80, 29, 28, 72, 43, 149, 50, 63, 66, 114, 39, 112, 87, 147, 23, 136, 36, 88, 80, 71, 115, 93, 125, 142, 113, 39, 90, 63, 146, 142, 119, 31, 85, 132, 126, 114, 80, 86, 127, 71, 63, 141, 132, 114, 1, 14, 106, 101, 62, 122, 129, 4, 42, 86, 91, 16, 29, 84, 104, 8, 136, 50, 128, 147, 97, 142, 82, 78, 38, 1, 125, 34, 50, 113, 120, 75, 72, 82, 105, 104, 100, 121, 39, 145, 33, 79, 123, 72, 6, 143, 88, 84, 142, 141, 73, 9, 97, 23, 92, 42, 75, 80, 110, 88, 144, 94, 36, 122, 47, 140, 91, 106, 2, 126, 23, 22, 79, 141, 64, 42, 122, 123, 47, 105, 65, 82, 80, 101, 67, 50, 82, 39, 66, 81, 63, 131, 123, 16, 85, 24, 42, 4, 26, 109, 94, 8, 33, 109, 42, 21, 121, 128, 10, 3, 119, 124, 38, 24, 3, 17, 68, 48, 82, 56, 107, 55, 22, 91, 43, 53, 119, 85, 82, 55, 102, 29, 87, 116, 64, 61, 107, 21, 58, 47, 87, 149, 88, 103, 37, 61, 90, 56, 83, 114, 6, 81, 86, 2, 73, 15, 104, 8, 9, 92, 85, 126, 18, 43, 116, 143, 46, 47, 131, 138, 59, 89, 69, 94, 67, 9, 26, 145, 52, 90, 134, 30, 120, 67, 80, 83, 149, 7, 57, 35, 121, 146, 31, 4, 55, 5, 129, 124, 127, 143, 69, 70, 19, 102, 94, 101, 97, 95, 16, 73, 72, 88, 87, 5, 24, 133, 0, 60, 127, 34, 86, 146, 109, 9, 113, 71, 124, 89, 102, 82, 122, 144, 99, 113, 126, 133, 87, 140, 8, 92, 134, 129, 40, 71, 126, 117, 130, 56, 64, 24, 5, 76, 13, 139, 146, 81, 95, 98, 23, 100, 78, 126, 105, 102, 104, 17, 1, 37, 13, 119, 2, 91, 107, 74, 147, 104, 53, 131, 90, 15, 121, 108, 82, 67, 56, 115, 143, 71, 96, 73, 112, 58, 2, 112, 31, 1, 46, 117, 24, 28, 70, 86, 67, 47, 0, 29, 16, 52, 103, 91, 77, 108, 56, 0, 70, 92, 75, 9, 116, 38, 103, 71, 54, 138, 123, 70, 50, 102, 80, 136, 103, 99, 77]\n",
      "640\n",
      "[55, 1, 84, 147, 144, 38, 110, 126, 143, 48, 127, 5, 111, 145, 32, 142, 138, 146, 60, 10, 70, 8, 68, 98, 148, 130, 86, 72, 109, 66, 73, 116, 54, 130, 95, 82, 36, 16, 122, 49, 39, 16, 48, 117, 40, 49, 134, 72, 77, 66, 14, 96, 18, 39, 144, 58, 61, 33, 123, 142, 90, 148, 55, 141, 16, 82, 72, 113, 127, 26, 143, 90, 40, 86, 97, 17, 31, 120, 117, 134, 54, 125, 4, 102, 52, 27, 74, 142, 138, 46, 8, 116, 13, 64, 95, 6, 103, 74, 89, 72, 96, 100, 12, 31, 70, 97, 52, 106, 49, 95, 43, 61, 23, 140, 26, 148, 74, 112, 70, 51, 80, 10, 60, 118, 77, 53, 47, 69, 11, 78, 137, 24, 66, 124, 36, 69, 90, 68, 62, 22, 79, 134, 15, 128, 45, 5, 141, 139, 30, 72, 38, 76, 30, 33, 115, 105, 96, 51, 37, 7, 66, 0, 90, 147, 95, 19, 63, 48, 91, 138, 38, 117, 126, 67, 7, 12, 138, 96, 6, 111, 39, 30, 26, 94, 18, 101, 128, 141, 119, 61, 35, 130, 95, 71, 26, 49, 21, 54, 48, 115, 56, 68, 61, 11, 132, 7, 113, 5, 13, 33, 82, 43, 41, 47, 6, 29, 112, 13, 63, 76, 36, 143, 88, 141, 37, 43, 92, 124, 114, 74, 81, 141, 142, 45, 32, 46, 62, 55, 70, 7, 56, 47, 92, 51, 109, 34, 116, 123, 14, 119, 22, 93, 37, 42, 59, 10, 112, 38, 78, 136, 136, 137, 138, 80, 29, 28, 72, 43, 149, 50, 63, 66, 114, 39, 112, 87, 147, 23, 136, 36, 88, 80, 71, 115, 93, 125, 142, 113, 39, 90, 63, 146, 142, 119, 31, 85, 132, 126, 114, 80, 86, 127, 71, 63, 141, 132, 114, 1, 14, 106, 101, 62, 122, 129, 4, 42, 86, 91, 16, 29, 84, 104, 8, 136, 50, 128, 147, 97, 142, 82, 78, 38, 1, 125, 34, 50, 113, 120, 75, 72, 82, 105, 104, 100, 121, 39, 145, 33, 79, 123, 72, 6, 143, 88, 84, 142, 141, 73, 9, 97, 23, 92, 42, 75, 80, 110, 88, 144, 94, 36, 122, 47, 140, 91, 106, 2, 126, 23, 22, 79, 141, 64, 42, 122, 123, 47, 105, 65, 82, 80, 101, 67, 50, 82, 39, 66, 81, 63, 131, 123, 16, 85, 24, 42, 4, 26, 109, 94, 8, 33, 109, 42, 21, 121, 128, 10, 3, 119, 124, 38, 24, 3, 17, 68, 48, 82, 56, 107, 55, 22, 91, 43, 53, 119, 85, 82, 55, 102, 29, 87, 116, 64, 61, 107, 21, 58, 47, 87, 149, 88, 103, 37, 61, 90, 56, 83, 114, 6, 81, 86, 2, 73, 15, 104, 8, 9, 92, 85, 126, 18, 43, 116, 143, 46, 47, 131, 138, 59, 89, 69, 94, 67, 9, 26, 145, 52, 90, 134, 30, 120, 67, 80, 83, 149, 7, 57, 35, 121, 146, 31, 4, 55, 5, 129, 124, 127, 143, 69, 70, 19, 102, 94, 101, 97, 95, 16, 73, 72, 88, 87, 5, 24, 133, 0, 60, 127, 34, 86, 146, 109, 9, 113, 71, 124, 89, 102, 82, 122, 144, 99, 113, 126, 133, 87, 140, 8, 92, 134, 129, 40, 71, 126, 117, 130, 56, 64, 24, 5, 76, 13, 139, 146, 81, 95, 98, 23, 100, 78, 126, 105, 102, 104, 17, 1, 37, 13, 119, 2, 91, 107, 74, 147, 104, 53, 131, 90, 15, 121, 108, 82, 67, 56, 115, 143, 71, 96, 73, 112, 58, 2, 112, 31, 1, 46, 117, 24, 28, 70, 86, 67, 47, 0, 29, 16, 52, 103, 91, 77, 108, 56, 0, 70, 92, 75, 9, 116, 38, 103, 71, 54, 138, 123, 70, 50, 102, 80, 136, 103, 99, 77, 79, 10, 25, 34, 142, 111, 71, 74, 24, 29]\n",
      "650\n",
      "[55, 1, 84, 147, 144, 38, 110, 126, 143, 48, 127, 5, 111, 145, 32, 142, 138, 146, 60, 10, 70, 8, 68, 98, 148, 130, 86, 72, 109, 66, 73, 116, 54, 130, 95, 82, 36, 16, 122, 49, 39, 16, 48, 117, 40, 49, 134, 72, 77, 66, 14, 96, 18, 39, 144, 58, 61, 33, 123, 142, 90, 148, 55, 141, 16, 82, 72, 113, 127, 26, 143, 90, 40, 86, 97, 17, 31, 120, 117, 134, 54, 125, 4, 102, 52, 27, 74, 142, 138, 46, 8, 116, 13, 64, 95, 6, 103, 74, 89, 72, 96, 100, 12, 31, 70, 97, 52, 106, 49, 95, 43, 61, 23, 140, 26, 148, 74, 112, 70, 51, 80, 10, 60, 118, 77, 53, 47, 69, 11, 78, 137, 24, 66, 124, 36, 69, 90, 68, 62, 22, 79, 134, 15, 128, 45, 5, 141, 139, 30, 72, 38, 76, 30, 33, 115, 105, 96, 51, 37, 7, 66, 0, 90, 147, 95, 19, 63, 48, 91, 138, 38, 117, 126, 67, 7, 12, 138, 96, 6, 111, 39, 30, 26, 94, 18, 101, 128, 141, 119, 61, 35, 130, 95, 71, 26, 49, 21, 54, 48, 115, 56, 68, 61, 11, 132, 7, 113, 5, 13, 33, 82, 43, 41, 47, 6, 29, 112, 13, 63, 76, 36, 143, 88, 141, 37, 43, 92, 124, 114, 74, 81, 141, 142, 45, 32, 46, 62, 55, 70, 7, 56, 47, 92, 51, 109, 34, 116, 123, 14, 119, 22, 93, 37, 42, 59, 10, 112, 38, 78, 136, 136, 137, 138, 80, 29, 28, 72, 43, 149, 50, 63, 66, 114, 39, 112, 87, 147, 23, 136, 36, 88, 80, 71, 115, 93, 125, 142, 113, 39, 90, 63, 146, 142, 119, 31, 85, 132, 126, 114, 80, 86, 127, 71, 63, 141, 132, 114, 1, 14, 106, 101, 62, 122, 129, 4, 42, 86, 91, 16, 29, 84, 104, 8, 136, 50, 128, 147, 97, 142, 82, 78, 38, 1, 125, 34, 50, 113, 120, 75, 72, 82, 105, 104, 100, 121, 39, 145, 33, 79, 123, 72, 6, 143, 88, 84, 142, 141, 73, 9, 97, 23, 92, 42, 75, 80, 110, 88, 144, 94, 36, 122, 47, 140, 91, 106, 2, 126, 23, 22, 79, 141, 64, 42, 122, 123, 47, 105, 65, 82, 80, 101, 67, 50, 82, 39, 66, 81, 63, 131, 123, 16, 85, 24, 42, 4, 26, 109, 94, 8, 33, 109, 42, 21, 121, 128, 10, 3, 119, 124, 38, 24, 3, 17, 68, 48, 82, 56, 107, 55, 22, 91, 43, 53, 119, 85, 82, 55, 102, 29, 87, 116, 64, 61, 107, 21, 58, 47, 87, 149, 88, 103, 37, 61, 90, 56, 83, 114, 6, 81, 86, 2, 73, 15, 104, 8, 9, 92, 85, 126, 18, 43, 116, 143, 46, 47, 131, 138, 59, 89, 69, 94, 67, 9, 26, 145, 52, 90, 134, 30, 120, 67, 80, 83, 149, 7, 57, 35, 121, 146, 31, 4, 55, 5, 129, 124, 127, 143, 69, 70, 19, 102, 94, 101, 97, 95, 16, 73, 72, 88, 87, 5, 24, 133, 0, 60, 127, 34, 86, 146, 109, 9, 113, 71, 124, 89, 102, 82, 122, 144, 99, 113, 126, 133, 87, 140, 8, 92, 134, 129, 40, 71, 126, 117, 130, 56, 64, 24, 5, 76, 13, 139, 146, 81, 95, 98, 23, 100, 78, 126, 105, 102, 104, 17, 1, 37, 13, 119, 2, 91, 107, 74, 147, 104, 53, 131, 90, 15, 121, 108, 82, 67, 56, 115, 143, 71, 96, 73, 112, 58, 2, 112, 31, 1, 46, 117, 24, 28, 70, 86, 67, 47, 0, 29, 16, 52, 103, 91, 77, 108, 56, 0, 70, 92, 75, 9, 116, 38, 103, 71, 54, 138, 123, 70, 50, 102, 80, 136, 103, 99, 77, 79, 10, 25, 34, 142, 111, 71, 74, 24, 29, 149, 53, 82, 11, 115, 123, 64, 141, 84, 14]\n",
      "660\n",
      "[55, 1, 84, 147, 144, 38, 110, 126, 143, 48, 127, 5, 111, 145, 32, 142, 138, 146, 60, 10, 70, 8, 68, 98, 148, 130, 86, 72, 109, 66, 73, 116, 54, 130, 95, 82, 36, 16, 122, 49, 39, 16, 48, 117, 40, 49, 134, 72, 77, 66, 14, 96, 18, 39, 144, 58, 61, 33, 123, 142, 90, 148, 55, 141, 16, 82, 72, 113, 127, 26, 143, 90, 40, 86, 97, 17, 31, 120, 117, 134, 54, 125, 4, 102, 52, 27, 74, 142, 138, 46, 8, 116, 13, 64, 95, 6, 103, 74, 89, 72, 96, 100, 12, 31, 70, 97, 52, 106, 49, 95, 43, 61, 23, 140, 26, 148, 74, 112, 70, 51, 80, 10, 60, 118, 77, 53, 47, 69, 11, 78, 137, 24, 66, 124, 36, 69, 90, 68, 62, 22, 79, 134, 15, 128, 45, 5, 141, 139, 30, 72, 38, 76, 30, 33, 115, 105, 96, 51, 37, 7, 66, 0, 90, 147, 95, 19, 63, 48, 91, 138, 38, 117, 126, 67, 7, 12, 138, 96, 6, 111, 39, 30, 26, 94, 18, 101, 128, 141, 119, 61, 35, 130, 95, 71, 26, 49, 21, 54, 48, 115, 56, 68, 61, 11, 132, 7, 113, 5, 13, 33, 82, 43, 41, 47, 6, 29, 112, 13, 63, 76, 36, 143, 88, 141, 37, 43, 92, 124, 114, 74, 81, 141, 142, 45, 32, 46, 62, 55, 70, 7, 56, 47, 92, 51, 109, 34, 116, 123, 14, 119, 22, 93, 37, 42, 59, 10, 112, 38, 78, 136, 136, 137, 138, 80, 29, 28, 72, 43, 149, 50, 63, 66, 114, 39, 112, 87, 147, 23, 136, 36, 88, 80, 71, 115, 93, 125, 142, 113, 39, 90, 63, 146, 142, 119, 31, 85, 132, 126, 114, 80, 86, 127, 71, 63, 141, 132, 114, 1, 14, 106, 101, 62, 122, 129, 4, 42, 86, 91, 16, 29, 84, 104, 8, 136, 50, 128, 147, 97, 142, 82, 78, 38, 1, 125, 34, 50, 113, 120, 75, 72, 82, 105, 104, 100, 121, 39, 145, 33, 79, 123, 72, 6, 143, 88, 84, 142, 141, 73, 9, 97, 23, 92, 42, 75, 80, 110, 88, 144, 94, 36, 122, 47, 140, 91, 106, 2, 126, 23, 22, 79, 141, 64, 42, 122, 123, 47, 105, 65, 82, 80, 101, 67, 50, 82, 39, 66, 81, 63, 131, 123, 16, 85, 24, 42, 4, 26, 109, 94, 8, 33, 109, 42, 21, 121, 128, 10, 3, 119, 124, 38, 24, 3, 17, 68, 48, 82, 56, 107, 55, 22, 91, 43, 53, 119, 85, 82, 55, 102, 29, 87, 116, 64, 61, 107, 21, 58, 47, 87, 149, 88, 103, 37, 61, 90, 56, 83, 114, 6, 81, 86, 2, 73, 15, 104, 8, 9, 92, 85, 126, 18, 43, 116, 143, 46, 47, 131, 138, 59, 89, 69, 94, 67, 9, 26, 145, 52, 90, 134, 30, 120, 67, 80, 83, 149, 7, 57, 35, 121, 146, 31, 4, 55, 5, 129, 124, 127, 143, 69, 70, 19, 102, 94, 101, 97, 95, 16, 73, 72, 88, 87, 5, 24, 133, 0, 60, 127, 34, 86, 146, 109, 9, 113, 71, 124, 89, 102, 82, 122, 144, 99, 113, 126, 133, 87, 140, 8, 92, 134, 129, 40, 71, 126, 117, 130, 56, 64, 24, 5, 76, 13, 139, 146, 81, 95, 98, 23, 100, 78, 126, 105, 102, 104, 17, 1, 37, 13, 119, 2, 91, 107, 74, 147, 104, 53, 131, 90, 15, 121, 108, 82, 67, 56, 115, 143, 71, 96, 73, 112, 58, 2, 112, 31, 1, 46, 117, 24, 28, 70, 86, 67, 47, 0, 29, 16, 52, 103, 91, 77, 108, 56, 0, 70, 92, 75, 9, 116, 38, 103, 71, 54, 138, 123, 70, 50, 102, 80, 136, 103, 99, 77, 79, 10, 25, 34, 142, 111, 71, 74, 24, 29, 149, 53, 82, 11, 115, 123, 64, 141, 84, 14, 44, 64, 76, 30, 26, 140, 66, 20, 36, 68]\n",
      "670\n",
      "[55, 1, 84, 147, 144, 38, 110, 126, 143, 48, 127, 5, 111, 145, 32, 142, 138, 146, 60, 10, 70, 8, 68, 98, 148, 130, 86, 72, 109, 66, 73, 116, 54, 130, 95, 82, 36, 16, 122, 49, 39, 16, 48, 117, 40, 49, 134, 72, 77, 66, 14, 96, 18, 39, 144, 58, 61, 33, 123, 142, 90, 148, 55, 141, 16, 82, 72, 113, 127, 26, 143, 90, 40, 86, 97, 17, 31, 120, 117, 134, 54, 125, 4, 102, 52, 27, 74, 142, 138, 46, 8, 116, 13, 64, 95, 6, 103, 74, 89, 72, 96, 100, 12, 31, 70, 97, 52, 106, 49, 95, 43, 61, 23, 140, 26, 148, 74, 112, 70, 51, 80, 10, 60, 118, 77, 53, 47, 69, 11, 78, 137, 24, 66, 124, 36, 69, 90, 68, 62, 22, 79, 134, 15, 128, 45, 5, 141, 139, 30, 72, 38, 76, 30, 33, 115, 105, 96, 51, 37, 7, 66, 0, 90, 147, 95, 19, 63, 48, 91, 138, 38, 117, 126, 67, 7, 12, 138, 96, 6, 111, 39, 30, 26, 94, 18, 101, 128, 141, 119, 61, 35, 130, 95, 71, 26, 49, 21, 54, 48, 115, 56, 68, 61, 11, 132, 7, 113, 5, 13, 33, 82, 43, 41, 47, 6, 29, 112, 13, 63, 76, 36, 143, 88, 141, 37, 43, 92, 124, 114, 74, 81, 141, 142, 45, 32, 46, 62, 55, 70, 7, 56, 47, 92, 51, 109, 34, 116, 123, 14, 119, 22, 93, 37, 42, 59, 10, 112, 38, 78, 136, 136, 137, 138, 80, 29, 28, 72, 43, 149, 50, 63, 66, 114, 39, 112, 87, 147, 23, 136, 36, 88, 80, 71, 115, 93, 125, 142, 113, 39, 90, 63, 146, 142, 119, 31, 85, 132, 126, 114, 80, 86, 127, 71, 63, 141, 132, 114, 1, 14, 106, 101, 62, 122, 129, 4, 42, 86, 91, 16, 29, 84, 104, 8, 136, 50, 128, 147, 97, 142, 82, 78, 38, 1, 125, 34, 50, 113, 120, 75, 72, 82, 105, 104, 100, 121, 39, 145, 33, 79, 123, 72, 6, 143, 88, 84, 142, 141, 73, 9, 97, 23, 92, 42, 75, 80, 110, 88, 144, 94, 36, 122, 47, 140, 91, 106, 2, 126, 23, 22, 79, 141, 64, 42, 122, 123, 47, 105, 65, 82, 80, 101, 67, 50, 82, 39, 66, 81, 63, 131, 123, 16, 85, 24, 42, 4, 26, 109, 94, 8, 33, 109, 42, 21, 121, 128, 10, 3, 119, 124, 38, 24, 3, 17, 68, 48, 82, 56, 107, 55, 22, 91, 43, 53, 119, 85, 82, 55, 102, 29, 87, 116, 64, 61, 107, 21, 58, 47, 87, 149, 88, 103, 37, 61, 90, 56, 83, 114, 6, 81, 86, 2, 73, 15, 104, 8, 9, 92, 85, 126, 18, 43, 116, 143, 46, 47, 131, 138, 59, 89, 69, 94, 67, 9, 26, 145, 52, 90, 134, 30, 120, 67, 80, 83, 149, 7, 57, 35, 121, 146, 31, 4, 55, 5, 129, 124, 127, 143, 69, 70, 19, 102, 94, 101, 97, 95, 16, 73, 72, 88, 87, 5, 24, 133, 0, 60, 127, 34, 86, 146, 109, 9, 113, 71, 124, 89, 102, 82, 122, 144, 99, 113, 126, 133, 87, 140, 8, 92, 134, 129, 40, 71, 126, 117, 130, 56, 64, 24, 5, 76, 13, 139, 146, 81, 95, 98, 23, 100, 78, 126, 105, 102, 104, 17, 1, 37, 13, 119, 2, 91, 107, 74, 147, 104, 53, 131, 90, 15, 121, 108, 82, 67, 56, 115, 143, 71, 96, 73, 112, 58, 2, 112, 31, 1, 46, 117, 24, 28, 70, 86, 67, 47, 0, 29, 16, 52, 103, 91, 77, 108, 56, 0, 70, 92, 75, 9, 116, 38, 103, 71, 54, 138, 123, 70, 50, 102, 80, 136, 103, 99, 77, 79, 10, 25, 34, 142, 111, 71, 74, 24, 29, 149, 53, 82, 11, 115, 123, 64, 141, 84, 14, 44, 64, 76, 30, 26, 140, 66, 20, 36, 68, 124, 77, 23, 12, 37, 29, 97, 148, 108, 14]\n",
      "680\n",
      "[55, 1, 84, 147, 144, 38, 110, 126, 143, 48, 127, 5, 111, 145, 32, 142, 138, 146, 60, 10, 70, 8, 68, 98, 148, 130, 86, 72, 109, 66, 73, 116, 54, 130, 95, 82, 36, 16, 122, 49, 39, 16, 48, 117, 40, 49, 134, 72, 77, 66, 14, 96, 18, 39, 144, 58, 61, 33, 123, 142, 90, 148, 55, 141, 16, 82, 72, 113, 127, 26, 143, 90, 40, 86, 97, 17, 31, 120, 117, 134, 54, 125, 4, 102, 52, 27, 74, 142, 138, 46, 8, 116, 13, 64, 95, 6, 103, 74, 89, 72, 96, 100, 12, 31, 70, 97, 52, 106, 49, 95, 43, 61, 23, 140, 26, 148, 74, 112, 70, 51, 80, 10, 60, 118, 77, 53, 47, 69, 11, 78, 137, 24, 66, 124, 36, 69, 90, 68, 62, 22, 79, 134, 15, 128, 45, 5, 141, 139, 30, 72, 38, 76, 30, 33, 115, 105, 96, 51, 37, 7, 66, 0, 90, 147, 95, 19, 63, 48, 91, 138, 38, 117, 126, 67, 7, 12, 138, 96, 6, 111, 39, 30, 26, 94, 18, 101, 128, 141, 119, 61, 35, 130, 95, 71, 26, 49, 21, 54, 48, 115, 56, 68, 61, 11, 132, 7, 113, 5, 13, 33, 82, 43, 41, 47, 6, 29, 112, 13, 63, 76, 36, 143, 88, 141, 37, 43, 92, 124, 114, 74, 81, 141, 142, 45, 32, 46, 62, 55, 70, 7, 56, 47, 92, 51, 109, 34, 116, 123, 14, 119, 22, 93, 37, 42, 59, 10, 112, 38, 78, 136, 136, 137, 138, 80, 29, 28, 72, 43, 149, 50, 63, 66, 114, 39, 112, 87, 147, 23, 136, 36, 88, 80, 71, 115, 93, 125, 142, 113, 39, 90, 63, 146, 142, 119, 31, 85, 132, 126, 114, 80, 86, 127, 71, 63, 141, 132, 114, 1, 14, 106, 101, 62, 122, 129, 4, 42, 86, 91, 16, 29, 84, 104, 8, 136, 50, 128, 147, 97, 142, 82, 78, 38, 1, 125, 34, 50, 113, 120, 75, 72, 82, 105, 104, 100, 121, 39, 145, 33, 79, 123, 72, 6, 143, 88, 84, 142, 141, 73, 9, 97, 23, 92, 42, 75, 80, 110, 88, 144, 94, 36, 122, 47, 140, 91, 106, 2, 126, 23, 22, 79, 141, 64, 42, 122, 123, 47, 105, 65, 82, 80, 101, 67, 50, 82, 39, 66, 81, 63, 131, 123, 16, 85, 24, 42, 4, 26, 109, 94, 8, 33, 109, 42, 21, 121, 128, 10, 3, 119, 124, 38, 24, 3, 17, 68, 48, 82, 56, 107, 55, 22, 91, 43, 53, 119, 85, 82, 55, 102, 29, 87, 116, 64, 61, 107, 21, 58, 47, 87, 149, 88, 103, 37, 61, 90, 56, 83, 114, 6, 81, 86, 2, 73, 15, 104, 8, 9, 92, 85, 126, 18, 43, 116, 143, 46, 47, 131, 138, 59, 89, 69, 94, 67, 9, 26, 145, 52, 90, 134, 30, 120, 67, 80, 83, 149, 7, 57, 35, 121, 146, 31, 4, 55, 5, 129, 124, 127, 143, 69, 70, 19, 102, 94, 101, 97, 95, 16, 73, 72, 88, 87, 5, 24, 133, 0, 60, 127, 34, 86, 146, 109, 9, 113, 71, 124, 89, 102, 82, 122, 144, 99, 113, 126, 133, 87, 140, 8, 92, 134, 129, 40, 71, 126, 117, 130, 56, 64, 24, 5, 76, 13, 139, 146, 81, 95, 98, 23, 100, 78, 126, 105, 102, 104, 17, 1, 37, 13, 119, 2, 91, 107, 74, 147, 104, 53, 131, 90, 15, 121, 108, 82, 67, 56, 115, 143, 71, 96, 73, 112, 58, 2, 112, 31, 1, 46, 117, 24, 28, 70, 86, 67, 47, 0, 29, 16, 52, 103, 91, 77, 108, 56, 0, 70, 92, 75, 9, 116, 38, 103, 71, 54, 138, 123, 70, 50, 102, 80, 136, 103, 99, 77, 79, 10, 25, 34, 142, 111, 71, 74, 24, 29, 149, 53, 82, 11, 115, 123, 64, 141, 84, 14, 44, 64, 76, 30, 26, 140, 66, 20, 36, 68, 124, 77, 23, 12, 37, 29, 97, 148, 108, 14, 8, 112, 114, 125, 51, 60, 140, 126, 4, 139]\n",
      "690\n",
      "[55, 1, 84, 147, 144, 38, 110, 126, 143, 48, 127, 5, 111, 145, 32, 142, 138, 146, 60, 10, 70, 8, 68, 98, 148, 130, 86, 72, 109, 66, 73, 116, 54, 130, 95, 82, 36, 16, 122, 49, 39, 16, 48, 117, 40, 49, 134, 72, 77, 66, 14, 96, 18, 39, 144, 58, 61, 33, 123, 142, 90, 148, 55, 141, 16, 82, 72, 113, 127, 26, 143, 90, 40, 86, 97, 17, 31, 120, 117, 134, 54, 125, 4, 102, 52, 27, 74, 142, 138, 46, 8, 116, 13, 64, 95, 6, 103, 74, 89, 72, 96, 100, 12, 31, 70, 97, 52, 106, 49, 95, 43, 61, 23, 140, 26, 148, 74, 112, 70, 51, 80, 10, 60, 118, 77, 53, 47, 69, 11, 78, 137, 24, 66, 124, 36, 69, 90, 68, 62, 22, 79, 134, 15, 128, 45, 5, 141, 139, 30, 72, 38, 76, 30, 33, 115, 105, 96, 51, 37, 7, 66, 0, 90, 147, 95, 19, 63, 48, 91, 138, 38, 117, 126, 67, 7, 12, 138, 96, 6, 111, 39, 30, 26, 94, 18, 101, 128, 141, 119, 61, 35, 130, 95, 71, 26, 49, 21, 54, 48, 115, 56, 68, 61, 11, 132, 7, 113, 5, 13, 33, 82, 43, 41, 47, 6, 29, 112, 13, 63, 76, 36, 143, 88, 141, 37, 43, 92, 124, 114, 74, 81, 141, 142, 45, 32, 46, 62, 55, 70, 7, 56, 47, 92, 51, 109, 34, 116, 123, 14, 119, 22, 93, 37, 42, 59, 10, 112, 38, 78, 136, 136, 137, 138, 80, 29, 28, 72, 43, 149, 50, 63, 66, 114, 39, 112, 87, 147, 23, 136, 36, 88, 80, 71, 115, 93, 125, 142, 113, 39, 90, 63, 146, 142, 119, 31, 85, 132, 126, 114, 80, 86, 127, 71, 63, 141, 132, 114, 1, 14, 106, 101, 62, 122, 129, 4, 42, 86, 91, 16, 29, 84, 104, 8, 136, 50, 128, 147, 97, 142, 82, 78, 38, 1, 125, 34, 50, 113, 120, 75, 72, 82, 105, 104, 100, 121, 39, 145, 33, 79, 123, 72, 6, 143, 88, 84, 142, 141, 73, 9, 97, 23, 92, 42, 75, 80, 110, 88, 144, 94, 36, 122, 47, 140, 91, 106, 2, 126, 23, 22, 79, 141, 64, 42, 122, 123, 47, 105, 65, 82, 80, 101, 67, 50, 82, 39, 66, 81, 63, 131, 123, 16, 85, 24, 42, 4, 26, 109, 94, 8, 33, 109, 42, 21, 121, 128, 10, 3, 119, 124, 38, 24, 3, 17, 68, 48, 82, 56, 107, 55, 22, 91, 43, 53, 119, 85, 82, 55, 102, 29, 87, 116, 64, 61, 107, 21, 58, 47, 87, 149, 88, 103, 37, 61, 90, 56, 83, 114, 6, 81, 86, 2, 73, 15, 104, 8, 9, 92, 85, 126, 18, 43, 116, 143, 46, 47, 131, 138, 59, 89, 69, 94, 67, 9, 26, 145, 52, 90, 134, 30, 120, 67, 80, 83, 149, 7, 57, 35, 121, 146, 31, 4, 55, 5, 129, 124, 127, 143, 69, 70, 19, 102, 94, 101, 97, 95, 16, 73, 72, 88, 87, 5, 24, 133, 0, 60, 127, 34, 86, 146, 109, 9, 113, 71, 124, 89, 102, 82, 122, 144, 99, 113, 126, 133, 87, 140, 8, 92, 134, 129, 40, 71, 126, 117, 130, 56, 64, 24, 5, 76, 13, 139, 146, 81, 95, 98, 23, 100, 78, 126, 105, 102, 104, 17, 1, 37, 13, 119, 2, 91, 107, 74, 147, 104, 53, 131, 90, 15, 121, 108, 82, 67, 56, 115, 143, 71, 96, 73, 112, 58, 2, 112, 31, 1, 46, 117, 24, 28, 70, 86, 67, 47, 0, 29, 16, 52, 103, 91, 77, 108, 56, 0, 70, 92, 75, 9, 116, 38, 103, 71, 54, 138, 123, 70, 50, 102, 80, 136, 103, 99, 77, 79, 10, 25, 34, 142, 111, 71, 74, 24, 29, 149, 53, 82, 11, 115, 123, 64, 141, 84, 14, 44, 64, 76, 30, 26, 140, 66, 20, 36, 68, 124, 77, 23, 12, 37, 29, 97, 148, 108, 14, 8, 112, 114, 125, 51, 60, 140, 126, 4, 139, 97, 83, 49, 136, 100, 130, 2, 138, 29, 53]\n",
      "700\n",
      "[55, 1, 84, 147, 144, 38, 110, 126, 143, 48, 127, 5, 111, 145, 32, 142, 138, 146, 60, 10, 70, 8, 68, 98, 148, 130, 86, 72, 109, 66, 73, 116, 54, 130, 95, 82, 36, 16, 122, 49, 39, 16, 48, 117, 40, 49, 134, 72, 77, 66, 14, 96, 18, 39, 144, 58, 61, 33, 123, 142, 90, 148, 55, 141, 16, 82, 72, 113, 127, 26, 143, 90, 40, 86, 97, 17, 31, 120, 117, 134, 54, 125, 4, 102, 52, 27, 74, 142, 138, 46, 8, 116, 13, 64, 95, 6, 103, 74, 89, 72, 96, 100, 12, 31, 70, 97, 52, 106, 49, 95, 43, 61, 23, 140, 26, 148, 74, 112, 70, 51, 80, 10, 60, 118, 77, 53, 47, 69, 11, 78, 137, 24, 66, 124, 36, 69, 90, 68, 62, 22, 79, 134, 15, 128, 45, 5, 141, 139, 30, 72, 38, 76, 30, 33, 115, 105, 96, 51, 37, 7, 66, 0, 90, 147, 95, 19, 63, 48, 91, 138, 38, 117, 126, 67, 7, 12, 138, 96, 6, 111, 39, 30, 26, 94, 18, 101, 128, 141, 119, 61, 35, 130, 95, 71, 26, 49, 21, 54, 48, 115, 56, 68, 61, 11, 132, 7, 113, 5, 13, 33, 82, 43, 41, 47, 6, 29, 112, 13, 63, 76, 36, 143, 88, 141, 37, 43, 92, 124, 114, 74, 81, 141, 142, 45, 32, 46, 62, 55, 70, 7, 56, 47, 92, 51, 109, 34, 116, 123, 14, 119, 22, 93, 37, 42, 59, 10, 112, 38, 78, 136, 136, 137, 138, 80, 29, 28, 72, 43, 149, 50, 63, 66, 114, 39, 112, 87, 147, 23, 136, 36, 88, 80, 71, 115, 93, 125, 142, 113, 39, 90, 63, 146, 142, 119, 31, 85, 132, 126, 114, 80, 86, 127, 71, 63, 141, 132, 114, 1, 14, 106, 101, 62, 122, 129, 4, 42, 86, 91, 16, 29, 84, 104, 8, 136, 50, 128, 147, 97, 142, 82, 78, 38, 1, 125, 34, 50, 113, 120, 75, 72, 82, 105, 104, 100, 121, 39, 145, 33, 79, 123, 72, 6, 143, 88, 84, 142, 141, 73, 9, 97, 23, 92, 42, 75, 80, 110, 88, 144, 94, 36, 122, 47, 140, 91, 106, 2, 126, 23, 22, 79, 141, 64, 42, 122, 123, 47, 105, 65, 82, 80, 101, 67, 50, 82, 39, 66, 81, 63, 131, 123, 16, 85, 24, 42, 4, 26, 109, 94, 8, 33, 109, 42, 21, 121, 128, 10, 3, 119, 124, 38, 24, 3, 17, 68, 48, 82, 56, 107, 55, 22, 91, 43, 53, 119, 85, 82, 55, 102, 29, 87, 116, 64, 61, 107, 21, 58, 47, 87, 149, 88, 103, 37, 61, 90, 56, 83, 114, 6, 81, 86, 2, 73, 15, 104, 8, 9, 92, 85, 126, 18, 43, 116, 143, 46, 47, 131, 138, 59, 89, 69, 94, 67, 9, 26, 145, 52, 90, 134, 30, 120, 67, 80, 83, 149, 7, 57, 35, 121, 146, 31, 4, 55, 5, 129, 124, 127, 143, 69, 70, 19, 102, 94, 101, 97, 95, 16, 73, 72, 88, 87, 5, 24, 133, 0, 60, 127, 34, 86, 146, 109, 9, 113, 71, 124, 89, 102, 82, 122, 144, 99, 113, 126, 133, 87, 140, 8, 92, 134, 129, 40, 71, 126, 117, 130, 56, 64, 24, 5, 76, 13, 139, 146, 81, 95, 98, 23, 100, 78, 126, 105, 102, 104, 17, 1, 37, 13, 119, 2, 91, 107, 74, 147, 104, 53, 131, 90, 15, 121, 108, 82, 67, 56, 115, 143, 71, 96, 73, 112, 58, 2, 112, 31, 1, 46, 117, 24, 28, 70, 86, 67, 47, 0, 29, 16, 52, 103, 91, 77, 108, 56, 0, 70, 92, 75, 9, 116, 38, 103, 71, 54, 138, 123, 70, 50, 102, 80, 136, 103, 99, 77, 79, 10, 25, 34, 142, 111, 71, 74, 24, 29, 149, 53, 82, 11, 115, 123, 64, 141, 84, 14, 44, 64, 76, 30, 26, 140, 66, 20, 36, 68, 124, 77, 23, 12, 37, 29, 97, 148, 108, 14, 8, 112, 114, 125, 51, 60, 140, 126, 4, 139, 97, 83, 49, 136, 100, 130, 2, 138, 29, 53, 2, 112, 84, 103, 25, 32, 117, 38, 71, 113]\n",
      "710\n",
      "[55, 1, 84, 147, 144, 38, 110, 126, 143, 48, 127, 5, 111, 145, 32, 142, 138, 146, 60, 10, 70, 8, 68, 98, 148, 130, 86, 72, 109, 66, 73, 116, 54, 130, 95, 82, 36, 16, 122, 49, 39, 16, 48, 117, 40, 49, 134, 72, 77, 66, 14, 96, 18, 39, 144, 58, 61, 33, 123, 142, 90, 148, 55, 141, 16, 82, 72, 113, 127, 26, 143, 90, 40, 86, 97, 17, 31, 120, 117, 134, 54, 125, 4, 102, 52, 27, 74, 142, 138, 46, 8, 116, 13, 64, 95, 6, 103, 74, 89, 72, 96, 100, 12, 31, 70, 97, 52, 106, 49, 95, 43, 61, 23, 140, 26, 148, 74, 112, 70, 51, 80, 10, 60, 118, 77, 53, 47, 69, 11, 78, 137, 24, 66, 124, 36, 69, 90, 68, 62, 22, 79, 134, 15, 128, 45, 5, 141, 139, 30, 72, 38, 76, 30, 33, 115, 105, 96, 51, 37, 7, 66, 0, 90, 147, 95, 19, 63, 48, 91, 138, 38, 117, 126, 67, 7, 12, 138, 96, 6, 111, 39, 30, 26, 94, 18, 101, 128, 141, 119, 61, 35, 130, 95, 71, 26, 49, 21, 54, 48, 115, 56, 68, 61, 11, 132, 7, 113, 5, 13, 33, 82, 43, 41, 47, 6, 29, 112, 13, 63, 76, 36, 143, 88, 141, 37, 43, 92, 124, 114, 74, 81, 141, 142, 45, 32, 46, 62, 55, 70, 7, 56, 47, 92, 51, 109, 34, 116, 123, 14, 119, 22, 93, 37, 42, 59, 10, 112, 38, 78, 136, 136, 137, 138, 80, 29, 28, 72, 43, 149, 50, 63, 66, 114, 39, 112, 87, 147, 23, 136, 36, 88, 80, 71, 115, 93, 125, 142, 113, 39, 90, 63, 146, 142, 119, 31, 85, 132, 126, 114, 80, 86, 127, 71, 63, 141, 132, 114, 1, 14, 106, 101, 62, 122, 129, 4, 42, 86, 91, 16, 29, 84, 104, 8, 136, 50, 128, 147, 97, 142, 82, 78, 38, 1, 125, 34, 50, 113, 120, 75, 72, 82, 105, 104, 100, 121, 39, 145, 33, 79, 123, 72, 6, 143, 88, 84, 142, 141, 73, 9, 97, 23, 92, 42, 75, 80, 110, 88, 144, 94, 36, 122, 47, 140, 91, 106, 2, 126, 23, 22, 79, 141, 64, 42, 122, 123, 47, 105, 65, 82, 80, 101, 67, 50, 82, 39, 66, 81, 63, 131, 123, 16, 85, 24, 42, 4, 26, 109, 94, 8, 33, 109, 42, 21, 121, 128, 10, 3, 119, 124, 38, 24, 3, 17, 68, 48, 82, 56, 107, 55, 22, 91, 43, 53, 119, 85, 82, 55, 102, 29, 87, 116, 64, 61, 107, 21, 58, 47, 87, 149, 88, 103, 37, 61, 90, 56, 83, 114, 6, 81, 86, 2, 73, 15, 104, 8, 9, 92, 85, 126, 18, 43, 116, 143, 46, 47, 131, 138, 59, 89, 69, 94, 67, 9, 26, 145, 52, 90, 134, 30, 120, 67, 80, 83, 149, 7, 57, 35, 121, 146, 31, 4, 55, 5, 129, 124, 127, 143, 69, 70, 19, 102, 94, 101, 97, 95, 16, 73, 72, 88, 87, 5, 24, 133, 0, 60, 127, 34, 86, 146, 109, 9, 113, 71, 124, 89, 102, 82, 122, 144, 99, 113, 126, 133, 87, 140, 8, 92, 134, 129, 40, 71, 126, 117, 130, 56, 64, 24, 5, 76, 13, 139, 146, 81, 95, 98, 23, 100, 78, 126, 105, 102, 104, 17, 1, 37, 13, 119, 2, 91, 107, 74, 147, 104, 53, 131, 90, 15, 121, 108, 82, 67, 56, 115, 143, 71, 96, 73, 112, 58, 2, 112, 31, 1, 46, 117, 24, 28, 70, 86, 67, 47, 0, 29, 16, 52, 103, 91, 77, 108, 56, 0, 70, 92, 75, 9, 116, 38, 103, 71, 54, 138, 123, 70, 50, 102, 80, 136, 103, 99, 77, 79, 10, 25, 34, 142, 111, 71, 74, 24, 29, 149, 53, 82, 11, 115, 123, 64, 141, 84, 14, 44, 64, 76, 30, 26, 140, 66, 20, 36, 68, 124, 77, 23, 12, 37, 29, 97, 148, 108, 14, 8, 112, 114, 125, 51, 60, 140, 126, 4, 139, 97, 83, 49, 136, 100, 130, 2, 138, 29, 53, 2, 112, 84, 103, 25, 32, 117, 38, 71, 113, 57, 121, 94, 72, 37, 39, 89, 80, 1, 119]\n",
      "720\n",
      "[55, 1, 84, 147, 144, 38, 110, 126, 143, 48, 127, 5, 111, 145, 32, 142, 138, 146, 60, 10, 70, 8, 68, 98, 148, 130, 86, 72, 109, 66, 73, 116, 54, 130, 95, 82, 36, 16, 122, 49, 39, 16, 48, 117, 40, 49, 134, 72, 77, 66, 14, 96, 18, 39, 144, 58, 61, 33, 123, 142, 90, 148, 55, 141, 16, 82, 72, 113, 127, 26, 143, 90, 40, 86, 97, 17, 31, 120, 117, 134, 54, 125, 4, 102, 52, 27, 74, 142, 138, 46, 8, 116, 13, 64, 95, 6, 103, 74, 89, 72, 96, 100, 12, 31, 70, 97, 52, 106, 49, 95, 43, 61, 23, 140, 26, 148, 74, 112, 70, 51, 80, 10, 60, 118, 77, 53, 47, 69, 11, 78, 137, 24, 66, 124, 36, 69, 90, 68, 62, 22, 79, 134, 15, 128, 45, 5, 141, 139, 30, 72, 38, 76, 30, 33, 115, 105, 96, 51, 37, 7, 66, 0, 90, 147, 95, 19, 63, 48, 91, 138, 38, 117, 126, 67, 7, 12, 138, 96, 6, 111, 39, 30, 26, 94, 18, 101, 128, 141, 119, 61, 35, 130, 95, 71, 26, 49, 21, 54, 48, 115, 56, 68, 61, 11, 132, 7, 113, 5, 13, 33, 82, 43, 41, 47, 6, 29, 112, 13, 63, 76, 36, 143, 88, 141, 37, 43, 92, 124, 114, 74, 81, 141, 142, 45, 32, 46, 62, 55, 70, 7, 56, 47, 92, 51, 109, 34, 116, 123, 14, 119, 22, 93, 37, 42, 59, 10, 112, 38, 78, 136, 136, 137, 138, 80, 29, 28, 72, 43, 149, 50, 63, 66, 114, 39, 112, 87, 147, 23, 136, 36, 88, 80, 71, 115, 93, 125, 142, 113, 39, 90, 63, 146, 142, 119, 31, 85, 132, 126, 114, 80, 86, 127, 71, 63, 141, 132, 114, 1, 14, 106, 101, 62, 122, 129, 4, 42, 86, 91, 16, 29, 84, 104, 8, 136, 50, 128, 147, 97, 142, 82, 78, 38, 1, 125, 34, 50, 113, 120, 75, 72, 82, 105, 104, 100, 121, 39, 145, 33, 79, 123, 72, 6, 143, 88, 84, 142, 141, 73, 9, 97, 23, 92, 42, 75, 80, 110, 88, 144, 94, 36, 122, 47, 140, 91, 106, 2, 126, 23, 22, 79, 141, 64, 42, 122, 123, 47, 105, 65, 82, 80, 101, 67, 50, 82, 39, 66, 81, 63, 131, 123, 16, 85, 24, 42, 4, 26, 109, 94, 8, 33, 109, 42, 21, 121, 128, 10, 3, 119, 124, 38, 24, 3, 17, 68, 48, 82, 56, 107, 55, 22, 91, 43, 53, 119, 85, 82, 55, 102, 29, 87, 116, 64, 61, 107, 21, 58, 47, 87, 149, 88, 103, 37, 61, 90, 56, 83, 114, 6, 81, 86, 2, 73, 15, 104, 8, 9, 92, 85, 126, 18, 43, 116, 143, 46, 47, 131, 138, 59, 89, 69, 94, 67, 9, 26, 145, 52, 90, 134, 30, 120, 67, 80, 83, 149, 7, 57, 35, 121, 146, 31, 4, 55, 5, 129, 124, 127, 143, 69, 70, 19, 102, 94, 101, 97, 95, 16, 73, 72, 88, 87, 5, 24, 133, 0, 60, 127, 34, 86, 146, 109, 9, 113, 71, 124, 89, 102, 82, 122, 144, 99, 113, 126, 133, 87, 140, 8, 92, 134, 129, 40, 71, 126, 117, 130, 56, 64, 24, 5, 76, 13, 139, 146, 81, 95, 98, 23, 100, 78, 126, 105, 102, 104, 17, 1, 37, 13, 119, 2, 91, 107, 74, 147, 104, 53, 131, 90, 15, 121, 108, 82, 67, 56, 115, 143, 71, 96, 73, 112, 58, 2, 112, 31, 1, 46, 117, 24, 28, 70, 86, 67, 47, 0, 29, 16, 52, 103, 91, 77, 108, 56, 0, 70, 92, 75, 9, 116, 38, 103, 71, 54, 138, 123, 70, 50, 102, 80, 136, 103, 99, 77, 79, 10, 25, 34, 142, 111, 71, 74, 24, 29, 149, 53, 82, 11, 115, 123, 64, 141, 84, 14, 44, 64, 76, 30, 26, 140, 66, 20, 36, 68, 124, 77, 23, 12, 37, 29, 97, 148, 108, 14, 8, 112, 114, 125, 51, 60, 140, 126, 4, 139, 97, 83, 49, 136, 100, 130, 2, 138, 29, 53, 2, 112, 84, 103, 25, 32, 117, 38, 71, 113, 57, 121, 94, 72, 37, 39, 89, 80, 1, 119, 80, 10, 58, 66, 128, 74, 122, 109, 5, 76]\n",
      "730\n",
      "[55, 1, 84, 147, 144, 38, 110, 126, 143, 48, 127, 5, 111, 145, 32, 142, 138, 146, 60, 10, 70, 8, 68, 98, 148, 130, 86, 72, 109, 66, 73, 116, 54, 130, 95, 82, 36, 16, 122, 49, 39, 16, 48, 117, 40, 49, 134, 72, 77, 66, 14, 96, 18, 39, 144, 58, 61, 33, 123, 142, 90, 148, 55, 141, 16, 82, 72, 113, 127, 26, 143, 90, 40, 86, 97, 17, 31, 120, 117, 134, 54, 125, 4, 102, 52, 27, 74, 142, 138, 46, 8, 116, 13, 64, 95, 6, 103, 74, 89, 72, 96, 100, 12, 31, 70, 97, 52, 106, 49, 95, 43, 61, 23, 140, 26, 148, 74, 112, 70, 51, 80, 10, 60, 118, 77, 53, 47, 69, 11, 78, 137, 24, 66, 124, 36, 69, 90, 68, 62, 22, 79, 134, 15, 128, 45, 5, 141, 139, 30, 72, 38, 76, 30, 33, 115, 105, 96, 51, 37, 7, 66, 0, 90, 147, 95, 19, 63, 48, 91, 138, 38, 117, 126, 67, 7, 12, 138, 96, 6, 111, 39, 30, 26, 94, 18, 101, 128, 141, 119, 61, 35, 130, 95, 71, 26, 49, 21, 54, 48, 115, 56, 68, 61, 11, 132, 7, 113, 5, 13, 33, 82, 43, 41, 47, 6, 29, 112, 13, 63, 76, 36, 143, 88, 141, 37, 43, 92, 124, 114, 74, 81, 141, 142, 45, 32, 46, 62, 55, 70, 7, 56, 47, 92, 51, 109, 34, 116, 123, 14, 119, 22, 93, 37, 42, 59, 10, 112, 38, 78, 136, 136, 137, 138, 80, 29, 28, 72, 43, 149, 50, 63, 66, 114, 39, 112, 87, 147, 23, 136, 36, 88, 80, 71, 115, 93, 125, 142, 113, 39, 90, 63, 146, 142, 119, 31, 85, 132, 126, 114, 80, 86, 127, 71, 63, 141, 132, 114, 1, 14, 106, 101, 62, 122, 129, 4, 42, 86, 91, 16, 29, 84, 104, 8, 136, 50, 128, 147, 97, 142, 82, 78, 38, 1, 125, 34, 50, 113, 120, 75, 72, 82, 105, 104, 100, 121, 39, 145, 33, 79, 123, 72, 6, 143, 88, 84, 142, 141, 73, 9, 97, 23, 92, 42, 75, 80, 110, 88, 144, 94, 36, 122, 47, 140, 91, 106, 2, 126, 23, 22, 79, 141, 64, 42, 122, 123, 47, 105, 65, 82, 80, 101, 67, 50, 82, 39, 66, 81, 63, 131, 123, 16, 85, 24, 42, 4, 26, 109, 94, 8, 33, 109, 42, 21, 121, 128, 10, 3, 119, 124, 38, 24, 3, 17, 68, 48, 82, 56, 107, 55, 22, 91, 43, 53, 119, 85, 82, 55, 102, 29, 87, 116, 64, 61, 107, 21, 58, 47, 87, 149, 88, 103, 37, 61, 90, 56, 83, 114, 6, 81, 86, 2, 73, 15, 104, 8, 9, 92, 85, 126, 18, 43, 116, 143, 46, 47, 131, 138, 59, 89, 69, 94, 67, 9, 26, 145, 52, 90, 134, 30, 120, 67, 80, 83, 149, 7, 57, 35, 121, 146, 31, 4, 55, 5, 129, 124, 127, 143, 69, 70, 19, 102, 94, 101, 97, 95, 16, 73, 72, 88, 87, 5, 24, 133, 0, 60, 127, 34, 86, 146, 109, 9, 113, 71, 124, 89, 102, 82, 122, 144, 99, 113, 126, 133, 87, 140, 8, 92, 134, 129, 40, 71, 126, 117, 130, 56, 64, 24, 5, 76, 13, 139, 146, 81, 95, 98, 23, 100, 78, 126, 105, 102, 104, 17, 1, 37, 13, 119, 2, 91, 107, 74, 147, 104, 53, 131, 90, 15, 121, 108, 82, 67, 56, 115, 143, 71, 96, 73, 112, 58, 2, 112, 31, 1, 46, 117, 24, 28, 70, 86, 67, 47, 0, 29, 16, 52, 103, 91, 77, 108, 56, 0, 70, 92, 75, 9, 116, 38, 103, 71, 54, 138, 123, 70, 50, 102, 80, 136, 103, 99, 77, 79, 10, 25, 34, 142, 111, 71, 74, 24, 29, 149, 53, 82, 11, 115, 123, 64, 141, 84, 14, 44, 64, 76, 30, 26, 140, 66, 20, 36, 68, 124, 77, 23, 12, 37, 29, 97, 148, 108, 14, 8, 112, 114, 125, 51, 60, 140, 126, 4, 139, 97, 83, 49, 136, 100, 130, 2, 138, 29, 53, 2, 112, 84, 103, 25, 32, 117, 38, 71, 113, 57, 121, 94, 72, 37, 39, 89, 80, 1, 119, 80, 10, 58, 66, 128, 74, 122, 109, 5, 76, 62, 28, 7, 16, 128, 122, 89, 8, 29, 60]\n",
      "740\n",
      "[55, 1, 84, 147, 144, 38, 110, 126, 143, 48, 127, 5, 111, 145, 32, 142, 138, 146, 60, 10, 70, 8, 68, 98, 148, 130, 86, 72, 109, 66, 73, 116, 54, 130, 95, 82, 36, 16, 122, 49, 39, 16, 48, 117, 40, 49, 134, 72, 77, 66, 14, 96, 18, 39, 144, 58, 61, 33, 123, 142, 90, 148, 55, 141, 16, 82, 72, 113, 127, 26, 143, 90, 40, 86, 97, 17, 31, 120, 117, 134, 54, 125, 4, 102, 52, 27, 74, 142, 138, 46, 8, 116, 13, 64, 95, 6, 103, 74, 89, 72, 96, 100, 12, 31, 70, 97, 52, 106, 49, 95, 43, 61, 23, 140, 26, 148, 74, 112, 70, 51, 80, 10, 60, 118, 77, 53, 47, 69, 11, 78, 137, 24, 66, 124, 36, 69, 90, 68, 62, 22, 79, 134, 15, 128, 45, 5, 141, 139, 30, 72, 38, 76, 30, 33, 115, 105, 96, 51, 37, 7, 66, 0, 90, 147, 95, 19, 63, 48, 91, 138, 38, 117, 126, 67, 7, 12, 138, 96, 6, 111, 39, 30, 26, 94, 18, 101, 128, 141, 119, 61, 35, 130, 95, 71, 26, 49, 21, 54, 48, 115, 56, 68, 61, 11, 132, 7, 113, 5, 13, 33, 82, 43, 41, 47, 6, 29, 112, 13, 63, 76, 36, 143, 88, 141, 37, 43, 92, 124, 114, 74, 81, 141, 142, 45, 32, 46, 62, 55, 70, 7, 56, 47, 92, 51, 109, 34, 116, 123, 14, 119, 22, 93, 37, 42, 59, 10, 112, 38, 78, 136, 136, 137, 138, 80, 29, 28, 72, 43, 149, 50, 63, 66, 114, 39, 112, 87, 147, 23, 136, 36, 88, 80, 71, 115, 93, 125, 142, 113, 39, 90, 63, 146, 142, 119, 31, 85, 132, 126, 114, 80, 86, 127, 71, 63, 141, 132, 114, 1, 14, 106, 101, 62, 122, 129, 4, 42, 86, 91, 16, 29, 84, 104, 8, 136, 50, 128, 147, 97, 142, 82, 78, 38, 1, 125, 34, 50, 113, 120, 75, 72, 82, 105, 104, 100, 121, 39, 145, 33, 79, 123, 72, 6, 143, 88, 84, 142, 141, 73, 9, 97, 23, 92, 42, 75, 80, 110, 88, 144, 94, 36, 122, 47, 140, 91, 106, 2, 126, 23, 22, 79, 141, 64, 42, 122, 123, 47, 105, 65, 82, 80, 101, 67, 50, 82, 39, 66, 81, 63, 131, 123, 16, 85, 24, 42, 4, 26, 109, 94, 8, 33, 109, 42, 21, 121, 128, 10, 3, 119, 124, 38, 24, 3, 17, 68, 48, 82, 56, 107, 55, 22, 91, 43, 53, 119, 85, 82, 55, 102, 29, 87, 116, 64, 61, 107, 21, 58, 47, 87, 149, 88, 103, 37, 61, 90, 56, 83, 114, 6, 81, 86, 2, 73, 15, 104, 8, 9, 92, 85, 126, 18, 43, 116, 143, 46, 47, 131, 138, 59, 89, 69, 94, 67, 9, 26, 145, 52, 90, 134, 30, 120, 67, 80, 83, 149, 7, 57, 35, 121, 146, 31, 4, 55, 5, 129, 124, 127, 143, 69, 70, 19, 102, 94, 101, 97, 95, 16, 73, 72, 88, 87, 5, 24, 133, 0, 60, 127, 34, 86, 146, 109, 9, 113, 71, 124, 89, 102, 82, 122, 144, 99, 113, 126, 133, 87, 140, 8, 92, 134, 129, 40, 71, 126, 117, 130, 56, 64, 24, 5, 76, 13, 139, 146, 81, 95, 98, 23, 100, 78, 126, 105, 102, 104, 17, 1, 37, 13, 119, 2, 91, 107, 74, 147, 104, 53, 131, 90, 15, 121, 108, 82, 67, 56, 115, 143, 71, 96, 73, 112, 58, 2, 112, 31, 1, 46, 117, 24, 28, 70, 86, 67, 47, 0, 29, 16, 52, 103, 91, 77, 108, 56, 0, 70, 92, 75, 9, 116, 38, 103, 71, 54, 138, 123, 70, 50, 102, 80, 136, 103, 99, 77, 79, 10, 25, 34, 142, 111, 71, 74, 24, 29, 149, 53, 82, 11, 115, 123, 64, 141, 84, 14, 44, 64, 76, 30, 26, 140, 66, 20, 36, 68, 124, 77, 23, 12, 37, 29, 97, 148, 108, 14, 8, 112, 114, 125, 51, 60, 140, 126, 4, 139, 97, 83, 49, 136, 100, 130, 2, 138, 29, 53, 2, 112, 84, 103, 25, 32, 117, 38, 71, 113, 57, 121, 94, 72, 37, 39, 89, 80, 1, 119, 80, 10, 58, 66, 128, 74, 122, 109, 5, 76, 62, 28, 7, 16, 128, 122, 89, 8, 29, 60, 129, 146, 143, 123, 46, 60, 71, 121, 70, 144]\n",
      "750\n",
      "[55, 1, 84, 147, 144, 38, 110, 126, 143, 48, 127, 5, 111, 145, 32, 142, 138, 146, 60, 10, 70, 8, 68, 98, 148, 130, 86, 72, 109, 66, 73, 116, 54, 130, 95, 82, 36, 16, 122, 49, 39, 16, 48, 117, 40, 49, 134, 72, 77, 66, 14, 96, 18, 39, 144, 58, 61, 33, 123, 142, 90, 148, 55, 141, 16, 82, 72, 113, 127, 26, 143, 90, 40, 86, 97, 17, 31, 120, 117, 134, 54, 125, 4, 102, 52, 27, 74, 142, 138, 46, 8, 116, 13, 64, 95, 6, 103, 74, 89, 72, 96, 100, 12, 31, 70, 97, 52, 106, 49, 95, 43, 61, 23, 140, 26, 148, 74, 112, 70, 51, 80, 10, 60, 118, 77, 53, 47, 69, 11, 78, 137, 24, 66, 124, 36, 69, 90, 68, 62, 22, 79, 134, 15, 128, 45, 5, 141, 139, 30, 72, 38, 76, 30, 33, 115, 105, 96, 51, 37, 7, 66, 0, 90, 147, 95, 19, 63, 48, 91, 138, 38, 117, 126, 67, 7, 12, 138, 96, 6, 111, 39, 30, 26, 94, 18, 101, 128, 141, 119, 61, 35, 130, 95, 71, 26, 49, 21, 54, 48, 115, 56, 68, 61, 11, 132, 7, 113, 5, 13, 33, 82, 43, 41, 47, 6, 29, 112, 13, 63, 76, 36, 143, 88, 141, 37, 43, 92, 124, 114, 74, 81, 141, 142, 45, 32, 46, 62, 55, 70, 7, 56, 47, 92, 51, 109, 34, 116, 123, 14, 119, 22, 93, 37, 42, 59, 10, 112, 38, 78, 136, 136, 137, 138, 80, 29, 28, 72, 43, 149, 50, 63, 66, 114, 39, 112, 87, 147, 23, 136, 36, 88, 80, 71, 115, 93, 125, 142, 113, 39, 90, 63, 146, 142, 119, 31, 85, 132, 126, 114, 80, 86, 127, 71, 63, 141, 132, 114, 1, 14, 106, 101, 62, 122, 129, 4, 42, 86, 91, 16, 29, 84, 104, 8, 136, 50, 128, 147, 97, 142, 82, 78, 38, 1, 125, 34, 50, 113, 120, 75, 72, 82, 105, 104, 100, 121, 39, 145, 33, 79, 123, 72, 6, 143, 88, 84, 142, 141, 73, 9, 97, 23, 92, 42, 75, 80, 110, 88, 144, 94, 36, 122, 47, 140, 91, 106, 2, 126, 23, 22, 79, 141, 64, 42, 122, 123, 47, 105, 65, 82, 80, 101, 67, 50, 82, 39, 66, 81, 63, 131, 123, 16, 85, 24, 42, 4, 26, 109, 94, 8, 33, 109, 42, 21, 121, 128, 10, 3, 119, 124, 38, 24, 3, 17, 68, 48, 82, 56, 107, 55, 22, 91, 43, 53, 119, 85, 82, 55, 102, 29, 87, 116, 64, 61, 107, 21, 58, 47, 87, 149, 88, 103, 37, 61, 90, 56, 83, 114, 6, 81, 86, 2, 73, 15, 104, 8, 9, 92, 85, 126, 18, 43, 116, 143, 46, 47, 131, 138, 59, 89, 69, 94, 67, 9, 26, 145, 52, 90, 134, 30, 120, 67, 80, 83, 149, 7, 57, 35, 121, 146, 31, 4, 55, 5, 129, 124, 127, 143, 69, 70, 19, 102, 94, 101, 97, 95, 16, 73, 72, 88, 87, 5, 24, 133, 0, 60, 127, 34, 86, 146, 109, 9, 113, 71, 124, 89, 102, 82, 122, 144, 99, 113, 126, 133, 87, 140, 8, 92, 134, 129, 40, 71, 126, 117, 130, 56, 64, 24, 5, 76, 13, 139, 146, 81, 95, 98, 23, 100, 78, 126, 105, 102, 104, 17, 1, 37, 13, 119, 2, 91, 107, 74, 147, 104, 53, 131, 90, 15, 121, 108, 82, 67, 56, 115, 143, 71, 96, 73, 112, 58, 2, 112, 31, 1, 46, 117, 24, 28, 70, 86, 67, 47, 0, 29, 16, 52, 103, 91, 77, 108, 56, 0, 70, 92, 75, 9, 116, 38, 103, 71, 54, 138, 123, 70, 50, 102, 80, 136, 103, 99, 77, 79, 10, 25, 34, 142, 111, 71, 74, 24, 29, 149, 53, 82, 11, 115, 123, 64, 141, 84, 14, 44, 64, 76, 30, 26, 140, 66, 20, 36, 68, 124, 77, 23, 12, 37, 29, 97, 148, 108, 14, 8, 112, 114, 125, 51, 60, 140, 126, 4, 139, 97, 83, 49, 136, 100, 130, 2, 138, 29, 53, 2, 112, 84, 103, 25, 32, 117, 38, 71, 113, 57, 121, 94, 72, 37, 39, 89, 80, 1, 119, 80, 10, 58, 66, 128, 74, 122, 109, 5, 76, 62, 28, 7, 16, 128, 122, 89, 8, 29, 60, 129, 146, 143, 123, 46, 60, 71, 121, 70, 144, 73, 5, 46, 143, 26, 8, 24, 9, 100, 72]\n",
      "760\n",
      "[55, 1, 84, 147, 144, 38, 110, 126, 143, 48, 127, 5, 111, 145, 32, 142, 138, 146, 60, 10, 70, 8, 68, 98, 148, 130, 86, 72, 109, 66, 73, 116, 54, 130, 95, 82, 36, 16, 122, 49, 39, 16, 48, 117, 40, 49, 134, 72, 77, 66, 14, 96, 18, 39, 144, 58, 61, 33, 123, 142, 90, 148, 55, 141, 16, 82, 72, 113, 127, 26, 143, 90, 40, 86, 97, 17, 31, 120, 117, 134, 54, 125, 4, 102, 52, 27, 74, 142, 138, 46, 8, 116, 13, 64, 95, 6, 103, 74, 89, 72, 96, 100, 12, 31, 70, 97, 52, 106, 49, 95, 43, 61, 23, 140, 26, 148, 74, 112, 70, 51, 80, 10, 60, 118, 77, 53, 47, 69, 11, 78, 137, 24, 66, 124, 36, 69, 90, 68, 62, 22, 79, 134, 15, 128, 45, 5, 141, 139, 30, 72, 38, 76, 30, 33, 115, 105, 96, 51, 37, 7, 66, 0, 90, 147, 95, 19, 63, 48, 91, 138, 38, 117, 126, 67, 7, 12, 138, 96, 6, 111, 39, 30, 26, 94, 18, 101, 128, 141, 119, 61, 35, 130, 95, 71, 26, 49, 21, 54, 48, 115, 56, 68, 61, 11, 132, 7, 113, 5, 13, 33, 82, 43, 41, 47, 6, 29, 112, 13, 63, 76, 36, 143, 88, 141, 37, 43, 92, 124, 114, 74, 81, 141, 142, 45, 32, 46, 62, 55, 70, 7, 56, 47, 92, 51, 109, 34, 116, 123, 14, 119, 22, 93, 37, 42, 59, 10, 112, 38, 78, 136, 136, 137, 138, 80, 29, 28, 72, 43, 149, 50, 63, 66, 114, 39, 112, 87, 147, 23, 136, 36, 88, 80, 71, 115, 93, 125, 142, 113, 39, 90, 63, 146, 142, 119, 31, 85, 132, 126, 114, 80, 86, 127, 71, 63, 141, 132, 114, 1, 14, 106, 101, 62, 122, 129, 4, 42, 86, 91, 16, 29, 84, 104, 8, 136, 50, 128, 147, 97, 142, 82, 78, 38, 1, 125, 34, 50, 113, 120, 75, 72, 82, 105, 104, 100, 121, 39, 145, 33, 79, 123, 72, 6, 143, 88, 84, 142, 141, 73, 9, 97, 23, 92, 42, 75, 80, 110, 88, 144, 94, 36, 122, 47, 140, 91, 106, 2, 126, 23, 22, 79, 141, 64, 42, 122, 123, 47, 105, 65, 82, 80, 101, 67, 50, 82, 39, 66, 81, 63, 131, 123, 16, 85, 24, 42, 4, 26, 109, 94, 8, 33, 109, 42, 21, 121, 128, 10, 3, 119, 124, 38, 24, 3, 17, 68, 48, 82, 56, 107, 55, 22, 91, 43, 53, 119, 85, 82, 55, 102, 29, 87, 116, 64, 61, 107, 21, 58, 47, 87, 149, 88, 103, 37, 61, 90, 56, 83, 114, 6, 81, 86, 2, 73, 15, 104, 8, 9, 92, 85, 126, 18, 43, 116, 143, 46, 47, 131, 138, 59, 89, 69, 94, 67, 9, 26, 145, 52, 90, 134, 30, 120, 67, 80, 83, 149, 7, 57, 35, 121, 146, 31, 4, 55, 5, 129, 124, 127, 143, 69, 70, 19, 102, 94, 101, 97, 95, 16, 73, 72, 88, 87, 5, 24, 133, 0, 60, 127, 34, 86, 146, 109, 9, 113, 71, 124, 89, 102, 82, 122, 144, 99, 113, 126, 133, 87, 140, 8, 92, 134, 129, 40, 71, 126, 117, 130, 56, 64, 24, 5, 76, 13, 139, 146, 81, 95, 98, 23, 100, 78, 126, 105, 102, 104, 17, 1, 37, 13, 119, 2, 91, 107, 74, 147, 104, 53, 131, 90, 15, 121, 108, 82, 67, 56, 115, 143, 71, 96, 73, 112, 58, 2, 112, 31, 1, 46, 117, 24, 28, 70, 86, 67, 47, 0, 29, 16, 52, 103, 91, 77, 108, 56, 0, 70, 92, 75, 9, 116, 38, 103, 71, 54, 138, 123, 70, 50, 102, 80, 136, 103, 99, 77, 79, 10, 25, 34, 142, 111, 71, 74, 24, 29, 149, 53, 82, 11, 115, 123, 64, 141, 84, 14, 44, 64, 76, 30, 26, 140, 66, 20, 36, 68, 124, 77, 23, 12, 37, 29, 97, 148, 108, 14, 8, 112, 114, 125, 51, 60, 140, 126, 4, 139, 97, 83, 49, 136, 100, 130, 2, 138, 29, 53, 2, 112, 84, 103, 25, 32, 117, 38, 71, 113, 57, 121, 94, 72, 37, 39, 89, 80, 1, 119, 80, 10, 58, 66, 128, 74, 122, 109, 5, 76, 62, 28, 7, 16, 128, 122, 89, 8, 29, 60, 129, 146, 143, 123, 46, 60, 71, 121, 70, 144, 73, 5, 46, 143, 26, 8, 24, 9, 100, 72, 50, 66, 148, 62, 77, 102, 100, 124, 7, 125]\n",
      "770\n",
      "[55, 1, 84, 147, 144, 38, 110, 126, 143, 48, 127, 5, 111, 145, 32, 142, 138, 146, 60, 10, 70, 8, 68, 98, 148, 130, 86, 72, 109, 66, 73, 116, 54, 130, 95, 82, 36, 16, 122, 49, 39, 16, 48, 117, 40, 49, 134, 72, 77, 66, 14, 96, 18, 39, 144, 58, 61, 33, 123, 142, 90, 148, 55, 141, 16, 82, 72, 113, 127, 26, 143, 90, 40, 86, 97, 17, 31, 120, 117, 134, 54, 125, 4, 102, 52, 27, 74, 142, 138, 46, 8, 116, 13, 64, 95, 6, 103, 74, 89, 72, 96, 100, 12, 31, 70, 97, 52, 106, 49, 95, 43, 61, 23, 140, 26, 148, 74, 112, 70, 51, 80, 10, 60, 118, 77, 53, 47, 69, 11, 78, 137, 24, 66, 124, 36, 69, 90, 68, 62, 22, 79, 134, 15, 128, 45, 5, 141, 139, 30, 72, 38, 76, 30, 33, 115, 105, 96, 51, 37, 7, 66, 0, 90, 147, 95, 19, 63, 48, 91, 138, 38, 117, 126, 67, 7, 12, 138, 96, 6, 111, 39, 30, 26, 94, 18, 101, 128, 141, 119, 61, 35, 130, 95, 71, 26, 49, 21, 54, 48, 115, 56, 68, 61, 11, 132, 7, 113, 5, 13, 33, 82, 43, 41, 47, 6, 29, 112, 13, 63, 76, 36, 143, 88, 141, 37, 43, 92, 124, 114, 74, 81, 141, 142, 45, 32, 46, 62, 55, 70, 7, 56, 47, 92, 51, 109, 34, 116, 123, 14, 119, 22, 93, 37, 42, 59, 10, 112, 38, 78, 136, 136, 137, 138, 80, 29, 28, 72, 43, 149, 50, 63, 66, 114, 39, 112, 87, 147, 23, 136, 36, 88, 80, 71, 115, 93, 125, 142, 113, 39, 90, 63, 146, 142, 119, 31, 85, 132, 126, 114, 80, 86, 127, 71, 63, 141, 132, 114, 1, 14, 106, 101, 62, 122, 129, 4, 42, 86, 91, 16, 29, 84, 104, 8, 136, 50, 128, 147, 97, 142, 82, 78, 38, 1, 125, 34, 50, 113, 120, 75, 72, 82, 105, 104, 100, 121, 39, 145, 33, 79, 123, 72, 6, 143, 88, 84, 142, 141, 73, 9, 97, 23, 92, 42, 75, 80, 110, 88, 144, 94, 36, 122, 47, 140, 91, 106, 2, 126, 23, 22, 79, 141, 64, 42, 122, 123, 47, 105, 65, 82, 80, 101, 67, 50, 82, 39, 66, 81, 63, 131, 123, 16, 85, 24, 42, 4, 26, 109, 94, 8, 33, 109, 42, 21, 121, 128, 10, 3, 119, 124, 38, 24, 3, 17, 68, 48, 82, 56, 107, 55, 22, 91, 43, 53, 119, 85, 82, 55, 102, 29, 87, 116, 64, 61, 107, 21, 58, 47, 87, 149, 88, 103, 37, 61, 90, 56, 83, 114, 6, 81, 86, 2, 73, 15, 104, 8, 9, 92, 85, 126, 18, 43, 116, 143, 46, 47, 131, 138, 59, 89, 69, 94, 67, 9, 26, 145, 52, 90, 134, 30, 120, 67, 80, 83, 149, 7, 57, 35, 121, 146, 31, 4, 55, 5, 129, 124, 127, 143, 69, 70, 19, 102, 94, 101, 97, 95, 16, 73, 72, 88, 87, 5, 24, 133, 0, 60, 127, 34, 86, 146, 109, 9, 113, 71, 124, 89, 102, 82, 122, 144, 99, 113, 126, 133, 87, 140, 8, 92, 134, 129, 40, 71, 126, 117, 130, 56, 64, 24, 5, 76, 13, 139, 146, 81, 95, 98, 23, 100, 78, 126, 105, 102, 104, 17, 1, 37, 13, 119, 2, 91, 107, 74, 147, 104, 53, 131, 90, 15, 121, 108, 82, 67, 56, 115, 143, 71, 96, 73, 112, 58, 2, 112, 31, 1, 46, 117, 24, 28, 70, 86, 67, 47, 0, 29, 16, 52, 103, 91, 77, 108, 56, 0, 70, 92, 75, 9, 116, 38, 103, 71, 54, 138, 123, 70, 50, 102, 80, 136, 103, 99, 77, 79, 10, 25, 34, 142, 111, 71, 74, 24, 29, 149, 53, 82, 11, 115, 123, 64, 141, 84, 14, 44, 64, 76, 30, 26, 140, 66, 20, 36, 68, 124, 77, 23, 12, 37, 29, 97, 148, 108, 14, 8, 112, 114, 125, 51, 60, 140, 126, 4, 139, 97, 83, 49, 136, 100, 130, 2, 138, 29, 53, 2, 112, 84, 103, 25, 32, 117, 38, 71, 113, 57, 121, 94, 72, 37, 39, 89, 80, 1, 119, 80, 10, 58, 66, 128, 74, 122, 109, 5, 76, 62, 28, 7, 16, 128, 122, 89, 8, 29, 60, 129, 146, 143, 123, 46, 60, 71, 121, 70, 144, 73, 5, 46, 143, 26, 8, 24, 9, 100, 72, 50, 66, 148, 62, 77, 102, 100, 124, 7, 125, 141, 147, 75, 54, 92, 109, 45, 47, 68, 29]\n",
      "780\n",
      "[55, 1, 84, 147, 144, 38, 110, 126, 143, 48, 127, 5, 111, 145, 32, 142, 138, 146, 60, 10, 70, 8, 68, 98, 148, 130, 86, 72, 109, 66, 73, 116, 54, 130, 95, 82, 36, 16, 122, 49, 39, 16, 48, 117, 40, 49, 134, 72, 77, 66, 14, 96, 18, 39, 144, 58, 61, 33, 123, 142, 90, 148, 55, 141, 16, 82, 72, 113, 127, 26, 143, 90, 40, 86, 97, 17, 31, 120, 117, 134, 54, 125, 4, 102, 52, 27, 74, 142, 138, 46, 8, 116, 13, 64, 95, 6, 103, 74, 89, 72, 96, 100, 12, 31, 70, 97, 52, 106, 49, 95, 43, 61, 23, 140, 26, 148, 74, 112, 70, 51, 80, 10, 60, 118, 77, 53, 47, 69, 11, 78, 137, 24, 66, 124, 36, 69, 90, 68, 62, 22, 79, 134, 15, 128, 45, 5, 141, 139, 30, 72, 38, 76, 30, 33, 115, 105, 96, 51, 37, 7, 66, 0, 90, 147, 95, 19, 63, 48, 91, 138, 38, 117, 126, 67, 7, 12, 138, 96, 6, 111, 39, 30, 26, 94, 18, 101, 128, 141, 119, 61, 35, 130, 95, 71, 26, 49, 21, 54, 48, 115, 56, 68, 61, 11, 132, 7, 113, 5, 13, 33, 82, 43, 41, 47, 6, 29, 112, 13, 63, 76, 36, 143, 88, 141, 37, 43, 92, 124, 114, 74, 81, 141, 142, 45, 32, 46, 62, 55, 70, 7, 56, 47, 92, 51, 109, 34, 116, 123, 14, 119, 22, 93, 37, 42, 59, 10, 112, 38, 78, 136, 136, 137, 138, 80, 29, 28, 72, 43, 149, 50, 63, 66, 114, 39, 112, 87, 147, 23, 136, 36, 88, 80, 71, 115, 93, 125, 142, 113, 39, 90, 63, 146, 142, 119, 31, 85, 132, 126, 114, 80, 86, 127, 71, 63, 141, 132, 114, 1, 14, 106, 101, 62, 122, 129, 4, 42, 86, 91, 16, 29, 84, 104, 8, 136, 50, 128, 147, 97, 142, 82, 78, 38, 1, 125, 34, 50, 113, 120, 75, 72, 82, 105, 104, 100, 121, 39, 145, 33, 79, 123, 72, 6, 143, 88, 84, 142, 141, 73, 9, 97, 23, 92, 42, 75, 80, 110, 88, 144, 94, 36, 122, 47, 140, 91, 106, 2, 126, 23, 22, 79, 141, 64, 42, 122, 123, 47, 105, 65, 82, 80, 101, 67, 50, 82, 39, 66, 81, 63, 131, 123, 16, 85, 24, 42, 4, 26, 109, 94, 8, 33, 109, 42, 21, 121, 128, 10, 3, 119, 124, 38, 24, 3, 17, 68, 48, 82, 56, 107, 55, 22, 91, 43, 53, 119, 85, 82, 55, 102, 29, 87, 116, 64, 61, 107, 21, 58, 47, 87, 149, 88, 103, 37, 61, 90, 56, 83, 114, 6, 81, 86, 2, 73, 15, 104, 8, 9, 92, 85, 126, 18, 43, 116, 143, 46, 47, 131, 138, 59, 89, 69, 94, 67, 9, 26, 145, 52, 90, 134, 30, 120, 67, 80, 83, 149, 7, 57, 35, 121, 146, 31, 4, 55, 5, 129, 124, 127, 143, 69, 70, 19, 102, 94, 101, 97, 95, 16, 73, 72, 88, 87, 5, 24, 133, 0, 60, 127, 34, 86, 146, 109, 9, 113, 71, 124, 89, 102, 82, 122, 144, 99, 113, 126, 133, 87, 140, 8, 92, 134, 129, 40, 71, 126, 117, 130, 56, 64, 24, 5, 76, 13, 139, 146, 81, 95, 98, 23, 100, 78, 126, 105, 102, 104, 17, 1, 37, 13, 119, 2, 91, 107, 74, 147, 104, 53, 131, 90, 15, 121, 108, 82, 67, 56, 115, 143, 71, 96, 73, 112, 58, 2, 112, 31, 1, 46, 117, 24, 28, 70, 86, 67, 47, 0, 29, 16, 52, 103, 91, 77, 108, 56, 0, 70, 92, 75, 9, 116, 38, 103, 71, 54, 138, 123, 70, 50, 102, 80, 136, 103, 99, 77, 79, 10, 25, 34, 142, 111, 71, 74, 24, 29, 149, 53, 82, 11, 115, 123, 64, 141, 84, 14, 44, 64, 76, 30, 26, 140, 66, 20, 36, 68, 124, 77, 23, 12, 37, 29, 97, 148, 108, 14, 8, 112, 114, 125, 51, 60, 140, 126, 4, 139, 97, 83, 49, 136, 100, 130, 2, 138, 29, 53, 2, 112, 84, 103, 25, 32, 117, 38, 71, 113, 57, 121, 94, 72, 37, 39, 89, 80, 1, 119, 80, 10, 58, 66, 128, 74, 122, 109, 5, 76, 62, 28, 7, 16, 128, 122, 89, 8, 29, 60, 129, 146, 143, 123, 46, 60, 71, 121, 70, 144, 73, 5, 46, 143, 26, 8, 24, 9, 100, 72, 50, 66, 148, 62, 77, 102, 100, 124, 7, 125, 141, 147, 75, 54, 92, 109, 45, 47, 68, 29, 118, 56, 96, 147, 42, 141, 24, 73, 119, 48]\n",
      "790\n",
      "[55, 1, 84, 147, 144, 38, 110, 126, 143, 48, 127, 5, 111, 145, 32, 142, 138, 146, 60, 10, 70, 8, 68, 98, 148, 130, 86, 72, 109, 66, 73, 116, 54, 130, 95, 82, 36, 16, 122, 49, 39, 16, 48, 117, 40, 49, 134, 72, 77, 66, 14, 96, 18, 39, 144, 58, 61, 33, 123, 142, 90, 148, 55, 141, 16, 82, 72, 113, 127, 26, 143, 90, 40, 86, 97, 17, 31, 120, 117, 134, 54, 125, 4, 102, 52, 27, 74, 142, 138, 46, 8, 116, 13, 64, 95, 6, 103, 74, 89, 72, 96, 100, 12, 31, 70, 97, 52, 106, 49, 95, 43, 61, 23, 140, 26, 148, 74, 112, 70, 51, 80, 10, 60, 118, 77, 53, 47, 69, 11, 78, 137, 24, 66, 124, 36, 69, 90, 68, 62, 22, 79, 134, 15, 128, 45, 5, 141, 139, 30, 72, 38, 76, 30, 33, 115, 105, 96, 51, 37, 7, 66, 0, 90, 147, 95, 19, 63, 48, 91, 138, 38, 117, 126, 67, 7, 12, 138, 96, 6, 111, 39, 30, 26, 94, 18, 101, 128, 141, 119, 61, 35, 130, 95, 71, 26, 49, 21, 54, 48, 115, 56, 68, 61, 11, 132, 7, 113, 5, 13, 33, 82, 43, 41, 47, 6, 29, 112, 13, 63, 76, 36, 143, 88, 141, 37, 43, 92, 124, 114, 74, 81, 141, 142, 45, 32, 46, 62, 55, 70, 7, 56, 47, 92, 51, 109, 34, 116, 123, 14, 119, 22, 93, 37, 42, 59, 10, 112, 38, 78, 136, 136, 137, 138, 80, 29, 28, 72, 43, 149, 50, 63, 66, 114, 39, 112, 87, 147, 23, 136, 36, 88, 80, 71, 115, 93, 125, 142, 113, 39, 90, 63, 146, 142, 119, 31, 85, 132, 126, 114, 80, 86, 127, 71, 63, 141, 132, 114, 1, 14, 106, 101, 62, 122, 129, 4, 42, 86, 91, 16, 29, 84, 104, 8, 136, 50, 128, 147, 97, 142, 82, 78, 38, 1, 125, 34, 50, 113, 120, 75, 72, 82, 105, 104, 100, 121, 39, 145, 33, 79, 123, 72, 6, 143, 88, 84, 142, 141, 73, 9, 97, 23, 92, 42, 75, 80, 110, 88, 144, 94, 36, 122, 47, 140, 91, 106, 2, 126, 23, 22, 79, 141, 64, 42, 122, 123, 47, 105, 65, 82, 80, 101, 67, 50, 82, 39, 66, 81, 63, 131, 123, 16, 85, 24, 42, 4, 26, 109, 94, 8, 33, 109, 42, 21, 121, 128, 10, 3, 119, 124, 38, 24, 3, 17, 68, 48, 82, 56, 107, 55, 22, 91, 43, 53, 119, 85, 82, 55, 102, 29, 87, 116, 64, 61, 107, 21, 58, 47, 87, 149, 88, 103, 37, 61, 90, 56, 83, 114, 6, 81, 86, 2, 73, 15, 104, 8, 9, 92, 85, 126, 18, 43, 116, 143, 46, 47, 131, 138, 59, 89, 69, 94, 67, 9, 26, 145, 52, 90, 134, 30, 120, 67, 80, 83, 149, 7, 57, 35, 121, 146, 31, 4, 55, 5, 129, 124, 127, 143, 69, 70, 19, 102, 94, 101, 97, 95, 16, 73, 72, 88, 87, 5, 24, 133, 0, 60, 127, 34, 86, 146, 109, 9, 113, 71, 124, 89, 102, 82, 122, 144, 99, 113, 126, 133, 87, 140, 8, 92, 134, 129, 40, 71, 126, 117, 130, 56, 64, 24, 5, 76, 13, 139, 146, 81, 95, 98, 23, 100, 78, 126, 105, 102, 104, 17, 1, 37, 13, 119, 2, 91, 107, 74, 147, 104, 53, 131, 90, 15, 121, 108, 82, 67, 56, 115, 143, 71, 96, 73, 112, 58, 2, 112, 31, 1, 46, 117, 24, 28, 70, 86, 67, 47, 0, 29, 16, 52, 103, 91, 77, 108, 56, 0, 70, 92, 75, 9, 116, 38, 103, 71, 54, 138, 123, 70, 50, 102, 80, 136, 103, 99, 77, 79, 10, 25, 34, 142, 111, 71, 74, 24, 29, 149, 53, 82, 11, 115, 123, 64, 141, 84, 14, 44, 64, 76, 30, 26, 140, 66, 20, 36, 68, 124, 77, 23, 12, 37, 29, 97, 148, 108, 14, 8, 112, 114, 125, 51, 60, 140, 126, 4, 139, 97, 83, 49, 136, 100, 130, 2, 138, 29, 53, 2, 112, 84, 103, 25, 32, 117, 38, 71, 113, 57, 121, 94, 72, 37, 39, 89, 80, 1, 119, 80, 10, 58, 66, 128, 74, 122, 109, 5, 76, 62, 28, 7, 16, 128, 122, 89, 8, 29, 60, 129, 146, 143, 123, 46, 60, 71, 121, 70, 144, 73, 5, 46, 143, 26, 8, 24, 9, 100, 72, 50, 66, 148, 62, 77, 102, 100, 124, 7, 125, 141, 147, 75, 54, 92, 109, 45, 47, 68, 29, 118, 56, 96, 147, 42, 141, 24, 73, 119, 48, 37, 54, 61, 135, 74, 106, 68, 59, 3, 98]\n",
      "800\n"
     ]
    }
   ],
   "source": [
    "sample_list_2 = []\n",
    "\n",
    "for i in range(80):\n",
    "\n",
    "    value = random.sample(range(150), k = 10)\n",
    "\n",
    "    sample_list_2 += value\n",
    "\n",
    "    print(sample_list_2)\n",
    "    print(len(sample_list_2))\n"
   ]
  },
  {
   "cell_type": "markdown",
   "metadata": {},
   "source": [
    "#### Convert `sample_list_2` to a set called `set2`. Print the length of the set. Is its length still 80?"
   ]
  },
  {
   "cell_type": "code",
   "execution_count": 43,
   "metadata": {},
   "outputs": [
    {
     "name": "stdout",
     "output_type": "stream",
     "text": [
      "150\n",
      "{0, 1, 2, 3, 4, 5, 6, 7, 8, 9, 10, 11, 12, 13, 14, 15, 16, 17, 18, 19, 20, 21, 22, 23, 24, 25, 26, 27, 28, 29, 30, 31, 32, 33, 34, 35, 36, 37, 38, 39, 40, 41, 42, 43, 44, 45, 46, 47, 48, 49, 50, 51, 52, 53, 54, 55, 56, 57, 58, 59, 60, 61, 62, 63, 64, 65, 66, 67, 68, 69, 70, 71, 72, 73, 74, 75, 76, 77, 78, 79, 80, 81, 82, 83, 84, 85, 86, 87, 88, 89, 90, 91, 92, 93, 94, 95, 96, 97, 98, 99, 100, 101, 102, 103, 104, 105, 106, 107, 108, 109, 110, 111, 112, 113, 114, 115, 116, 117, 118, 119, 120, 121, 122, 123, 124, 125, 126, 127, 128, 129, 130, 131, 132, 133, 134, 135, 136, 137, 138, 139, 140, 141, 142, 143, 144, 145, 146, 147, 148, 149}\n"
     ]
    }
   ],
   "source": [
    "set2 = set(sample_list_2)\n",
    "print(len(set2))\n",
    "print(set2)\n",
    "\n",
    "#NO es el mismo length"
   ]
  },
  {
   "cell_type": "markdown",
   "metadata": {},
   "source": [
    "#### Identify the elements present in `set1` but not in `set2`. Assign the elements to a new set named `set3`."
   ]
  },
  {
   "cell_type": "code",
   "execution_count": 52,
   "metadata": {},
   "outputs": [
    {
     "name": "stdout",
     "output_type": "stream",
     "text": [
      "set()\n"
     ]
    }
   ],
   "source": [
    "set3 = set()\n",
    "\n",
    "for element in range(150):\n",
    "\n",
    "    if element in set1 and element not in set2:\n",
    "\n",
    "        set3.add(element)\n",
    "\n",
    "print(set3)"
   ]
  },
  {
   "cell_type": "markdown",
   "metadata": {},
   "source": [
    "#### Identify the elements present in `set2` but not in `set1`. Assign the elements to a new set named `set4`."
   ]
  },
  {
   "cell_type": "code",
   "execution_count": 54,
   "metadata": {},
   "outputs": [
    {
     "name": "stdout",
     "output_type": "stream",
     "text": [
      "{0, 1, 2, 129, 130, 132, 6, 7, 138, 11, 139, 140, 14, 143, 16, 144, 145, 19, 20, 149, 24, 28, 29, 30, 32, 36, 37, 39, 45, 46, 47, 48, 52, 53, 57, 59, 62, 65, 67, 68, 70, 71, 75, 77, 78, 79, 82, 83, 87, 91, 94, 96, 97, 98, 99, 101, 102, 104, 107, 108, 109, 111, 113, 114, 118, 119, 120, 123, 124, 126}\n"
     ]
    }
   ],
   "source": [
    "set4 = set()\n",
    "\n",
    "for element in range(150):\n",
    "\n",
    "    if element in set2 and element not in set1:\n",
    "\n",
    "        set4.add(element)\n",
    "\n",
    "print(set4)"
   ]
  },
  {
   "cell_type": "markdown",
   "metadata": {},
   "source": [
    "#### Now Identify the elements shared between `set1` and `set2`. Assign the elements to a new set named `set5`."
   ]
  },
  {
   "cell_type": "code",
   "execution_count": 55,
   "metadata": {},
   "outputs": [
    {
     "name": "stdout",
     "output_type": "stream",
     "text": [
      "{3, 4, 5, 8, 9, 10, 12, 13, 15, 17, 18, 21, 22, 23, 25, 26, 27, 31, 33, 34, 35, 38, 40, 41, 42, 43, 44, 49, 50, 51, 54, 55, 56, 58, 60, 61, 63, 64, 66, 69, 72, 73, 74, 76, 80, 81, 84, 85, 86, 88, 89, 90, 92, 93, 95, 100, 103, 105, 106, 110, 112, 115, 116, 117, 121, 122, 125, 127, 128, 131, 133, 134, 135, 136, 137, 141, 142, 146, 147, 148}\n"
     ]
    }
   ],
   "source": [
    "set5 = set1.intersection(set2)\n",
    "print(set5)"
   ]
  },
  {
   "cell_type": "markdown",
   "metadata": {},
   "source": [
    "#### What is the relationship among the following values:\n",
    "\n",
    "* len(set1)\n",
    "* len(set2)\n",
    "* len(set3)\n",
    "* len(set4)\n",
    "* len(set5)\n",
    "\n",
    "Use a math formular to represent that relationship. Test your formular with Python code."
   ]
  },
  {
   "cell_type": "code",
   "execution_count": 63,
   "metadata": {},
   "outputs": [
    {
     "name": "stdout",
     "output_type": "stream",
     "text": [
      "80\n",
      "150\n",
      "0\n",
      "70\n",
      "80\n",
      "True\n"
     ]
    }
   ],
   "source": [
    "print(len(set1))\n",
    "print(len(set2))\n",
    "print(len(set3))\n",
    "print(len(set4))\n",
    "print(len(set5))\n",
    "\n",
    "if len(set1) + len(set4)==len(set2):\n",
    "\n",
    "    print(True)\n",
    "\n",
    "elif len(set4) + len(set5) == len(set2):\n",
    "\n",
    "    print(True)\n",
    "\n",
    "else:\n",
    "\n",
    "    print(False)"
   ]
  },
  {
   "cell_type": "markdown",
   "metadata": {},
   "source": [
    "#### Create an empty set called `set6`."
   ]
  },
  {
   "cell_type": "code",
   "execution_count": 67,
   "metadata": {},
   "outputs": [],
   "source": [
    "set6 = set()"
   ]
  },
  {
   "cell_type": "markdown",
   "metadata": {},
   "source": [
    "#### Add `set3` and `set5` to `set6` using the Python Set `update` method."
   ]
  },
  {
   "cell_type": "code",
   "execution_count": 68,
   "metadata": {},
   "outputs": [
    {
     "name": "stdout",
     "output_type": "stream",
     "text": [
      "{3, 4, 5, 8, 9, 10, 12, 13, 15, 17, 18, 21, 22, 23, 25, 26, 27, 31, 33, 34, 35, 38, 40, 41, 42, 43, 44, 49, 50, 51, 54, 55, 56, 58, 60, 61, 63, 64, 66, 69, 72, 73, 74, 76, 80, 81, 84, 85, 86, 88, 89, 90, 92, 93, 95, 100, 103, 105, 106, 110, 112, 115, 116, 117, 121, 122, 125, 127, 128, 131, 133, 134, 135, 136, 137, 141, 142, 146, 147, 148}\n"
     ]
    }
   ],
   "source": [
    "set6.update(set3)\n",
    "set6.update(set5)\n",
    "print(set6)"
   ]
  },
  {
   "cell_type": "markdown",
   "metadata": {},
   "source": [
    "#### Check if `set1` and `set6` are equal."
   ]
  },
  {
   "cell_type": "code",
   "execution_count": 70,
   "metadata": {},
   "outputs": [
    {
     "name": "stdout",
     "output_type": "stream",
     "text": [
      "Si, son iguales\n"
     ]
    }
   ],
   "source": [
    "if set1 == set6:\n",
    "\n",
    "    print(\"Si, son iguales\")"
   ]
  },
  {
   "cell_type": "markdown",
   "metadata": {},
   "source": [
    "#### Check if `set1` contains `set2` using the Python Set `issubset` method. Then check if `set1` contains `set3`.*"
   ]
  },
  {
   "cell_type": "code",
   "execution_count": 72,
   "metadata": {},
   "outputs": [
    {
     "ename": "AttributeError",
     "evalue": "'set' object has no attribute 'issubet'",
     "output_type": "error",
     "traceback": [
      "\u001B[1;31m---------------------------------------------------------------------------\u001B[0m",
      "\u001B[1;31mAttributeError\u001B[0m                            Traceback (most recent call last)",
      "\u001B[1;32mC:\\Users\\PLATER~1\\AppData\\Local\\Temp/ipykernel_12820/2411156195.py\u001B[0m in \u001B[0;36m<module>\u001B[1;34m\u001B[0m\n\u001B[1;32m----> 1\u001B[1;33m \u001B[0mprint\u001B[0m\u001B[1;33m(\u001B[0m\u001B[0mset2\u001B[0m\u001B[1;33m.\u001B[0m\u001B[0missubet\u001B[0m\u001B[1;33m(\u001B[0m\u001B[0mset1\u001B[0m\u001B[1;33m)\u001B[0m\u001B[1;33m)\u001B[0m\u001B[1;33m\u001B[0m\u001B[1;33m\u001B[0m\u001B[0m\n\u001B[0m\u001B[0;32m      2\u001B[0m \u001B[0mprint\u001B[0m\u001B[1;33m(\u001B[0m\u001B[0mset3\u001B[0m\u001B[1;33m.\u001B[0m\u001B[0missubset\u001B[0m\u001B[1;33m(\u001B[0m\u001B[0mset1\u001B[0m\u001B[1;33m)\u001B[0m\u001B[1;33m)\u001B[0m\u001B[1;33m\u001B[0m\u001B[1;33m\u001B[0m\u001B[0m\n",
      "\u001B[1;31mAttributeError\u001B[0m: 'set' object has no attribute 'issubet'"
     ]
    }
   ],
   "source": [
    "print(set2.issubet(set1))\n",
    "print(set3.issubset(set1))"
   ]
  },
  {
   "cell_type": "markdown",
   "metadata": {},
   "source": [
    "#### Using the Python Set `union` method, aggregate `set3`, `set4`, and `set5`. Then aggregate `set1` and `set2`."
   ]
  },
  {
   "cell_type": "code",
   "execution_count": 74,
   "metadata": {},
   "outputs": [
    {
     "name": "stdout",
     "output_type": "stream",
     "text": [
      "{0, 1, 2, 3, 4, 5, 6, 7, 8, 9, 10, 11, 12, 13, 14, 15, 16, 17, 18, 19, 20, 21, 22, 23, 24, 25, 26, 27, 28, 29, 30, 31, 32, 33, 34, 35, 36, 37, 38, 39, 40, 41, 42, 43, 44, 45, 46, 47, 48, 49, 50, 51, 52, 53, 54, 55, 56, 57, 58, 59, 60, 61, 62, 63, 64, 65, 66, 67, 68, 69, 70, 71, 72, 73, 74, 75, 76, 77, 78, 79, 80, 81, 82, 83, 84, 85, 86, 87, 88, 89, 90, 91, 92, 93, 94, 95, 96, 97, 98, 99, 100, 101, 102, 103, 104, 105, 106, 107, 108, 109, 110, 111, 112, 113, 114, 115, 116, 117, 118, 119, 120, 121, 122, 123, 124, 125, 126, 127, 128, 129, 130, 131, 132, 133, 134, 135, 136, 137, 138, 139, 140, 141, 142, 143, 144, 145, 146, 147, 148, 149}\n",
      "{0, 1, 2, 3, 4, 5, 6, 7, 8, 9, 10, 11, 12, 13, 14, 15, 16, 17, 18, 19, 20, 21, 22, 23, 24, 25, 26, 27, 28, 29, 30, 31, 32, 33, 34, 35, 36, 37, 38, 39, 40, 41, 42, 43, 44, 45, 46, 47, 48, 49, 50, 51, 52, 53, 54, 55, 56, 57, 58, 59, 60, 61, 62, 63, 64, 65, 66, 67, 68, 69, 70, 71, 72, 73, 74, 75, 76, 77, 78, 79, 80, 81, 82, 83, 84, 85, 86, 87, 88, 89, 90, 91, 92, 93, 94, 95, 96, 97, 98, 99, 100, 101, 102, 103, 104, 105, 106, 107, 108, 109, 110, 111, 112, 113, 114, 115, 116, 117, 118, 119, 120, 121, 122, 123, 124, 125, 126, 127, 128, 129, 130, 131, 132, 133, 134, 135, 136, 137, 138, 139, 140, 141, 142, 143, 144, 145, 146, 147, 148, 149}\n"
     ]
    }
   ],
   "source": [
    "aggregatev1 = set3.union(set4, set5)\n",
    "aggregatev2 = set1.union(set2)\n",
    "\n",
    "print(aggregatev1)\n",
    "print(aggregatev2)"
   ]
  },
  {
   "cell_type": "markdown",
   "metadata": {},
   "source": [
    "#### Check if the aggregated values are equal."
   ]
  },
  {
   "cell_type": "code",
   "execution_count": 75,
   "metadata": {},
   "outputs": [
    {
     "name": "stdout",
     "output_type": "stream",
     "text": [
      "Si, son iguales\n"
     ]
    }
   ],
   "source": [
    "if aggregatev1 == aggregatev2:\n",
    "\n",
    "    print(\"Si, son iguales\")"
   ]
  },
  {
   "cell_type": "markdown",
   "metadata": {},
   "source": [
    "#### Using the `pop` method, remove the first element from `set1`."
   ]
  },
  {
   "cell_type": "code",
   "execution_count": null,
   "metadata": {},
   "outputs": [],
   "source": [
    "#No me funciona , sets desordenadas y pop no???"
   ]
  },
  {
   "cell_type": "markdown",
   "metadata": {},
   "source": [
    "#### Remove every element in the following list from `set1` if they are present in the set. Print the remaining elements.\n",
    "\n",
    "```\n",
    "list_to_remove = [1, 9, 11, 19, 21, 29, 31, 39, 41, 49, 51, 59, 61, 69, 71, 79, 81, 89, 91, 99]\n",
    "```"
   ]
  },
  {
   "cell_type": "code",
   "execution_count": 77,
   "metadata": {},
   "outputs": [
    {
     "name": "stdout",
     "output_type": "stream",
     "text": [
      "{3, 4, 5, 8, 10, 12, 13, 15, 17, 18, 22, 23, 25, 26, 27, 33, 34, 35, 38, 40, 42, 43, 44, 50, 54, 55, 56, 58, 60, 63, 64, 66, 72, 73, 74, 76, 80, 84, 85, 86, 88, 90, 92, 93, 95, 100, 103, 105, 106, 110, 112, 115, 116, 117, 121, 122, 125, 127, 128, 131, 133, 134, 135, 136, 137, 141, 142, 146, 147, 148}\n"
     ]
    }
   ],
   "source": [
    "list_to_remove = [1, 9, 11, 19, 21, 29, 31, 39, 41, 49, 51, 59, 61, 69, 71, 79, 81, 89, 91, 99]\n",
    "\n",
    "for value in list_to_remove:\n",
    "\n",
    "    if value in set1:\n",
    "\n",
    "        set1.remove(value)\n",
    "\n",
    "print(set1)"
   ]
  },
  {
   "cell_type": "markdown",
   "metadata": {},
   "source": [
    "## Challenge 3: Dictionaries\n",
    "\n",
    "In this challenge you will practice how to manipulate Python dictionaries. Before starting on this challenge, you are encouraged to review W3School's [Python Dictionary Examples and Methods](https://www.w3schools.com/python/python_dictionaries.asp).\n",
    "\n",
    "First thing you will practice is how to sort the keys in a dictionary. Unlike the list object, Python dictionary does not have a built-in *sort* method. You'll need to use FOR loops to to sort dictionaries either by key or by value.\n",
    "\n",
    "The dictionary below is a summary of the word frequency of Ed Sheeran's song *Shape of You*. Each key is a word in the lyrics and the value is the number of times that word appears in the lyrics."
   ]
  },
  {
   "cell_type": "code",
   "execution_count": 80,
   "metadata": {},
   "outputs": [],
   "source": [
    "word_freq = {'love': 25, 'conversation': 1, 'every': 6, \"we're\": 1, 'plate': 1, 'sour': 1, 'jukebox': 1, 'now': 11, 'taxi': 1, 'fast': 1, 'bag': 1, 'man': 1, 'push': 3, 'baby': 14, 'going': 1, 'you': 16, \"don't\": 2, 'one': 1, 'mind': 2, 'backseat': 1, 'friends': 1, 'then': 3, 'know': 2, 'take': 1, 'play': 1, 'okay': 1, 'so': 2, 'begin': 1, 'start': 2, 'over': 1, 'body': 17, 'boy': 2, 'just': 1, 'we': 7, 'are': 1, 'girl': 2, 'tell': 1, 'singing': 2, 'drinking': 1, 'put': 3, 'our': 1, 'where': 1, \"i'll\": 1, 'all': 1, \"isn't\": 1, 'make': 1, 'lover': 1, 'get': 1, 'radio': 1, 'give': 1, \"i'm\": 23, 'like': 10, 'can': 1, 'doing': 2, 'with': 22, 'club': 1, 'come': 37, 'it': 1, 'somebody': 2, 'handmade': 2, 'out': 1, 'new': 6, 'room': 3, 'chance': 1, 'follow': 6, 'in': 27, 'may': 2, 'brand': 6, 'that': 2, 'magnet': 3, 'up': 3, 'first': 1, 'and': 23, 'pull': 3, 'of': 6, 'table': 1, 'much': 2, 'last': 3, 'i': 6, 'thrifty': 1, 'grab': 2, 'was': 2, 'driver': 1, 'slow': 1, 'dance': 1, 'the': 18, 'say': 2, 'trust': 1, 'family': 1, 'week': 1, 'date': 1, 'me': 10, 'do': 3, 'waist': 2, 'smell': 3, 'day': 6, 'although': 3, 'your': 21, 'leave': 1, 'want': 2, \"let's\": 2, 'lead': 6, 'at': 1, 'hand': 1, 'how': 1, 'talk': 4, 'not': 2, 'eat': 1, 'falling': 3, 'about': 1, 'story': 1, 'sweet': 1, 'best': 1, 'crazy': 2, 'let': 1, 'too': 5, 'van': 1, 'shots': 1, 'go': 2, 'to': 2, 'a': 8, 'my': 33, 'is': 5, 'place': 1, 'find': 1, 'shape': 6, 'on': 40, 'kiss': 1, 'were': 3, 'night': 3, 'heart': 3, 'for': 3, 'discovering': 6, 'something': 6, 'be': 16, 'bedsheets': 3, 'fill': 2, 'hours': 2, 'stop': 1, 'bar': 1}"
   ]
  },
  {
   "cell_type": "markdown",
   "metadata": {},
   "source": [
    "#### Sort the keys of `word_freq` ascendingly.\n",
    "\n",
    "Please create a new dictionary called `word_freq2` based on `word_freq` with the keys sorted ascedingly.\n",
    "\n",
    "There are several ways to achieve that goal but many of the ways are beyond what we have covered so far in the course. There is one way that we'll describe employing what you have learned. Please feel free to use this way or any other way you want.\n",
    "\n",
    "1. First extract the keys of `word_freq` and convert it to a list called `keys`.\n",
    "\n",
    "1. Sort the `keys` list.\n",
    "\n",
    "1. Create an empty dictionary `word_freq2`.\n",
    "\n",
    "1. Use a FOR loop to iterate each value in `keys`. For each key iterated, find the corresponding value in `word_freq` and insert the key-value pair to `word_freq2`.\n",
    "\n",
    "Print out `word_freq2` to examine its keys and values. Your output should be:\n",
    "\n",
    "```python\n",
    "{'a': 8, 'about': 1, 'all': 1, 'although': 3, 'and': 23, 'are': 1, 'at': 1, 'baby': 14, 'backseat': 1, 'bag': 1, 'bar': 1, 'be': 16, 'bedsheets': 3, 'begin': 1, 'best': 1, 'body': 17, 'boy': 2, 'brand': 6, 'can': 1, 'chance': 1, 'club': 1, 'come': 37, 'conversation': 1, 'crazy': 2, 'dance': 1, 'date': 1, 'day': 6, 'discovering': 6, 'do': 3, 'doing': 2, \"don't\": 2, 'drinking': 1, 'driver': 1, 'eat': 1, 'every': 6, 'falling': 3, 'family': 1, 'fast': 1, 'fill': 2, 'find': 1, 'first': 1, 'follow': 6, 'for': 3, 'friends': 1, 'get': 1, 'girl': 2, 'give': 1, 'go': 2, 'going': 1, 'grab': 2, 'hand': 1, 'handmade': 2, 'heart': 3, 'hours': 2, 'how': 1, 'i': 6, \"i'll\": 1, \"i'm\": 23, 'in': 27, 'is': 5, \"isn't\": 1, 'it': 1, 'jukebox': 1, 'just': 1, 'kiss': 1, 'know': 2, 'last': 3, 'lead': 6, 'leave': 1, 'let': 1, \"let's\": 2, 'like': 10, 'love': 25, 'lover': 1, 'magnet': 3, 'make': 1, 'man': 1, 'may': 2, 'me': 10, 'mind': 2, 'much': 2, 'my': 33, 'new': 6, 'night': 3, 'not': 2, 'now': 11, 'of': 6, 'okay': 1, 'on': 40, 'one': 1, 'our': 1, 'out': 1, 'over': 1, 'place': 1, 'plate': 1, 'play': 1, 'pull': 3, 'push': 3, 'put': 3, 'radio': 1, 'room': 3, 'say': 2, 'shape': 6, 'shots': 1, 'singing': 2, 'slow': 1, 'smell': 3, 'so': 2, 'somebody': 2, 'something': 6, 'sour': 1, 'start': 2, 'stop': 1, 'story': 1, 'sweet': 1, 'table': 1, 'take': 1, 'talk': 4, 'taxi': 1, 'tell': 1, 'that': 2, 'the': 18, 'then': 3, 'thrifty': 1, 'to': 2, 'too': 5, 'trust': 1, 'up': 3, 'van': 1, 'waist': 2, 'want': 2, 'was': 2, 'we': 7, \"we're\": 1, 'week': 1, 'were': 3, 'where': 1, 'with': 22, 'you': 16, 'your': 21}\n",
    "```"
   ]
  },
  {
   "cell_type": "code",
   "execution_count": 82,
   "metadata": {},
   "outputs": [
    {
     "name": "stdout",
     "output_type": "stream",
     "text": [
      "{'a': 8, 'about': 1, 'all': 1, 'although': 3, 'and': 23, 'are': 1, 'at': 1, 'baby': 14, 'backseat': 1, 'bag': 1, 'bar': 1, 'be': 16, 'bedsheets': 3, 'begin': 1, 'best': 1, 'body': 17, 'boy': 2, 'brand': 6, 'can': 1, 'chance': 1, 'club': 1, 'come': 37, 'conversation': 1, 'crazy': 2, 'dance': 1, 'date': 1, 'day': 6, 'discovering': 6, 'do': 3, 'doing': 2, \"don't\": 2, 'drinking': 1, 'driver': 1, 'eat': 1, 'every': 6, 'falling': 3, 'family': 1, 'fast': 1, 'fill': 2, 'find': 1, 'first': 1, 'follow': 6, 'for': 3, 'friends': 1, 'get': 1, 'girl': 2, 'give': 1, 'go': 2, 'going': 1, 'grab': 2, 'hand': 1, 'handmade': 2, 'heart': 3, 'hours': 2, 'how': 1, 'i': 6, \"i'll\": 1, \"i'm\": 23, 'in': 27, 'is': 5, \"isn't\": 1, 'it': 1, 'jukebox': 1, 'just': 1, 'kiss': 1, 'know': 2, 'last': 3, 'lead': 6, 'leave': 1, 'let': 1, \"let's\": 2, 'like': 10, 'love': 25, 'lover': 1, 'magnet': 3, 'make': 1, 'man': 1, 'may': 2, 'me': 10, 'mind': 2, 'much': 2, 'my': 33, 'new': 6, 'night': 3, 'not': 2, 'now': 11, 'of': 6, 'okay': 1, 'on': 40, 'one': 1, 'our': 1, 'out': 1, 'over': 1, 'place': 1, 'plate': 1, 'play': 1, 'pull': 3, 'push': 3, 'put': 3, 'radio': 1, 'room': 3, 'say': 2, 'shape': 6, 'shots': 1, 'singing': 2, 'slow': 1, 'smell': 3, 'so': 2, 'somebody': 2, 'something': 6, 'sour': 1, 'start': 2, 'stop': 1, 'story': 1, 'sweet': 1, 'table': 1, 'take': 1, 'talk': 4, 'taxi': 1, 'tell': 1, 'that': 2, 'the': 18, 'then': 3, 'thrifty': 1, 'to': 2, 'too': 5, 'trust': 1, 'up': 3, 'van': 1, 'waist': 2, 'want': 2, 'was': 2, 'we': 7, \"we're\": 1, 'week': 1, 'were': 3, 'where': 1, 'with': 22, 'you': 16, 'your': 21}\n"
     ]
    }
   ],
   "source": [
    "\n",
    "\n",
    "keys = sorted(list(word_freq.keys()))\n",
    "\n",
    "word_freq2 = {}\n",
    "\n",
    "for key in keys:\n",
    "\n",
    "    value= word_freq[key]\n",
    "\n",
    "    word_freq2[key]= value\n",
    "\n",
    "print(word_freq2)\n",
    "\n"
   ]
  },
  {
   "cell_type": "markdown",
   "metadata": {},
   "source": [
    "#### Sort the values of `word_freq` ascendingly.\n",
    "\n",
    "Sorting the values of a dictionary is more tricky than sorting the keys because a dictionary's values are not unique. Therefore you cannot use the same way you sorted dict keys to sort dict values.\n",
    "\n",
    "The way to sort a dict by value is to utilize the `sorted` and `operator.itemgetter` functions. The following code snippet is provided to you to try. It will give you a list of tuples in which each tuple contains the key and value of a dict item. And the list is sorted based on the dict value ( [reference](http://thomas-cokelaer.info/blog/2017/12/how-to-sort-a-dictionary-by-values-in-python/)\n",
    ").\n",
    "\n",
    "```python\n",
    "import operator\n",
    "sorted_tups = sorted(word_freq.items(), key=operator.itemgetter(1))\n",
    "print(sorted_tups)\n",
    "```\n",
    "\n",
    "Therefore, the steps to sort `word_freq` by value are:\n",
    "\n",
    "* Using `sorted` and `operator.itemgetter`, obtain a list of tuples of the dict key-value pairs which is sorted on the value.\n",
    "\n",
    "* Create an empty dictionary named `word_freq2`.\n",
    "\n",
    "* Iterate the list of tuples. Insert each key-value pair into `word_freq2` as an object.\n",
    "\n",
    "Print `word_freq2` to confirm your dictionary has its values sorted. Your output should be:\n",
    "\n",
    "```python\n",
    "{'conversation': 1, \"we're\": 1, 'plate': 1, 'sour': 1, 'jukebox': 1, 'taxi': 1, 'fast': 1, 'bag': 1, 'man': 1, 'going': 1, 'one': 1, 'backseat': 1, 'friends': 1, 'take': 1, 'play': 1, 'okay': 1, 'begin': 1, 'over': 1, 'just': 1, 'are': 1, 'tell': 1, 'drinking': 1, 'our': 1, 'where': 1, \"i'll\": 1, 'all': 1, \"isn't\": 1, 'make': 1, 'lover': 1, 'get': 1, 'radio': 1, 'give': 1, 'can': 1, 'club': 1, 'it': 1, 'out': 1, 'chance': 1, 'first': 1, 'table': 1, 'thrifty': 1, 'driver': 1, 'slow': 1, 'dance': 1, 'trust': 1, 'family': 1, 'week': 1, 'date': 1, 'leave': 1, 'at': 1, 'hand': 1, 'how': 1, 'eat': 1, 'about': 1, 'story': 1, 'sweet': 1, 'best': 1, 'let': 1, 'van': 1, 'shots': 1, 'place': 1, 'find': 1, 'kiss': 1, 'stop': 1, 'bar': 1, \"don't\": 2, 'mind': 2, 'know': 2, 'so': 2, 'start': 2, 'boy': 2, 'girl': 2, 'singing': 2, 'doing': 2, 'somebody': 2, 'handmade': 2, 'may': 2, 'that': 2, 'much': 2, 'grab': 2, 'was': 2, 'say': 2, 'waist': 2, 'want': 2, \"let's\": 2, 'not': 2, 'crazy': 2, 'go': 2, 'to': 2, 'fill': 2, 'hours': 2, 'push': 3, 'then': 3, 'put': 3, 'room': 3, 'magnet': 3, 'up': 3, 'pull': 3, 'last': 3, 'do': 3, 'smell': 3, 'although': 3, 'falling': 3, 'were': 3, 'night': 3, 'heart': 3, 'for': 3, 'bedsheets': 3, 'talk': 4, 'too': 5, 'is': 5, 'every': 6, 'new': 6, 'follow': 6, 'brand': 6, 'of': 6, 'i': 6, 'day': 6, 'lead': 6, 'shape': 6, 'discovering': 6, 'something': 6, 'we': 7, 'a': 8, 'like': 10, 'me': 10, 'now': 11, 'baby': 14, 'you': 16, 'be': 16, 'body': 17, 'the': 18, 'your': 21, 'with': 22, \"i'm\": 23, 'and': 23, 'love': 25, 'in': 27, 'my': 33, 'come': 37, 'on': 40}\n",
    "```"
   ]
  },
  {
   "cell_type": "code",
   "execution_count": null,
   "metadata": {},
   "outputs": [],
   "source": [
    "import operator\n",
    "sorted_tups = sorted(word_freq.items(), key=operator.itemgetter(1))\n",
    "print(sorted_tups)\n",
    "\n",
    "word_freq2 = {}\n",
    "\n",
    "for tup in sorted_tups:"
   ]
  }
 ],
 "metadata": {
  "kernelspec": {
   "display_name": "Python 3 (ipykernel)",
   "language": "python",
   "name": "python3"
  },
  "language_info": {
   "codemirror_mode": {
    "name": "ipython",
    "version": 3
   },
   "file_extension": ".py",
   "mimetype": "text/x-python",
   "name": "python",
   "nbconvert_exporter": "python",
   "pygments_lexer": "ipython3",
   "version": "3.9.7"
  },
  "toc": {
   "base_numbering": 1,
   "nav_menu": {},
   "number_sections": true,
   "sideBar": true,
   "skip_h1_title": false,
   "title_cell": "Table of Contents",
   "title_sidebar": "Contents",
   "toc_cell": true,
   "toc_position": {},
   "toc_section_display": true,
   "toc_window_display": false
  },
  "varInspector": {
   "cols": {
    "lenName": 16,
    "lenType": 16,
    "lenVar": 40
   },
   "kernels_config": {
    "python": {
     "delete_cmd_postfix": "",
     "delete_cmd_prefix": "del ",
     "library": "var_list.py",
     "varRefreshCmd": "print(var_dic_list())"
    },
    "r": {
     "delete_cmd_postfix": ") ",
     "delete_cmd_prefix": "rm(",
     "library": "var_list.r",
     "varRefreshCmd": "cat(var_dic_list()) "
    }
   },
   "types_to_exclude": [
    "module",
    "function",
    "builtin_function_or_method",
    "instance",
    "_Feature"
   ],
   "window_display": false
  }
 },
 "nbformat": 4,
 "nbformat_minor": 2
}